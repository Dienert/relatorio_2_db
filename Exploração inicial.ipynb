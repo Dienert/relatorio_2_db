{
 "cells": [
  {
   "cell_type": "code",
   "execution_count": 4,
   "metadata": {},
   "outputs": [],
   "source": [
    "#!pip install mysql\n",
    "#!pip install psycopg2\n",
    "#!pip install plotly"
   ]
  },
  {
   "cell_type": "code",
   "execution_count": 1,
   "metadata": {},
   "outputs": [],
   "source": [
    "import mysql.connector\n",
    "import pandas as pd\n",
    "import psycopg2\n",
    "from utils import groupby_operation, show_value_counts\n",
    "import plotly\n",
    "from plotly.offline import download_plotlyjs, init_notebook_mode, plot, iplot\n",
    "import plotly.graph_objs as go"
   ]
  },
  {
   "cell_type": "code",
   "execution_count": 3,
   "metadata": {},
   "outputs": [
    {
     "data": {
      "text/html": [
       "<div>\n",
       "<style scoped>\n",
       "    .dataframe tbody tr th:only-of-type {\n",
       "        vertical-align: middle;\n",
       "    }\n",
       "\n",
       "    .dataframe tbody tr th {\n",
       "        vertical-align: top;\n",
       "    }\n",
       "\n",
       "    .dataframe thead th {\n",
       "        text-align: right;\n",
       "    }\n",
       "</style>\n",
       "<table border=\"1\" class=\"dataframe\">\n",
       "  <thead>\n",
       "    <tr style=\"text-align: right;\">\n",
       "      <th></th>\n",
       "      <th>id</th>\n",
       "      <th>name</th>\n",
       "      <th>email</th>\n",
       "    </tr>\n",
       "  </thead>\n",
       "  <tbody>\n",
       "    <tr>\n",
       "      <td>0</td>\n",
       "      <td>4001</td>\n",
       "      <td>Ariel Swift Jr.</td>\n",
       "      <td>ezequiel.kreiger@example.net</td>\n",
       "    </tr>\n",
       "    <tr>\n",
       "      <td>1</td>\n",
       "      <td>4002</td>\n",
       "      <td>Dr. Daisy Waters</td>\n",
       "      <td>lemuel.howe@example.net</td>\n",
       "    </tr>\n",
       "    <tr>\n",
       "      <td>2</td>\n",
       "      <td>4003</td>\n",
       "      <td>Beatrice Wisozk</td>\n",
       "      <td>von.alison@example.com</td>\n",
       "    </tr>\n",
       "    <tr>\n",
       "      <td>3</td>\n",
       "      <td>4004</td>\n",
       "      <td>Jovani Zboncak V</td>\n",
       "      <td>krajcik.zane@example.org</td>\n",
       "    </tr>\n",
       "    <tr>\n",
       "      <td>4</td>\n",
       "      <td>4005</td>\n",
       "      <td>Mr. Jaquan Davis Jr.</td>\n",
       "      <td>janis37@example.org</td>\n",
       "    </tr>\n",
       "    <tr>\n",
       "      <td>...</td>\n",
       "      <td>...</td>\n",
       "      <td>...</td>\n",
       "      <td>...</td>\n",
       "    </tr>\n",
       "    <tr>\n",
       "      <td>3995</td>\n",
       "      <td>7996</td>\n",
       "      <td>Maxime Buckridge</td>\n",
       "      <td>lukas72@example.net</td>\n",
       "    </tr>\n",
       "    <tr>\n",
       "      <td>3996</td>\n",
       "      <td>7997</td>\n",
       "      <td>Casimir Mann</td>\n",
       "      <td>verda.beier@example.net</td>\n",
       "    </tr>\n",
       "    <tr>\n",
       "      <td>3997</td>\n",
       "      <td>7998</td>\n",
       "      <td>Braulio Kulas</td>\n",
       "      <td>providenci.raynor@example.com</td>\n",
       "    </tr>\n",
       "    <tr>\n",
       "      <td>3998</td>\n",
       "      <td>7999</td>\n",
       "      <td>Willa Kris</td>\n",
       "      <td>annabelle01@example.org</td>\n",
       "    </tr>\n",
       "    <tr>\n",
       "      <td>3999</td>\n",
       "      <td>8000</td>\n",
       "      <td>Miss Bonnie Wiza</td>\n",
       "      <td>pstoltenberg@example.net</td>\n",
       "    </tr>\n",
       "  </tbody>\n",
       "</table>\n",
       "<p>4000 rows × 3 columns</p>\n",
       "</div>"
      ],
      "text/plain": [
       "        id                  name                          email\n",
       "0     4001       Ariel Swift Jr.   ezequiel.kreiger@example.net\n",
       "1     4002      Dr. Daisy Waters        lemuel.howe@example.net\n",
       "2     4003       Beatrice Wisozk         von.alison@example.com\n",
       "3     4004      Jovani Zboncak V       krajcik.zane@example.org\n",
       "4     4005  Mr. Jaquan Davis Jr.            janis37@example.org\n",
       "...    ...                   ...                            ...\n",
       "3995  7996      Maxime Buckridge            lukas72@example.net\n",
       "3996  7997          Casimir Mann        verda.beier@example.net\n",
       "3997  7998         Braulio Kulas  providenci.raynor@example.com\n",
       "3998  7999            Willa Kris        annabelle01@example.org\n",
       "3999  8000      Miss Bonnie Wiza       pstoltenberg@example.net\n",
       "\n",
       "[4000 rows x 3 columns]"
      ]
     },
     "execution_count": 3,
     "metadata": {},
     "output_type": "execute_result"
    }
   ],
   "source": [
    "mydb = mysql.connector.connect(\n",
    "  host=\"localhost\",\n",
    "  user=\"root\",\n",
    "  passwd=\"admin\",\n",
    "  database=\"teste\"\n",
    ")\n",
    "\n",
    "mycursor = mydb.cursor()\n",
    "\n",
    "mycursor.execute(\"SELECT * FROM clients\")\n",
    "\n",
    "dados = mycursor.fetchall()\n",
    "\n",
    "clients = pd.DataFrame(dados, columns=['id', 'name', 'email'])\n",
    "clients"
   ]
  },
  {
   "cell_type": "code",
   "execution_count": 4,
   "metadata": {},
   "outputs": [
    {
     "data": {
      "text/html": [
       "<div>\n",
       "<style scoped>\n",
       "    .dataframe tbody tr th:only-of-type {\n",
       "        vertical-align: middle;\n",
       "    }\n",
       "\n",
       "    .dataframe tbody tr th {\n",
       "        vertical-align: top;\n",
       "    }\n",
       "\n",
       "    .dataframe thead th {\n",
       "        text-align: right;\n",
       "    }\n",
       "</style>\n",
       "<table border=\"1\" class=\"dataframe\">\n",
       "  <thead>\n",
       "    <tr style=\"text-align: right;\">\n",
       "      <th></th>\n",
       "      <th>id</th>\n",
       "      <th>product</th>\n",
       "      <th>price</th>\n",
       "    </tr>\n",
       "  </thead>\n",
       "  <tbody>\n",
       "    <tr>\n",
       "      <td>0</td>\n",
       "      <td>201</td>\n",
       "      <td>Konopelski Groves</td>\n",
       "      <td>255.800</td>\n",
       "    </tr>\n",
       "    <tr>\n",
       "      <td>1</td>\n",
       "      <td>202</td>\n",
       "      <td>Zemlak Manor</td>\n",
       "      <td>862.340</td>\n",
       "    </tr>\n",
       "    <tr>\n",
       "      <td>2</td>\n",
       "      <td>203</td>\n",
       "      <td>Lueilwitz Lane</td>\n",
       "      <td>2905.840</td>\n",
       "    </tr>\n",
       "    <tr>\n",
       "      <td>3</td>\n",
       "      <td>204</td>\n",
       "      <td>Will Creek</td>\n",
       "      <td>3093.700</td>\n",
       "    </tr>\n",
       "    <tr>\n",
       "      <td>4</td>\n",
       "      <td>205</td>\n",
       "      <td>Mattie Field</td>\n",
       "      <td>3396.850</td>\n",
       "    </tr>\n",
       "    <tr>\n",
       "      <td>...</td>\n",
       "      <td>...</td>\n",
       "      <td>...</td>\n",
       "      <td>...</td>\n",
       "    </tr>\n",
       "    <tr>\n",
       "      <td>195</td>\n",
       "      <td>396</td>\n",
       "      <td>Armstrong Isle</td>\n",
       "      <td>522.389</td>\n",
       "    </tr>\n",
       "    <tr>\n",
       "      <td>196</td>\n",
       "      <td>397</td>\n",
       "      <td>Clarissa Drives</td>\n",
       "      <td>276.300</td>\n",
       "    </tr>\n",
       "    <tr>\n",
       "      <td>197</td>\n",
       "      <td>398</td>\n",
       "      <td>Chet Loaf</td>\n",
       "      <td>1573.320</td>\n",
       "    </tr>\n",
       "    <tr>\n",
       "      <td>198</td>\n",
       "      <td>399</td>\n",
       "      <td>Esther Glen</td>\n",
       "      <td>1342.950</td>\n",
       "    </tr>\n",
       "    <tr>\n",
       "      <td>199</td>\n",
       "      <td>400</td>\n",
       "      <td>Erna Mountain</td>\n",
       "      <td>1045.200</td>\n",
       "    </tr>\n",
       "  </tbody>\n",
       "</table>\n",
       "<p>200 rows × 3 columns</p>\n",
       "</div>"
      ],
      "text/plain": [
       "      id            product     price\n",
       "0    201  Konopelski Groves   255.800\n",
       "1    202       Zemlak Manor   862.340\n",
       "2    203     Lueilwitz Lane  2905.840\n",
       "3    204         Will Creek  3093.700\n",
       "4    205       Mattie Field  3396.850\n",
       "..   ...                ...       ...\n",
       "195  396     Armstrong Isle   522.389\n",
       "196  397    Clarissa Drives   276.300\n",
       "197  398          Chet Loaf  1573.320\n",
       "198  399        Esther Glen  1342.950\n",
       "199  400      Erna Mountain  1045.200\n",
       "\n",
       "[200 rows x 3 columns]"
      ]
     },
     "execution_count": 4,
     "metadata": {},
     "output_type": "execute_result"
    }
   ],
   "source": [
    "mycursor = mydb.cursor()\n",
    "\n",
    "mycursor.execute(\"SELECT * FROM products\")\n",
    "\n",
    "dados = mycursor.fetchall()\n",
    "\n",
    "produtos = pd.DataFrame(dados, columns=['id', 'product', 'price'])\n",
    "produtos"
   ]
  },
  {
   "cell_type": "code",
   "execution_count": 5,
   "metadata": {},
   "outputs": [
    {
     "data": {
      "text/html": [
       "<div>\n",
       "<style scoped>\n",
       "    .dataframe tbody tr th:only-of-type {\n",
       "        vertical-align: middle;\n",
       "    }\n",
       "\n",
       "    .dataframe tbody tr th {\n",
       "        vertical-align: top;\n",
       "    }\n",
       "\n",
       "    .dataframe thead th {\n",
       "        text-align: right;\n",
       "    }\n",
       "</style>\n",
       "<table border=\"1\" class=\"dataframe\">\n",
       "  <thead>\n",
       "    <tr style=\"text-align: right;\">\n",
       "      <th></th>\n",
       "      <th>sale_item_id</th>\n",
       "      <th>sale_id</th>\n",
       "      <th>product_id</th>\n",
       "      <th>price</th>\n",
       "      <th>quantity</th>\n",
       "      <th>client_id</th>\n",
       "      <th>created_at</th>\n",
       "      <th>updated_at</th>\n",
       "    </tr>\n",
       "  </thead>\n",
       "  <tbody>\n",
       "    <tr>\n",
       "      <td>0</td>\n",
       "      <td>000132ac-e203-3cae-aa15-b6a272b870b2</td>\n",
       "      <td>442bc2f0-22d3-3c8a-9f71-0f9c16cee0b2</td>\n",
       "      <td>296</td>\n",
       "      <td>2433.800</td>\n",
       "      <td>3.899900</td>\n",
       "      <td>7833</td>\n",
       "      <td>1997-09-17 18:50:14-03:00</td>\n",
       "      <td>2007-02-15 16:34:06-03:00</td>\n",
       "    </tr>\n",
       "    <tr>\n",
       "      <td>1</td>\n",
       "      <td>0002702c-95f8-36ff-8dd4-a131478ce45c</td>\n",
       "      <td>77aa9946-a96d-373c-a227-d63bc1afcc90</td>\n",
       "      <td>296</td>\n",
       "      <td>172.680</td>\n",
       "      <td>0.045135</td>\n",
       "      <td>6487</td>\n",
       "      <td>1999-08-19 00:22:44-03:00</td>\n",
       "      <td>2017-07-30 06:27:02-03:00</td>\n",
       "    </tr>\n",
       "    <tr>\n",
       "      <td>2</td>\n",
       "      <td>0002ad08-22dc-3521-b951-ffec1f663b29</td>\n",
       "      <td>e0d3160c-0286-3712-a09b-aa9be6e835b0</td>\n",
       "      <td>326</td>\n",
       "      <td>2343.140</td>\n",
       "      <td>4.516790</td>\n",
       "      <td>4357</td>\n",
       "      <td>1987-04-22 02:40:31-03:00</td>\n",
       "      <td>2017-08-21 20:39:39-03:00</td>\n",
       "    </tr>\n",
       "    <tr>\n",
       "      <td>3</td>\n",
       "      <td>00088c89-c79e-31a2-a9d2-d60555a39cd6</td>\n",
       "      <td>986f0edf-3cdc-373a-aaa7-e658e105431c</td>\n",
       "      <td>202</td>\n",
       "      <td>786.812</td>\n",
       "      <td>3.000000</td>\n",
       "      <td>4143</td>\n",
       "      <td>2013-12-29 16:47:24-03:00</td>\n",
       "      <td>1982-12-16 23:28:30-03:00</td>\n",
       "    </tr>\n",
       "    <tr>\n",
       "      <td>4</td>\n",
       "      <td>00090117-8996-3698-8fa8-4512b86b9add</td>\n",
       "      <td>7302a818-a559-311c-a544-f743a357101a</td>\n",
       "      <td>324</td>\n",
       "      <td>2362.700</td>\n",
       "      <td>0.600000</td>\n",
       "      <td>4507</td>\n",
       "      <td>1996-08-06 03:27:20-03:00</td>\n",
       "      <td>2014-04-28 12:36:13-03:00</td>\n",
       "    </tr>\n",
       "    <tr>\n",
       "      <td>...</td>\n",
       "      <td>...</td>\n",
       "      <td>...</td>\n",
       "      <td>...</td>\n",
       "      <td>...</td>\n",
       "      <td>...</td>\n",
       "      <td>...</td>\n",
       "      <td>...</td>\n",
       "      <td>...</td>\n",
       "    </tr>\n",
       "    <tr>\n",
       "      <td>44495</td>\n",
       "      <td>fff078a0-c97a-3491-9448-335db4a1e693</td>\n",
       "      <td>b12bfc7e-0340-3099-b123-97b8959b2aa4</td>\n",
       "      <td>323</td>\n",
       "      <td>2159.440</td>\n",
       "      <td>4.000000</td>\n",
       "      <td>5439</td>\n",
       "      <td>1988-02-14 18:24:50-03:00</td>\n",
       "      <td>1990-03-28 21:56:53-03:00</td>\n",
       "    </tr>\n",
       "    <tr>\n",
       "      <td>44496</td>\n",
       "      <td>fff6b764-29b0-35e8-bab5-79496561a008</td>\n",
       "      <td>8cf1a469-0c1f-36c7-bf17-c982a60b6eab</td>\n",
       "      <td>332</td>\n",
       "      <td>3372.770</td>\n",
       "      <td>1.000000</td>\n",
       "      <td>5988</td>\n",
       "      <td>2013-02-13 01:33:00-03:00</td>\n",
       "      <td>2007-10-15 15:44:14-03:00</td>\n",
       "    </tr>\n",
       "    <tr>\n",
       "      <td>44497</td>\n",
       "      <td>fffe07c5-a79b-3842-a280-c5bb31938301</td>\n",
       "      <td>b71706fe-95f3-38ea-8c92-2d72cbd14240</td>\n",
       "      <td>339</td>\n",
       "      <td>2846.900</td>\n",
       "      <td>1.400000</td>\n",
       "      <td>4567</td>\n",
       "      <td>1973-06-22 21:36:35-03:00</td>\n",
       "      <td>1977-04-02 17:50:09-03:00</td>\n",
       "    </tr>\n",
       "    <tr>\n",
       "      <td>44498</td>\n",
       "      <td>fffe56bc-a1c4-35b3-aa8b-4046ce7597a2</td>\n",
       "      <td>203aa51c-a5fa-32e3-80dc-04fd1ce081ed</td>\n",
       "      <td>279</td>\n",
       "      <td>1545.710</td>\n",
       "      <td>0.500000</td>\n",
       "      <td>5947</td>\n",
       "      <td>2003-10-14 19:08:12-03:00</td>\n",
       "      <td>2008-10-03 15:28:06-03:00</td>\n",
       "    </tr>\n",
       "    <tr>\n",
       "      <td>44499</td>\n",
       "      <td>fffed632-512b-3781-9323-7734ff1a8b20</td>\n",
       "      <td>a9a9853b-e8be-35db-a00b-9593356119e0</td>\n",
       "      <td>228</td>\n",
       "      <td>2042.170</td>\n",
       "      <td>2.856670</td>\n",
       "      <td>5238</td>\n",
       "      <td>2015-01-20 10:28:16-03:00</td>\n",
       "      <td>1997-01-05 22:49:18-03:00</td>\n",
       "    </tr>\n",
       "  </tbody>\n",
       "</table>\n",
       "<p>44500 rows × 8 columns</p>\n",
       "</div>"
      ],
      "text/plain": [
       "                               sale_item_id  \\\n",
       "0      000132ac-e203-3cae-aa15-b6a272b870b2   \n",
       "1      0002702c-95f8-36ff-8dd4-a131478ce45c   \n",
       "2      0002ad08-22dc-3521-b951-ffec1f663b29   \n",
       "3      00088c89-c79e-31a2-a9d2-d60555a39cd6   \n",
       "4      00090117-8996-3698-8fa8-4512b86b9add   \n",
       "...                                     ...   \n",
       "44495  fff078a0-c97a-3491-9448-335db4a1e693   \n",
       "44496  fff6b764-29b0-35e8-bab5-79496561a008   \n",
       "44497  fffe07c5-a79b-3842-a280-c5bb31938301   \n",
       "44498  fffe56bc-a1c4-35b3-aa8b-4046ce7597a2   \n",
       "44499  fffed632-512b-3781-9323-7734ff1a8b20   \n",
       "\n",
       "                                    sale_id  product_id     price  quantity  \\\n",
       "0      442bc2f0-22d3-3c8a-9f71-0f9c16cee0b2         296  2433.800  3.899900   \n",
       "1      77aa9946-a96d-373c-a227-d63bc1afcc90         296   172.680  0.045135   \n",
       "2      e0d3160c-0286-3712-a09b-aa9be6e835b0         326  2343.140  4.516790   \n",
       "3      986f0edf-3cdc-373a-aaa7-e658e105431c         202   786.812  3.000000   \n",
       "4      7302a818-a559-311c-a544-f743a357101a         324  2362.700  0.600000   \n",
       "...                                     ...         ...       ...       ...   \n",
       "44495  b12bfc7e-0340-3099-b123-97b8959b2aa4         323  2159.440  4.000000   \n",
       "44496  8cf1a469-0c1f-36c7-bf17-c982a60b6eab         332  3372.770  1.000000   \n",
       "44497  b71706fe-95f3-38ea-8c92-2d72cbd14240         339  2846.900  1.400000   \n",
       "44498  203aa51c-a5fa-32e3-80dc-04fd1ce081ed         279  1545.710  0.500000   \n",
       "44499  a9a9853b-e8be-35db-a00b-9593356119e0         228  2042.170  2.856670   \n",
       "\n",
       "       client_id                 created_at                 updated_at  \n",
       "0           7833  1997-09-17 18:50:14-03:00  2007-02-15 16:34:06-03:00  \n",
       "1           6487  1999-08-19 00:22:44-03:00  2017-07-30 06:27:02-03:00  \n",
       "2           4357  1987-04-22 02:40:31-03:00  2017-08-21 20:39:39-03:00  \n",
       "3           4143  2013-12-29 16:47:24-03:00  1982-12-16 23:28:30-03:00  \n",
       "4           4507  1996-08-06 03:27:20-03:00  2014-04-28 12:36:13-03:00  \n",
       "...          ...                        ...                        ...  \n",
       "44495       5439  1988-02-14 18:24:50-03:00  1990-03-28 21:56:53-03:00  \n",
       "44496       5988  2013-02-13 01:33:00-03:00  2007-10-15 15:44:14-03:00  \n",
       "44497       4567  1973-06-22 21:36:35-03:00  1977-04-02 17:50:09-03:00  \n",
       "44498       5947  2003-10-14 19:08:12-03:00  2008-10-03 15:28:06-03:00  \n",
       "44499       5238  2015-01-20 10:28:16-03:00  1997-01-05 22:49:18-03:00  \n",
       "\n",
       "[44500 rows x 8 columns]"
      ]
     },
     "execution_count": 5,
     "metadata": {},
     "output_type": "execute_result"
    }
   ],
   "source": [
    "connection = psycopg2.connect(user=\"postgres\",\n",
    "                              password=\"admin\",\n",
    "                              host=\"127.0.0.1\",\n",
    "                              port=\"5432\",\n",
    "                              database=\"teste\")\n",
    "cursor = connection.cursor()\n",
    "postgreSQL_select_Query = \"select si.id, si.sale_id, si.product_id, si.price, \\\n",
    "                           si.quantity, s.client_id, s.created_at, s.updated_at from sale_items si \\\n",
    "                           join sales s \\\n",
    "                           on si.sale_id = s.id;\"\n",
    "cursor.execute(postgreSQL_select_Query)\n",
    "dados = cursor.fetchall() \n",
    "vendas = pd.DataFrame(dados, columns=['sale_item_id', 'sale_id', 'product_id', 'price', 'quantity',\n",
    "                                      'client_id', 'created_at', 'updated_at'])\n",
    "vendas"
   ]
  },
  {
   "cell_type": "code",
   "execution_count": 6,
   "metadata": {},
   "outputs": [
    {
     "data": {
      "text/html": [
       "<div>\n",
       "<style scoped>\n",
       "    .dataframe tbody tr th:only-of-type {\n",
       "        vertical-align: middle;\n",
       "    }\n",
       "\n",
       "    .dataframe tbody tr th {\n",
       "        vertical-align: top;\n",
       "    }\n",
       "\n",
       "    .dataframe thead th {\n",
       "        text-align: right;\n",
       "    }\n",
       "</style>\n",
       "<table border=\"1\" class=\"dataframe\">\n",
       "  <thead>\n",
       "    <tr style=\"text-align: right;\">\n",
       "      <th></th>\n",
       "      <th>name</th>\n",
       "      <th>sale_id</th>\n",
       "      <th>product_id</th>\n",
       "      <th>product</th>\n",
       "      <th>price_y</th>\n",
       "      <th>quantity</th>\n",
       "      <th>price_x</th>\n",
       "      <th>created_at</th>\n",
       "      <th>updated_at</th>\n",
       "      <th>email</th>\n",
       "    </tr>\n",
       "  </thead>\n",
       "  <tbody>\n",
       "    <tr>\n",
       "      <td>0</td>\n",
       "      <td>Mason Howell</td>\n",
       "      <td>442bc2f0-22d3-3c8a-9f71-0f9c16cee0b2</td>\n",
       "      <td>296</td>\n",
       "      <td>Lang Club</td>\n",
       "      <td>866.694</td>\n",
       "      <td>3.89990</td>\n",
       "      <td>2433.800</td>\n",
       "      <td>1997-09-17 18:50:14-03:00</td>\n",
       "      <td>2007-02-15 16:34:06-03:00</td>\n",
       "      <td>jessica.cole@example.net</td>\n",
       "    </tr>\n",
       "    <tr>\n",
       "      <td>1</td>\n",
       "      <td>Mason Howell</td>\n",
       "      <td>442bc2f0-22d3-3c8a-9f71-0f9c16cee0b2</td>\n",
       "      <td>296</td>\n",
       "      <td>Lang Club</td>\n",
       "      <td>866.694</td>\n",
       "      <td>4.00000</td>\n",
       "      <td>1196.580</td>\n",
       "      <td>1997-09-17 18:50:14-03:00</td>\n",
       "      <td>2007-02-15 16:34:06-03:00</td>\n",
       "      <td>jessica.cole@example.net</td>\n",
       "    </tr>\n",
       "    <tr>\n",
       "      <td>2</td>\n",
       "      <td>Mason Howell</td>\n",
       "      <td>442bc2f0-22d3-3c8a-9f71-0f9c16cee0b2</td>\n",
       "      <td>296</td>\n",
       "      <td>Lang Club</td>\n",
       "      <td>866.694</td>\n",
       "      <td>1.38452</td>\n",
       "      <td>1975.000</td>\n",
       "      <td>1997-09-17 18:50:14-03:00</td>\n",
       "      <td>2007-02-15 16:34:06-03:00</td>\n",
       "      <td>jessica.cole@example.net</td>\n",
       "    </tr>\n",
       "    <tr>\n",
       "      <td>3</td>\n",
       "      <td>Mason Howell</td>\n",
       "      <td>442bc2f0-22d3-3c8a-9f71-0f9c16cee0b2</td>\n",
       "      <td>296</td>\n",
       "      <td>Lang Club</td>\n",
       "      <td>866.694</td>\n",
       "      <td>2.22500</td>\n",
       "      <td>119.526</td>\n",
       "      <td>1997-09-17 18:50:14-03:00</td>\n",
       "      <td>2007-02-15 16:34:06-03:00</td>\n",
       "      <td>jessica.cole@example.net</td>\n",
       "    </tr>\n",
       "    <tr>\n",
       "      <td>4</td>\n",
       "      <td>Mason Howell</td>\n",
       "      <td>442bc2f0-22d3-3c8a-9f71-0f9c16cee0b2</td>\n",
       "      <td>296</td>\n",
       "      <td>Lang Club</td>\n",
       "      <td>866.694</td>\n",
       "      <td>2.89000</td>\n",
       "      <td>2386.940</td>\n",
       "      <td>1997-09-17 18:50:14-03:00</td>\n",
       "      <td>2007-02-15 16:34:06-03:00</td>\n",
       "      <td>jessica.cole@example.net</td>\n",
       "    </tr>\n",
       "    <tr>\n",
       "      <td>...</td>\n",
       "      <td>...</td>\n",
       "      <td>...</td>\n",
       "      <td>...</td>\n",
       "      <td>...</td>\n",
       "      <td>...</td>\n",
       "      <td>...</td>\n",
       "      <td>...</td>\n",
       "      <td>...</td>\n",
       "      <td>...</td>\n",
       "      <td>...</td>\n",
       "    </tr>\n",
       "    <tr>\n",
       "      <td>44495</td>\n",
       "      <td>Ashlynn Jaskolski</td>\n",
       "      <td>3d9d0fd1-0406-3ee8-84ee-5a29be946b2b</td>\n",
       "      <td>235</td>\n",
       "      <td>Roselyn Road</td>\n",
       "      <td>3366.300</td>\n",
       "      <td>3.00000</td>\n",
       "      <td>3455.700</td>\n",
       "      <td>2019-12-09 23:43:34-03:00</td>\n",
       "      <td>1981-04-24 03:20:37-03:00</td>\n",
       "      <td>leffler.mafalda@example.net</td>\n",
       "    </tr>\n",
       "    <tr>\n",
       "      <td>44496</td>\n",
       "      <td>Miss Krista Kuhic</td>\n",
       "      <td>c9b46a89-e252-3e69-9b4c-d2a1f7bd86e8</td>\n",
       "      <td>235</td>\n",
       "      <td>Roselyn Road</td>\n",
       "      <td>3366.300</td>\n",
       "      <td>2.45209</td>\n",
       "      <td>1896.100</td>\n",
       "      <td>1981-03-17 10:05:45-03:00</td>\n",
       "      <td>1986-06-24 09:35:27-03:00</td>\n",
       "      <td>leland.vonrueden@example.net</td>\n",
       "    </tr>\n",
       "    <tr>\n",
       "      <td>44497</td>\n",
       "      <td>Miss Krista Kuhic</td>\n",
       "      <td>c9b46a89-e252-3e69-9b4c-d2a1f7bd86e8</td>\n",
       "      <td>235</td>\n",
       "      <td>Roselyn Road</td>\n",
       "      <td>3366.300</td>\n",
       "      <td>3.08220</td>\n",
       "      <td>3997.900</td>\n",
       "      <td>1981-03-17 10:05:45-03:00</td>\n",
       "      <td>1986-06-24 09:35:27-03:00</td>\n",
       "      <td>leland.vonrueden@example.net</td>\n",
       "    </tr>\n",
       "    <tr>\n",
       "      <td>44498</td>\n",
       "      <td>Miss Krista Kuhic</td>\n",
       "      <td>c9b46a89-e252-3e69-9b4c-d2a1f7bd86e8</td>\n",
       "      <td>235</td>\n",
       "      <td>Roselyn Road</td>\n",
       "      <td>3366.300</td>\n",
       "      <td>1.00000</td>\n",
       "      <td>2695.000</td>\n",
       "      <td>1981-03-17 10:05:45-03:00</td>\n",
       "      <td>1986-06-24 09:35:27-03:00</td>\n",
       "      <td>leland.vonrueden@example.net</td>\n",
       "    </tr>\n",
       "    <tr>\n",
       "      <td>44499</td>\n",
       "      <td>Miss Krista Kuhic</td>\n",
       "      <td>c9b46a89-e252-3e69-9b4c-d2a1f7bd86e8</td>\n",
       "      <td>235</td>\n",
       "      <td>Roselyn Road</td>\n",
       "      <td>3366.300</td>\n",
       "      <td>2.17575</td>\n",
       "      <td>1267.550</td>\n",
       "      <td>1981-03-17 10:05:45-03:00</td>\n",
       "      <td>1986-06-24 09:35:27-03:00</td>\n",
       "      <td>leland.vonrueden@example.net</td>\n",
       "    </tr>\n",
       "  </tbody>\n",
       "</table>\n",
       "<p>44500 rows × 10 columns</p>\n",
       "</div>"
      ],
      "text/plain": [
       "                    name                               sale_id  product_id  \\\n",
       "0           Mason Howell  442bc2f0-22d3-3c8a-9f71-0f9c16cee0b2         296   \n",
       "1           Mason Howell  442bc2f0-22d3-3c8a-9f71-0f9c16cee0b2         296   \n",
       "2           Mason Howell  442bc2f0-22d3-3c8a-9f71-0f9c16cee0b2         296   \n",
       "3           Mason Howell  442bc2f0-22d3-3c8a-9f71-0f9c16cee0b2         296   \n",
       "4           Mason Howell  442bc2f0-22d3-3c8a-9f71-0f9c16cee0b2         296   \n",
       "...                  ...                                   ...         ...   \n",
       "44495  Ashlynn Jaskolski  3d9d0fd1-0406-3ee8-84ee-5a29be946b2b         235   \n",
       "44496  Miss Krista Kuhic  c9b46a89-e252-3e69-9b4c-d2a1f7bd86e8         235   \n",
       "44497  Miss Krista Kuhic  c9b46a89-e252-3e69-9b4c-d2a1f7bd86e8         235   \n",
       "44498  Miss Krista Kuhic  c9b46a89-e252-3e69-9b4c-d2a1f7bd86e8         235   \n",
       "44499  Miss Krista Kuhic  c9b46a89-e252-3e69-9b4c-d2a1f7bd86e8         235   \n",
       "\n",
       "            product   price_y  quantity   price_x                 created_at  \\\n",
       "0         Lang Club   866.694   3.89990  2433.800  1997-09-17 18:50:14-03:00   \n",
       "1         Lang Club   866.694   4.00000  1196.580  1997-09-17 18:50:14-03:00   \n",
       "2         Lang Club   866.694   1.38452  1975.000  1997-09-17 18:50:14-03:00   \n",
       "3         Lang Club   866.694   2.22500   119.526  1997-09-17 18:50:14-03:00   \n",
       "4         Lang Club   866.694   2.89000  2386.940  1997-09-17 18:50:14-03:00   \n",
       "...             ...       ...       ...       ...                        ...   \n",
       "44495  Roselyn Road  3366.300   3.00000  3455.700  2019-12-09 23:43:34-03:00   \n",
       "44496  Roselyn Road  3366.300   2.45209  1896.100  1981-03-17 10:05:45-03:00   \n",
       "44497  Roselyn Road  3366.300   3.08220  3997.900  1981-03-17 10:05:45-03:00   \n",
       "44498  Roselyn Road  3366.300   1.00000  2695.000  1981-03-17 10:05:45-03:00   \n",
       "44499  Roselyn Road  3366.300   2.17575  1267.550  1981-03-17 10:05:45-03:00   \n",
       "\n",
       "                      updated_at                         email  \n",
       "0      2007-02-15 16:34:06-03:00      jessica.cole@example.net  \n",
       "1      2007-02-15 16:34:06-03:00      jessica.cole@example.net  \n",
       "2      2007-02-15 16:34:06-03:00      jessica.cole@example.net  \n",
       "3      2007-02-15 16:34:06-03:00      jessica.cole@example.net  \n",
       "4      2007-02-15 16:34:06-03:00      jessica.cole@example.net  \n",
       "...                          ...                           ...  \n",
       "44495  1981-04-24 03:20:37-03:00   leffler.mafalda@example.net  \n",
       "44496  1986-06-24 09:35:27-03:00  leland.vonrueden@example.net  \n",
       "44497  1986-06-24 09:35:27-03:00  leland.vonrueden@example.net  \n",
       "44498  1986-06-24 09:35:27-03:00  leland.vonrueden@example.net  \n",
       "44499  1986-06-24 09:35:27-03:00  leland.vonrueden@example.net  \n",
       "\n",
       "[44500 rows x 10 columns]"
      ]
     },
     "execution_count": 6,
     "metadata": {},
     "output_type": "execute_result"
    }
   ],
   "source": [
    "tudo = vendas.merge(clients, left_on=\"client_id\", right_on=\"id\")\\\n",
    "    .merge(produtos, left_on=\"product_id\",right_on='id')\\\n",
    "    [['name', 'sale_id', 'product_id', 'product', 'price_y', 'quantity', 'price_x', 'created_at', \n",
    "      'updated_at', 'email']]\n",
    "tudo"
   ]
  },
  {
   "cell_type": "code",
   "execution_count": 90,
   "metadata": {},
   "outputs": [
    {
     "data": {
      "text/plain": [
       "product\n",
       "Genesis Mills        622.268287\n",
       "Cremin Trace         619.207141\n",
       "Kerluke Curve        617.407935\n",
       "Alexandrine Glens    600.446712\n",
       "Irving Run           599.626609\n",
       "Bethel Plains        599.509195\n",
       "Schmitt Pines        597.896236\n",
       "Skiles Loaf          596.101654\n",
       "Dooley Stravenue     594.660607\n",
       "German Place         594.116429\n",
       "Lueilwitz Lane       593.489280\n",
       "Boyle Gardens        592.854009\n",
       "Sipes Summit         591.507577\n",
       "Konopelski Groves    590.060507\n",
       "Breitenberg Isle     589.992748\n",
       "Spinka Route         589.196830\n",
       "Pearline Glen        587.910117\n",
       "Eulah Prairie        585.456605\n",
       "Kelton Circle        585.266494\n",
       "Edwardo Harbor       585.118767\n",
       "Name: quantity, dtype: float64"
      ]
     },
     "execution_count": 90,
     "metadata": {},
     "output_type": "execute_result"
    }
   ],
   "source": [
    "tudo.groupby(['product']).quantity.sum().sort_values(ascending=False)[:20]"
   ]
  },
  {
   "cell_type": "code",
   "execution_count": 47,
   "metadata": {},
   "outputs": [
    {
     "data": {
      "image/png": "[encoded data removed]",
      "text/plain": [
       "<Figure size 216x432 with 1 Axes>"
      ]
     },
     "metadata": {
      "needs_background": "light"
     },
     "output_type": "display_data"
    }
   ],
   "source": [
    "groupby_operation(dataframe=tudo, groupbycolumn='product', operation_column='quantity', \n",
    "                  operation='sum', size=20, height=6, width=3,\n",
    "                  title='Produtos mais comprados (20+ frequentes)')"
   ]
  },
  {
   "cell_type": "code",
   "execution_count": 88,
   "metadata": {},
   "outputs": [
    {
     "data": {
      "text/plain": [
       "product\n",
       "Toy Stravenue      493558.855100\n",
       "Schulist Flat      488999.383160\n",
       "Trycia Shoal       485298.790200\n",
       "Edwardo Harbor     480334.645400\n",
       "Rohan Plaza        479509.353700\n",
       "                       ...      \n",
       "Hand Mission       408564.102100\n",
       "Kessler Branch     406723.571100\n",
       "Octavia Grove      406217.845230\n",
       "Emard Lakes        400670.893438\n",
       "Antonia Harbors    396986.638500\n",
       "Name: price_x, Length: 200, dtype: float64"
      ]
     },
     "execution_count": 88,
     "metadata": {},
     "output_type": "execute_result"
    }
   ],
   "source": [
    "tudo.groupby(['product']).price_x.sum().sort_values(ascending=False)"
   ]
  },
  {
   "cell_type": "code",
   "execution_count": 48,
   "metadata": {},
   "outputs": [
    {
     "data": {
      "image/png": "[encoded data removed]",
      "text/plain": [
       "<Figure size 216x432 with 1 Axes>"
      ]
     },
     "metadata": {
      "needs_background": "light"
     },
     "output_type": "display_data"
    }
   ],
   "source": [
    "groupby_operation(dataframe=tudo, groupbycolumn='product', operation_column='price_x', \n",
    "                  operation='sum', size=20, height=6, width=3,\n",
    "                  title='Produtos de maior receita (20+ $)')"
   ]
  },
  {
   "cell_type": "code",
   "execution_count": 91,
   "metadata": {},
   "outputs": [
    {
     "data": {
      "text/plain": [
       "name\n",
       "Mary Hamill               17\n",
       "Catalina Jenkins          17\n",
       "Aglae Eichmann            17\n",
       "Damon Cartwright          18\n",
       "Dr. Abdullah Kuhic        18\n",
       "Ernesto Shields           18\n",
       "Garland Schowalter Jr.    18\n",
       "Beverly Adams             18\n",
       "Ambrose Kautzer           24\n",
       "Elwyn Koepp               26\n",
       "Name: sale_id, dtype: int64"
      ]
     },
     "execution_count": 91,
     "metadata": {},
     "output_type": "execute_result"
    }
   ],
   "source": [
    "tudo.groupby(['name']).sale_id.count().sort_values(ascending=False)[:10].sort_values()"
   ]
  },
  {
   "cell_type": "code",
   "execution_count": 9,
   "metadata": {
    "scrolled": false
   },
   "outputs": [
    {
     "data": {
      "image/png": "[encoded data removed]",
      "text/plain": [
       "<Figure size 216x432 with 1 Axes>"
      ]
     },
     "metadata": {
      "needs_background": "light"
     },
     "output_type": "display_data"
    }
   ],
   "source": [
    "groupby_operation(dataframe=tudo, groupbycolumn='name', operation_column='sale_id', \n",
    "                  operation='count', size=20, height=6, width=3,\n",
    "                  title='Clientes mais frequentes (20+)')"
   ]
  },
  {
   "cell_type": "code",
   "execution_count": 94,
   "metadata": {},
   "outputs": [
    {
     "data": {
      "text/plain": [
       "name\n",
       "Tanner Blanda                 39824.580\n",
       "Hailey Reichert               40031.703\n",
       "Dr. Eldon Koch                40334.487\n",
       "Roger Harris                  41392.024\n",
       "Prof. Cecelia Oberbrunner     41561.126\n",
       "Shirley Stanton               42263.183\n",
       "Gloria Leannon                43820.187\n",
       "Mr. Shaun Pouros I            44898.917\n",
       "Prof. Hallie Heathcote DVM    45249.271\n",
       "Elwyn Koepp                   51982.721\n",
       "Name: price_x, dtype: float64"
      ]
     },
     "execution_count": 94,
     "metadata": {},
     "output_type": "execute_result"
    }
   ],
   "source": [
    "tudo.groupby(['name']).price_x.sum().sort_values(ascending=False)[:10].sort_values()"
   ]
  },
  {
   "cell_type": "code",
   "execution_count": 10,
   "metadata": {
    "scrolled": false
   },
   "outputs": [
    {
     "data": {
      "image/png": "[encoded data removed]",
      "text/plain": [
       "<Figure size 216x432 with 1 Axes>"
      ]
     },
     "metadata": {
      "needs_background": "light"
     },
     "output_type": "display_data"
    }
   ],
   "source": [
    "groupby_operation(dataframe=tudo, groupbycolumn='name', operation_column='price_x', \n",
    "                  operation='sum', size=20, height=6, width=3,\n",
    "                  title='Clientes que compram mais em $ (20+)')"
   ]
  },
  {
   "cell_type": "code",
   "execution_count": 11,
   "metadata": {},
   "outputs": [],
   "source": [
    "tudo['created_at'] = pd.to_datetime(tudo.created_at, utc=True)"
   ]
  },
  {
   "cell_type": "code",
   "execution_count": 12,
   "metadata": {},
   "outputs": [],
   "source": [
    "tudo['updated_at'] = pd.to_datetime(tudo.updated_at, utc=True)"
   ]
  },
  {
   "cell_type": "code",
   "execution_count": 13,
   "metadata": {},
   "outputs": [
    {
     "data": {
      "text/html": [
       "<div>\n",
       "<style scoped>\n",
       "    .dataframe tbody tr th:only-of-type {\n",
       "        vertical-align: middle;\n",
       "    }\n",
       "\n",
       "    .dataframe tbody tr th {\n",
       "        vertical-align: top;\n",
       "    }\n",
       "\n",
       "    .dataframe thead th {\n",
       "        text-align: right;\n",
       "    }\n",
       "</style>\n",
       "<table border=\"1\" class=\"dataframe\">\n",
       "  <thead>\n",
       "    <tr style=\"text-align: right;\">\n",
       "      <th></th>\n",
       "      <th>name</th>\n",
       "      <th>sale_id</th>\n",
       "      <th>product_id</th>\n",
       "      <th>product</th>\n",
       "      <th>price_y</th>\n",
       "      <th>quantity</th>\n",
       "      <th>price_x</th>\n",
       "      <th>created_at</th>\n",
       "      <th>updated_at</th>\n",
       "      <th>email</th>\n",
       "    </tr>\n",
       "  </thead>\n",
       "  <tbody>\n",
       "    <tr>\n",
       "      <td>0</td>\n",
       "      <td>Mason Howell</td>\n",
       "      <td>442bc2f0-22d3-3c8a-9f71-0f9c16cee0b2</td>\n",
       "      <td>296</td>\n",
       "      <td>Lang Club</td>\n",
       "      <td>866.694</td>\n",
       "      <td>3.89990</td>\n",
       "      <td>2433.800</td>\n",
       "      <td>1997-09-17 21:50:14+00:00</td>\n",
       "      <td>2007-02-15 19:34:06+00:00</td>\n",
       "      <td>jessica.cole@example.net</td>\n",
       "    </tr>\n",
       "    <tr>\n",
       "      <td>1</td>\n",
       "      <td>Mason Howell</td>\n",
       "      <td>442bc2f0-22d3-3c8a-9f71-0f9c16cee0b2</td>\n",
       "      <td>296</td>\n",
       "      <td>Lang Club</td>\n",
       "      <td>866.694</td>\n",
       "      <td>4.00000</td>\n",
       "      <td>1196.580</td>\n",
       "      <td>1997-09-17 21:50:14+00:00</td>\n",
       "      <td>2007-02-15 19:34:06+00:00</td>\n",
       "      <td>jessica.cole@example.net</td>\n",
       "    </tr>\n",
       "    <tr>\n",
       "      <td>2</td>\n",
       "      <td>Mason Howell</td>\n",
       "      <td>442bc2f0-22d3-3c8a-9f71-0f9c16cee0b2</td>\n",
       "      <td>296</td>\n",
       "      <td>Lang Club</td>\n",
       "      <td>866.694</td>\n",
       "      <td>1.38452</td>\n",
       "      <td>1975.000</td>\n",
       "      <td>1997-09-17 21:50:14+00:00</td>\n",
       "      <td>2007-02-15 19:34:06+00:00</td>\n",
       "      <td>jessica.cole@example.net</td>\n",
       "    </tr>\n",
       "    <tr>\n",
       "      <td>3</td>\n",
       "      <td>Mason Howell</td>\n",
       "      <td>442bc2f0-22d3-3c8a-9f71-0f9c16cee0b2</td>\n",
       "      <td>296</td>\n",
       "      <td>Lang Club</td>\n",
       "      <td>866.694</td>\n",
       "      <td>2.22500</td>\n",
       "      <td>119.526</td>\n",
       "      <td>1997-09-17 21:50:14+00:00</td>\n",
       "      <td>2007-02-15 19:34:06+00:00</td>\n",
       "      <td>jessica.cole@example.net</td>\n",
       "    </tr>\n",
       "    <tr>\n",
       "      <td>4</td>\n",
       "      <td>Mason Howell</td>\n",
       "      <td>442bc2f0-22d3-3c8a-9f71-0f9c16cee0b2</td>\n",
       "      <td>296</td>\n",
       "      <td>Lang Club</td>\n",
       "      <td>866.694</td>\n",
       "      <td>2.89000</td>\n",
       "      <td>2386.940</td>\n",
       "      <td>1997-09-17 21:50:14+00:00</td>\n",
       "      <td>2007-02-15 19:34:06+00:00</td>\n",
       "      <td>jessica.cole@example.net</td>\n",
       "    </tr>\n",
       "    <tr>\n",
       "      <td>...</td>\n",
       "      <td>...</td>\n",
       "      <td>...</td>\n",
       "      <td>...</td>\n",
       "      <td>...</td>\n",
       "      <td>...</td>\n",
       "      <td>...</td>\n",
       "      <td>...</td>\n",
       "      <td>...</td>\n",
       "      <td>...</td>\n",
       "      <td>...</td>\n",
       "    </tr>\n",
       "    <tr>\n",
       "      <td>44495</td>\n",
       "      <td>Ashlynn Jaskolski</td>\n",
       "      <td>3d9d0fd1-0406-3ee8-84ee-5a29be946b2b</td>\n",
       "      <td>235</td>\n",
       "      <td>Roselyn Road</td>\n",
       "      <td>3366.300</td>\n",
       "      <td>3.00000</td>\n",
       "      <td>3455.700</td>\n",
       "      <td>2019-12-10 02:43:34+00:00</td>\n",
       "      <td>1981-04-24 06:20:37+00:00</td>\n",
       "      <td>leffler.mafalda@example.net</td>\n",
       "    </tr>\n",
       "    <tr>\n",
       "      <td>44496</td>\n",
       "      <td>Miss Krista Kuhic</td>\n",
       "      <td>c9b46a89-e252-3e69-9b4c-d2a1f7bd86e8</td>\n",
       "      <td>235</td>\n",
       "      <td>Roselyn Road</td>\n",
       "      <td>3366.300</td>\n",
       "      <td>2.45209</td>\n",
       "      <td>1896.100</td>\n",
       "      <td>1981-03-17 13:05:45+00:00</td>\n",
       "      <td>1986-06-24 12:35:27+00:00</td>\n",
       "      <td>leland.vonrueden@example.net</td>\n",
       "    </tr>\n",
       "    <tr>\n",
       "      <td>44497</td>\n",
       "      <td>Miss Krista Kuhic</td>\n",
       "      <td>c9b46a89-e252-3e69-9b4c-d2a1f7bd86e8</td>\n",
       "      <td>235</td>\n",
       "      <td>Roselyn Road</td>\n",
       "      <td>3366.300</td>\n",
       "      <td>3.08220</td>\n",
       "      <td>3997.900</td>\n",
       "      <td>1981-03-17 13:05:45+00:00</td>\n",
       "      <td>1986-06-24 12:35:27+00:00</td>\n",
       "      <td>leland.vonrueden@example.net</td>\n",
       "    </tr>\n",
       "    <tr>\n",
       "      <td>44498</td>\n",
       "      <td>Miss Krista Kuhic</td>\n",
       "      <td>c9b46a89-e252-3e69-9b4c-d2a1f7bd86e8</td>\n",
       "      <td>235</td>\n",
       "      <td>Roselyn Road</td>\n",
       "      <td>3366.300</td>\n",
       "      <td>1.00000</td>\n",
       "      <td>2695.000</td>\n",
       "      <td>1981-03-17 13:05:45+00:00</td>\n",
       "      <td>1986-06-24 12:35:27+00:00</td>\n",
       "      <td>leland.vonrueden@example.net</td>\n",
       "    </tr>\n",
       "    <tr>\n",
       "      <td>44499</td>\n",
       "      <td>Miss Krista Kuhic</td>\n",
       "      <td>c9b46a89-e252-3e69-9b4c-d2a1f7bd86e8</td>\n",
       "      <td>235</td>\n",
       "      <td>Roselyn Road</td>\n",
       "      <td>3366.300</td>\n",
       "      <td>2.17575</td>\n",
       "      <td>1267.550</td>\n",
       "      <td>1981-03-17 13:05:45+00:00</td>\n",
       "      <td>1986-06-24 12:35:27+00:00</td>\n",
       "      <td>leland.vonrueden@example.net</td>\n",
       "    </tr>\n",
       "  </tbody>\n",
       "</table>\n",
       "<p>44500 rows × 10 columns</p>\n",
       "</div>"
      ],
      "text/plain": [
       "                    name                               sale_id  product_id  \\\n",
       "0           Mason Howell  442bc2f0-22d3-3c8a-9f71-0f9c16cee0b2         296   \n",
       "1           Mason Howell  442bc2f0-22d3-3c8a-9f71-0f9c16cee0b2         296   \n",
       "2           Mason Howell  442bc2f0-22d3-3c8a-9f71-0f9c16cee0b2         296   \n",
       "3           Mason Howell  442bc2f0-22d3-3c8a-9f71-0f9c16cee0b2         296   \n",
       "4           Mason Howell  442bc2f0-22d3-3c8a-9f71-0f9c16cee0b2         296   \n",
       "...                  ...                                   ...         ...   \n",
       "44495  Ashlynn Jaskolski  3d9d0fd1-0406-3ee8-84ee-5a29be946b2b         235   \n",
       "44496  Miss Krista Kuhic  c9b46a89-e252-3e69-9b4c-d2a1f7bd86e8         235   \n",
       "44497  Miss Krista Kuhic  c9b46a89-e252-3e69-9b4c-d2a1f7bd86e8         235   \n",
       "44498  Miss Krista Kuhic  c9b46a89-e252-3e69-9b4c-d2a1f7bd86e8         235   \n",
       "44499  Miss Krista Kuhic  c9b46a89-e252-3e69-9b4c-d2a1f7bd86e8         235   \n",
       "\n",
       "            product   price_y  quantity   price_x                created_at  \\\n",
       "0         Lang Club   866.694   3.89990  2433.800 1997-09-17 21:50:14+00:00   \n",
       "1         Lang Club   866.694   4.00000  1196.580 1997-09-17 21:50:14+00:00   \n",
       "2         Lang Club   866.694   1.38452  1975.000 1997-09-17 21:50:14+00:00   \n",
       "3         Lang Club   866.694   2.22500   119.526 1997-09-17 21:50:14+00:00   \n",
       "4         Lang Club   866.694   2.89000  2386.940 1997-09-17 21:50:14+00:00   \n",
       "...             ...       ...       ...       ...                       ...   \n",
       "44495  Roselyn Road  3366.300   3.00000  3455.700 2019-12-10 02:43:34+00:00   \n",
       "44496  Roselyn Road  3366.300   2.45209  1896.100 1981-03-17 13:05:45+00:00   \n",
       "44497  Roselyn Road  3366.300   3.08220  3997.900 1981-03-17 13:05:45+00:00   \n",
       "44498  Roselyn Road  3366.300   1.00000  2695.000 1981-03-17 13:05:45+00:00   \n",
       "44499  Roselyn Road  3366.300   2.17575  1267.550 1981-03-17 13:05:45+00:00   \n",
       "\n",
       "                     updated_at                         email  \n",
       "0     2007-02-15 19:34:06+00:00      jessica.cole@example.net  \n",
       "1     2007-02-15 19:34:06+00:00      jessica.cole@example.net  \n",
       "2     2007-02-15 19:34:06+00:00      jessica.cole@example.net  \n",
       "3     2007-02-15 19:34:06+00:00      jessica.cole@example.net  \n",
       "4     2007-02-15 19:34:06+00:00      jessica.cole@example.net  \n",
       "...                         ...                           ...  \n",
       "44495 1981-04-24 06:20:37+00:00   leffler.mafalda@example.net  \n",
       "44496 1986-06-24 12:35:27+00:00  leland.vonrueden@example.net  \n",
       "44497 1986-06-24 12:35:27+00:00  leland.vonrueden@example.net  \n",
       "44498 1986-06-24 12:35:27+00:00  leland.vonrueden@example.net  \n",
       "44499 1986-06-24 12:35:27+00:00  leland.vonrueden@example.net  \n",
       "\n",
       "[44500 rows x 10 columns]"
      ]
     },
     "execution_count": 13,
     "metadata": {},
     "output_type": "execute_result"
    }
   ],
   "source": [
    "tudo"
   ]
  },
  {
   "cell_type": "code",
   "execution_count": 14,
   "metadata": {},
   "outputs": [],
   "source": [
    "tudo.index = tudo.updated_at"
   ]
  },
  {
   "cell_type": "code",
   "execution_count": 15,
   "metadata": {},
   "outputs": [
    {
     "data": {
      "text/plain": [
       "updated_at  updated_at\n",
       "1970        1             277700.10960\n",
       "            2             144178.31594\n",
       "            3              98452.80700\n",
       "            4             126973.45567\n",
       "            5             154695.11220\n",
       "                              ...     \n",
       "2019        10            175098.77550\n",
       "            11             78501.59020\n",
       "            12            167333.85800\n",
       "2020        1             129652.31340\n",
       "            2              25840.64600\n",
       "Name: price_x, Length: 602, dtype: float64"
      ]
     },
     "execution_count": 15,
     "metadata": {},
     "output_type": "execute_result"
    }
   ],
   "source": [
    "vendas_por_mes = tudo.groupby([tudo.index.year,tudo.index.month]).price_x.sum()\n",
    "vendas_por_mes"
   ]
  },
  {
   "cell_type": "code",
   "execution_count": 16,
   "metadata": {},
   "outputs": [],
   "source": [
    "vendas_por_mes.index = pd.Series(vendas_por_mes.index.values).apply(lambda x:str(x[0])+'-'+str(x[1]))"
   ]
  },
  {
   "cell_type": "code",
   "execution_count": 17,
   "metadata": {},
   "outputs": [
    {
     "data": {
      "text/plain": [
       "1970-1     277700.10960\n",
       "1970-2     144178.31594\n",
       "1970-3      98452.80700\n",
       "1970-4     126973.45567\n",
       "1970-5     154695.11220\n",
       "               ...     \n",
       "2019-10    175098.77550\n",
       "2019-11     78501.59020\n",
       "2019-12    167333.85800\n",
       "2020-1     129652.31340\n",
       "2020-2      25840.64600\n",
       "Name: price_x, Length: 602, dtype: float64"
      ]
     },
     "execution_count": 17,
     "metadata": {},
     "output_type": "execute_result"
    }
   ],
   "source": [
    "vendas_por_mes"
   ]
  },
  {
   "cell_type": "code",
   "execution_count": 51,
   "metadata": {
    "scrolled": false
   },
   "outputs": [
    {
     "data": {
      "application/vnd.plotly.v1+json": {
       "config": {
        "linkText": "Export to plot.ly",
        "plotlyServerURL": "https://plot.ly",
        "showLink": false
       },
       "data": [
        {
         "marker": {
          "color": "blue"
         },
         "mode": "lines+markers",
         "type": "scatter",
         "x": [
          "1970-1",
          "1970-2",
          "1970-3",
          "1970-4",
          "1970-5",
          "1970-6",
          "1970-7",
          "1970-8",
          "1970-9",
          "1970-10",
          "1970-11",
          "1970-12",
          "1971-1",
          "1971-2",
          "1971-3",
          "1971-4",
          "1971-5",
          "1971-6",
          "1971-7",
          "1971-8",
          "1971-9",
          "1971-10",
          "1971-11",
          "1971-12",
          "1972-1",
          "1972-2",
          "1972-3",
          "1972-4",
          "1972-5",
          "1972-6",
          "1972-7",
          "1972-8",
          "1972-9",
          "1972-10",
          "1972-11",
          "1972-12",
          "1973-1",
          "1973-2",
          "1973-3",
          "1973-4",
          "1973-5",
          "1973-6",
          "1973-7",
          "1973-8",
          "1973-9",
          "1973-10",
          "1973-11",
          "1973-12",
          "1974-1",
          "1974-2",
          "1974-3",
          "1974-4",
          "1974-5",
          "1974-6",
          "1974-7",
          "1974-8",
          "1974-9",
          "1974-10",
          "1974-11",
          "1974-12",
          "1975-1",
          "1975-2",
          "1975-3",
          "1975-4",
          "1975-5",
          "1975-6",
          "1975-7",
          "1975-8",
          "1975-9",
          "1975-10",
          "1975-11",
          "1975-12",
          "1976-1",
          "1976-2",
          "1976-3",
          "1976-4",
          "1976-5",
          "1976-6",
          "1976-7",
          "1976-8",
          "1976-9",
          "1976-10",
          "1976-11",
          "1976-12",
          "1977-1",
          "1977-2",
          "1977-3",
          "1977-4",
          "1977-5",
          "1977-6",
          "1977-7",
          "1977-8",
          "1977-9",
          "1977-10",
          "1977-11",
          "1977-12",
          "1978-1",
          "1978-2",
          "1978-3",
          "1978-4",
          "1978-5",
          "1978-6",
          "1978-7",
          "1978-8",
          "1978-9",
          "1978-10",
          "1978-11",
          "1978-12",
          "1979-1",
          "1979-2",
          "1979-3",
          "1979-4",
          "1979-5",
          "1979-6",
          "1979-7",
          "1979-8",
          "1979-9",
          "1979-10",
          "1979-11",
          "1979-12",
          "1980-1",
          "1980-2",
          "1980-3",
          "1980-4",
          "1980-5",
          "1980-6",
          "1980-7",
          "1980-8",
          "1980-9",
          "1980-10",
          "1980-11",
          "1980-12",
          "1981-1",
          "1981-2",
          "1981-3",
          "1981-4",
          "1981-5",
          "1981-6",
          "1981-7",
          "1981-8",
          "1981-9",
          "1981-10",
          "1981-11",
          "1981-12",
          "1982-1",
          "1982-2",
          "1982-3",
          "1982-4",
          "1982-5",
          "1982-6",
          "1982-7",
          "1982-8",
          "1982-9",
          "1982-10",
          "1982-11",
          "1982-12",
          "1983-1",
          "1983-2",
          "1983-3",
          "1983-4",
          "1983-5",
          "1983-6",
          "1983-7",
          "1983-8",
          "1983-9",
          "1983-10",
          "1983-11",
          "1983-12",
          "1984-1",
          "1984-2",
          "1984-3",
          "1984-4",
          "1984-5",
          "1984-6",
          "1984-7",
          "1984-8",
          "1984-9",
          "1984-10",
          "1984-11",
          "1984-12",
          "1985-1",
          "1985-2",
          "1985-3",
          "1985-4",
          "1985-5",
          "1985-6",
          "1985-7",
          "1985-8",
          "1985-9",
          "1985-10",
          "1985-11",
          "1985-12",
          "1986-1",
          "1986-2",
          "1986-3",
          "1986-4",
          "1986-5",
          "1986-6",
          "1986-7",
          "1986-8",
          "1986-9",
          "1986-10",
          "1986-11",
          "1986-12",
          "1987-1",
          "1987-2",
          "1987-3",
          "1987-4",
          "1987-5",
          "1987-6",
          "1987-7",
          "1987-8",
          "1987-9",
          "1987-10",
          "1987-11",
          "1987-12",
          "1988-1",
          "1988-2",
          "1988-3",
          "1988-4",
          "1988-5",
          "1988-6",
          "1988-7",
          "1988-8",
          "1988-9",
          "1988-10",
          "1988-11",
          "1988-12",
          "1989-1",
          "1989-2",
          "1989-3",
          "1989-4",
          "1989-5",
          "1989-6",
          "1989-7",
          "1989-8",
          "1989-9",
          "1989-10",
          "1989-11",
          "1989-12",
          "1990-1",
          "1990-2",
          "1990-3",
          "1990-4",
          "1990-5",
          "1990-6",
          "1990-7",
          "1990-8",
          "1990-9",
          "1990-10",
          "1990-11",
          "1990-12",
          "1991-1",
          "1991-2",
          "1991-3",
          "1991-4",
          "1991-5",
          "1991-6",
          "1991-7",
          "1991-8",
          "1991-9",
          "1991-10",
          "1991-11",
          "1991-12",
          "1992-1",
          "1992-2",
          "1992-3",
          "1992-4",
          "1992-5",
          "1992-6",
          "1992-7",
          "1992-8",
          "1992-9",
          "1992-10",
          "1992-11",
          "1992-12",
          "1993-1",
          "1993-2",
          "1993-3",
          "1993-4",
          "1993-5",
          "1993-6",
          "1993-7",
          "1993-8",
          "1993-9",
          "1993-10",
          "1993-11",
          "1993-12",
          "1994-1",
          "1994-2",
          "1994-3",
          "1994-4",
          "1994-5",
          "1994-6",
          "1994-7",
          "1994-8",
          "1994-9",
          "1994-10",
          "1994-11",
          "1994-12",
          "1995-1",
          "1995-2",
          "1995-3",
          "1995-4",
          "1995-5",
          "1995-6",
          "1995-7",
          "1995-8",
          "1995-9",
          "1995-10",
          "1995-11",
          "1995-12",
          "1996-1",
          "1996-2",
          "1996-3",
          "1996-4",
          "1996-5",
          "1996-6",
          "1996-7",
          "1996-8",
          "1996-9",
          "1996-10",
          "1996-11",
          "1996-12",
          "1997-1",
          "1997-2",
          "1997-3",
          "1997-4",
          "1997-5",
          "1997-6",
          "1997-7",
          "1997-8",
          "1997-9",
          "1997-10",
          "1997-11",
          "1997-12",
          "1998-1",
          "1998-2",
          "1998-3",
          "1998-4",
          "1998-5",
          "1998-6",
          "1998-7",
          "1998-8",
          "1998-9",
          "1998-10",
          "1998-11",
          "1998-12",
          "1999-1",
          "1999-2",
          "1999-3",
          "1999-4",
          "1999-5",
          "1999-6",
          "1999-7",
          "1999-8",
          "1999-9",
          "1999-10",
          "1999-11",
          "1999-12",
          "2000-1",
          "2000-2",
          "2000-3",
          "2000-4",
          "2000-5",
          "2000-6",
          "2000-7",
          "2000-8",
          "2000-9",
          "2000-10",
          "2000-11",
          "2000-12",
          "2001-1",
          "2001-2",
          "2001-3",
          "2001-4",
          "2001-5",
          "2001-6",
          "2001-7",
          "2001-8",
          "2001-9",
          "2001-10",
          "2001-11",
          "2001-12",
          "2002-1",
          "2002-2",
          "2002-3",
          "2002-4",
          "2002-5",
          "2002-6",
          "2002-7",
          "2002-8",
          "2002-9",
          "2002-10",
          "2002-11",
          "2002-12",
          "2003-1",
          "2003-2",
          "2003-3",
          "2003-4",
          "2003-5",
          "2003-6",
          "2003-7",
          "2003-8",
          "2003-9",
          "2003-10",
          "2003-11",
          "2003-12",
          "2004-1",
          "2004-2",
          "2004-3",
          "2004-4",
          "2004-5",
          "2004-6",
          "2004-7",
          "2004-8",
          "2004-9",
          "2004-10",
          "2004-11",
          "2004-12",
          "2005-1",
          "2005-2",
          "2005-3",
          "2005-4",
          "2005-5",
          "2005-6",
          "2005-7",
          "2005-8",
          "2005-9",
          "2005-10",
          "2005-11",
          "2005-12",
          "2006-1",
          "2006-2",
          "2006-3",
          "2006-4",
          "2006-5",
          "2006-6",
          "2006-7",
          "2006-8",
          "2006-9",
          "2006-10",
          "2006-11",
          "2006-12",
          "2007-1",
          "2007-2",
          "2007-3",
          "2007-4",
          "2007-5",
          "2007-6",
          "2007-7",
          "2007-8",
          "2007-9",
          "2007-10",
          "2007-11",
          "2007-12",
          "2008-1",
          "2008-2",
          "2008-3",
          "2008-4",
          "2008-5",
          "2008-6",
          "2008-7",
          "2008-8",
          "2008-9",
          "2008-10",
          "2008-11",
          "2008-12",
          "2009-1",
          "2009-2",
          "2009-3",
          "2009-4",
          "2009-5",
          "2009-6",
          "2009-7",
          "2009-8",
          "2009-9",
          "2009-10",
          "2009-11",
          "2009-12",
          "2010-1",
          "2010-2",
          "2010-3",
          "2010-4",
          "2010-5",
          "2010-6",
          "2010-7",
          "2010-8",
          "2010-9",
          "2010-10",
          "2010-11",
          "2010-12",
          "2011-1",
          "2011-2",
          "2011-3",
          "2011-4",
          "2011-5",
          "2011-6",
          "2011-7",
          "2011-8",
          "2011-9",
          "2011-10",
          "2011-11",
          "2011-12",
          "2012-1",
          "2012-2",
          "2012-3",
          "2012-4",
          "2012-5",
          "2012-6",
          "2012-7",
          "2012-8",
          "2012-9",
          "2012-10",
          "2012-11",
          "2012-12",
          "2013-1",
          "2013-2",
          "2013-3",
          "2013-4",
          "2013-5",
          "2013-6",
          "2013-7",
          "2013-8",
          "2013-9",
          "2013-10",
          "2013-11",
          "2013-12",
          "2014-1",
          "2014-2",
          "2014-3",
          "2014-4",
          "2014-5",
          "2014-6",
          "2014-7",
          "2014-8",
          "2014-9",
          "2014-10",
          "2014-11",
          "2014-12",
          "2015-1",
          "2015-2",
          "2015-3",
          "2015-4",
          "2015-5",
          "2015-6",
          "2015-7",
          "2015-8",
          "2015-9",
          "2015-10",
          "2015-11",
          "2015-12",
          "2016-1",
          "2016-2",
          "2016-3",
          "2016-4",
          "2016-5",
          "2016-6",
          "2016-7",
          "2016-8",
          "2016-9",
          "2016-10",
          "2016-11",
          "2016-12",
          "2017-1",
          "2017-2",
          "2017-3",
          "2017-4",
          "2017-5",
          "2017-6",
          "2017-7",
          "2017-8",
          "2017-9",
          "2017-10",
          "2017-11",
          "2017-12",
          "2018-1",
          "2018-2",
          "2018-3",
          "2018-4",
          "2018-5",
          "2018-6",
          "2018-7",
          "2018-8",
          "2018-9",
          "2018-10",
          "2018-11",
          "2018-12",
          "2019-1",
          "2019-2",
          "2019-3",
          "2019-4",
          "2019-5",
          "2019-6",
          "2019-7",
          "2019-8",
          "2019-9",
          "2019-10",
          "2019-11",
          "2019-12",
          "2020-1",
          "2020-2"
         ],
         "y": [
          277700.1096,
          144178.31594000003,
          98452.80699999999,
          126973.45567,
          154695.11220000006,
          189763.15680000003,
          129607.03099999999,
          181993.82232,
          96371.2111,
          200562.91400000002,
          70981.98070000001,
          210886.0383999999,
          141274.64329999997,
          146051.001,
          146656.063,
          83452.78570000002,
          138183.69179999997,
          137804.77479999996,
          149247.54419999997,
          146319.36390000005,
          200131.7627,
          171377.414,
          206888.2447999999,
          87523.777,
          116034.78340000001,
          155168.62359999996,
          154594.5589,
          102635.98200000003,
          247730.47980000003,
          134943.93790000002,
          114395.54176000001,
          195792.2669999999,
          128250.17490000006,
          179983.01285,
          113691.51199999999,
          168400.8404,
          135762.439,
          188927.59530000002,
          136744.64099999995,
          189683.50180000006,
          156167.35400000002,
          155805.34959999996,
          150888.86590000003,
          101571.78899999996,
          111232.134,
          136831.79899999997,
          116903.9365,
          137888.52499999997,
          198022.1606,
          139612.99099999998,
          111747.589,
          115133.11110000004,
          106977.89300000003,
          186809.7433999999,
          109415.79349999999,
          171560.88300000003,
          194455.81929999997,
          134235.27619999996,
          95743.81300000001,
          190288.8211,
          173605.4317,
          102787.48500000002,
          213102.52090000003,
          199752.03700000007,
          185400.418,
          131009.57800000002,
          115201.29999999999,
          90861.46399999999,
          142385.111,
          177663.30509999994,
          152424.65519999998,
          154254.78,
          111456.03860000001,
          169792.59499999997,
          179211.42590000003,
          93462.604,
          247458.39000000004,
          188860.35799999992,
          157385.87239999996,
          127779.79010000001,
          137372.36809999993,
          234893.6812000001,
          146260.93209999995,
          180947.68219999995,
          133259.2535,
          154939.62000000005,
          148944.10799999998,
          209398.45500000005,
          184352.50789999994,
          175844.57189999998,
          114794.542,
          102887.18099999998,
          203253.70439999996,
          175067.5558,
          118961.41169999998,
          135679.79799999998,
          74686.72899999999,
          119758.31950000001,
          261978.96209999998,
          85082.933,
          136621.88799999998,
          110970.55930000002,
          122279.20520000003,
          161447.27579000004,
          63461.28999999999,
          74179.82700000002,
          133547.67660000004,
          169360.058,
          162010.26609999995,
          182246.02150000012,
          120243.20409999999,
          170380.836,
          181563.97199999995,
          139263.10899999994,
          182111.69009999995,
          132244.58193000004,
          234894.22139,
          166898.13020000004,
          70292.2439,
          81518.1433,
          201135.09299999996,
          157020.99979999996,
          163943.30000000002,
          64296.03699999999,
          188230.889,
          150897.78629999998,
          151200.03739999997,
          119457.7474,
          126961.45579999998,
          161353.829,
          147572.71870000003,
          150646.36600000004,
          171343.75720000002,
          148495.72999999998,
          162864.60890000002,
          156096.02,
          184474.9804,
          109434.1135,
          195160.42609999995,
          145267.113,
          134425.2233,
          177966.416,
          154608.9472,
          122402.8867,
          191330.81405999998,
          114844.701,
          142593.83099999998,
          96684.02330000003,
          223084.01530000003,
          170817.06399999993,
          136518.93589999992,
          179957.495,
          123637.12480000003,
          116379.45600000006,
          183817.39253999994,
          169576.365,
          141776.08599999998,
          115262.38789999999,
          180442.45941789995,
          109684.04749999999,
          111340.37700000001,
          234901.15480000008,
          124664.8994,
          103391.51290000002,
          171739.90009999997,
          189036.23519999997,
          143767.8657,
          198102.73260000002,
          181256.25760000007,
          150335.3672,
          111229.76213999999,
          170597.76853999993,
          164021.78419999997,
          158985.93065999993,
          178388.45690000002,
          191492.4913999999,
          188978.33299999998,
          132336.492,
          171704.332,
          176659.518,
          204594.26899999994,
          175615.1061,
          97717.44600000003,
          164532.1626,
          119864.384,
          138032.544,
          101065.87299999999,
          92417.49279999998,
          169847.77410000004,
          102633.97200000004,
          90472.76100000003,
          135872.0743,
          122259.30900000002,
          110287.34539999998,
          160624.96176999994,
          119138.73500000004,
          135510.52065,
          133754.73039999997,
          164555.8111,
          153604.3944,
          111727.47519999999,
          144759.78569999995,
          94705.40130000001,
          234043.51559999996,
          160325.64410000003,
          93837.96799999998,
          142832.38789999997,
          202898.61585999996,
          233842.86030000003,
          165613.20919999995,
          141848.73399999997,
          150376.65030000004,
          152918.06900000002,
          183310.546,
          105024.11047000001,
          173505.16599999997,
          190313.04799999995,
          156578.85259999998,
          139316.16409999997,
          132663.01699999996,
          193762.45710000003,
          166838.08019999997,
          143733.6384,
          197638.195,
          37907.715000000004,
          247946.4511,
          115447.09260000002,
          129192.063,
          149984.8677,
          147430.56,
          161162.9108,
          155114.03800000003,
          176396.08946,
          144480.64299999998,
          147823.05100000004,
          145991.83899999998,
          171466.84829999995,
          173789.43189999988,
          109780.91758,
          167982.4155,
          162788.10220000005,
          62315.93799999999,
          170234.37280000004,
          120755.60649999998,
          97865.35900000004,
          159424.1053,
          138364.13099999996,
          275976.33262999996,
          137798.692,
          196314.24409999995,
          179868.61644999997,
          226940.26359999998,
          131922.64539999998,
          116387.6979,
          40607.239,
          147698.017,
          149202.388,
          184483.288,
          98721.8759,
          126575.19900000001,
          138504.21445000003,
          158064.48040000006,
          158103.52299999996,
          124789.97639999997,
          219877.696,
          170815.83799999996,
          121609.90213999999,
          186152.20019999996,
          192030.99065000005,
          161744.33649999995,
          115635.152,
          160184.45599999998,
          149366.3483,
          115648.57999999999,
          190864.39490000004,
          201776.82020000005,
          158298.50699999998,
          151386.26309999995,
          179132.14672999998,
          177530.52940000003,
          115464.27720000003,
          107334.32799999998,
          234401.08029999994,
          119574.294,
          107257.48200000002,
          128294.59940000005,
          83395.03499999997,
          140736.785,
          186200.638,
          156539.63280000005,
          193632.76010000004,
          119832.50099999997,
          150209.3889,
          97459.8507,
          111223.029,
          127829.76599999996,
          133834.3481,
          121125.37500000003,
          146552.4427,
          107842.75170000002,
          141405.38499999998,
          133952.57640000002,
          171660.24749999994,
          118788.69119999999,
          125737.03869,
          126890.53000000001,
          159104.80640000006,
          212333.6043000001,
          124081.85700000005,
          155630.8281,
          126194.8564,
          100975.76800000001,
          166045.0845,
          216835.95299999995,
          151818.38499999995,
          104951.69620000003,
          168816.45999999996,
          112801.77840000004,
          130987.32981,
          112281.13860000005,
          112795.64113999998,
          121484.41029999999,
          139428.22530999998,
          136153.041,
          115012.99099999998,
          131842.3342,
          131683.11400000003,
          156389.01799999995,
          154066.629,
          98957.84499999999,
          173231.63420000003,
          121783.09509999998,
          127155.50899999999,
          113576.082,
          126017.08599999998,
          149043.57330000002,
          172655.6213,
          170191.26029999997,
          223189.14299999995,
          131284.87079999998,
          129959.83740000002,
          156685.02190000008,
          217724.99440000008,
          149349.41100000005,
          128548.75000000001,
          113987.28510000001,
          114589.854,
          154155.77779,
          99312.48,
          121540.56100000003,
          112327.43780000003,
          89528.7161,
          130288.82032199999,
          229433.28009999997,
          139460.11399999994,
          141866.33000000005,
          203875.1058,
          146943.79970000003,
          184680.71640000006,
          145729.2071,
          108269.0522,
          78999.9606,
          147063.50699999998,
          197938.67030000006,
          137273.49700000003,
          231709.96210000003,
          225232.02900000007,
          142364.34495,
          132349.6858,
          121808.53300000002,
          148942.30700000006,
          125086.22870000004,
          146528.09518000003,
          131988.38,
          156990.48940000002,
          169975.58099999998,
          161370.20299999992,
          138476.39959999998,
          136854.00100000002,
          150018.44700000001,
          139657.241,
          114674.82500000001,
          162030.21000000002,
          156138.962,
          104703.604,
          137833.83889999997,
          172483.65700000004,
          169167.4809999999,
          84652.00769999999,
          78081.23010000002,
          120608.61100000002,
          133197.2794,
          159146.0843,
          209598.90340000004,
          165578.24399999995,
          196333.64144299997,
          197729.6848,
          156103.19590000008,
          66343.16100000001,
          174003.99759999994,
          130026.47599999997,
          138963.46959999998,
          149539.13060000003,
          131701.82499999995,
          101375.05420000003,
          235239.19199999992,
          151715.70399999997,
          162663.0837,
          94314.34099999999,
          112312.04990000001,
          83695.27653999999,
          104705.83599999997,
          173753.39379999996,
          174215.87989999994,
          129035.4316,
          89586.615,
          116765.7378,
          156685.2204,
          155417.28000000006,
          70664.00240000001,
          147380.728,
          99776.65941000001,
          170171.53149999992,
          124362.046,
          189763.10658999998,
          169345.59569999998,
          136893.58030000003,
          138958.75330000004,
          113915.29310000001,
          121569.987,
          154896.6706,
          182639.30060000005,
          149239.10799999998,
          123511.99219999998,
          141106.09319999997,
          175930.86399999997,
          194556.84299999985,
          147299.77899999998,
          149870.99322,
          117916.966,
          158960.2377000001,
          184829.54699999996,
          198673.41449999996,
          70854.3904,
          130457.90520000001,
          132627.27312000003,
          166368.23549999998,
          161237.38980000003,
          219551.69099999996,
          160193.7013000001,
          152751.76410000003,
          162898.68930000003,
          138211.17700000003,
          125411.70499999997,
          119531.74049999997,
          121015.54989999997,
          144694.006,
          143946.96569999997,
          169531.02990000002,
          117288.778,
          109330.91720000001,
          62750.9914,
          125674.16049999997,
          111802.5692,
          119892.02170000003,
          110472.2566,
          172055.88969999997,
          236602.65999999995,
          134500.10040000002,
          93045.98800000001,
          117498.31709999999,
          211308.40390000003,
          80837.90726999995,
          154111.90490000002,
          161829.81100000002,
          140972.43699999998,
          135688.081,
          106359.33099999998,
          73962.8897,
          165343.6333,
          200690.39959999992,
          218235.9679999999,
          156904.06100000005,
          116201.24290000001,
          132588.7059,
          130495.652,
          127006.66136000003,
          166504.90600000008,
          100732.70899999999,
          181416.90799999994,
          83468.22609999999,
          150135.3995,
          179256.1266,
          139941.8328,
          182283.32120000003,
          157293.60039999997,
          268538.65900000004,
          100382.7991,
          206989.03089999998,
          192779.4991499999,
          195986.65326999992,
          156313.82700000002,
          115745.52979999999,
          89144.75120000001,
          81116.35500000001,
          202299.4045,
          227785.42479999998,
          192591.34399999998,
          158669.8105,
          116259.80720000001,
          181575.9559,
          174282.68079999994,
          140925.91499999995,
          160038.12209999995,
          91422.16,
          140703.07409999997,
          123594.98800000003,
          95045.90199999997,
          180028.17980000004,
          104309.63810000001,
          160227.08599999998,
          145066.52053099996,
          119797.79599999996,
          138134.30949,
          195186.12300000005,
          127132.29670000002,
          219690.95349999997,
          83263.42589999997,
          210884.95079999988,
          245481.76799999992,
          168215.14299999998,
          106337.3614,
          176363.18500000003,
          121016.61700000004,
          142279.57070000007,
          140688.81600000002,
          124833.086,
          184682.87569999995,
          153531.38999999998,
          176720.97109999997,
          222275.19439999992,
          131002.32200000001,
          101569.23,
          183160.95400000003,
          106587.50599999998,
          165669.77070000008,
          157020.45969999998,
          125730.14929999998,
          126922.33299999997,
          214109.65800000005,
          179710.36959999998,
          177186.2593,
          176452.03899999993,
          80508.86900000002,
          118964.87600000005,
          142443.20700000002,
          185987.6856,
          96266.41999999998,
          124877.78910000002,
          190093.94200000004,
          137710.8734,
          151677.5808,
          151052.9832,
          82840.87299999996,
          181616.8387199999,
          132548.642,
          142207.87570000003,
          117231.26900000001,
          164161.88569999996,
          109873.7909,
          131751.7696,
          149401.79500000004,
          163955.21769999998,
          134588.41829999996,
          105366.3765,
          153910.54070000004,
          236404.1849999999,
          137391.316,
          155849.57800000004,
          103451.62599999999,
          131585.33349999998,
          180641.02328999998,
          195144.27509999997,
          127147.84999999999,
          146866.19200000007,
          188255.032,
          145634.64299999998,
          140788.22592000003,
          178992.20920000007,
          130426.31799999996,
          177472.179,
          104312.7027,
          182395.41640000002,
          165263.13330000004,
          210087.4748,
          129641.93099999997,
          109099.19709999999,
          175098.77550000005,
          78501.59019999999,
          167333.858,
          129652.3134,
          25840.646
         ]
        }
       ],
       "layout": {
        "template": {
         "data": {
          "bar": [
           {
            "error_x": {
             "color": "#2a3f5f"
            },
            "error_y": {
             "color": "#2a3f5f"
            },
            "marker": {
             "line": {
              "color": "#E5ECF6",
              "width": 0.5
             }
            },
            "type": "bar"
           }
          ],
          "barpolar": [
           {
            "marker": {
             "line": {
              "color": "#E5ECF6",
              "width": 0.5
             }
            },
            "type": "barpolar"
           }
          ],
          "carpet": [
           {
            "aaxis": {
             "endlinecolor": "#2a3f5f",
             "gridcolor": "white",
             "linecolor": "white",
             "minorgridcolor": "white",
             "startlinecolor": "#2a3f5f"
            },
            "baxis": {
             "endlinecolor": "#2a3f5f",
             "gridcolor": "white",
             "linecolor": "white",
             "minorgridcolor": "white",
             "startlinecolor": "#2a3f5f"
            },
            "type": "carpet"
           }
          ],
          "choropleth": [
           {
            "colorbar": {
             "outlinewidth": 0,
             "ticks": ""
            },
            "type": "choropleth"
           }
          ],
          "contour": [
           {
            "colorbar": {
             "outlinewidth": 0,
             "ticks": ""
            },
            "colorscale": [
             [
              0,
              "#0d0887"
             ],
             [
              0.1111111111111111,
              "#46039f"
             ],
             [
              0.2222222222222222,
              "#7201a8"
             ],
             [
              0.3333333333333333,
              "#9c179e"
             ],
             [
              0.4444444444444444,
              "#bd3786"
             ],
             [
              0.5555555555555556,
              "#d8576b"
             ],
             [
              0.6666666666666666,
              "#ed7953"
             ],
             [
              0.7777777777777778,
              "#fb9f3a"
             ],
             [
              0.8888888888888888,
              "#fdca26"
             ],
             [
              1,
              "#f0f921"
             ]
            ],
            "type": "contour"
           }
          ],
          "contourcarpet": [
           {
            "colorbar": {
             "outlinewidth": 0,
             "ticks": ""
            },
            "type": "contourcarpet"
           }
          ],
          "heatmap": [
           {
            "colorbar": {
             "outlinewidth": 0,
             "ticks": ""
            },
            "colorscale": [
             [
              0,
              "#0d0887"
             ],
             [
              0.1111111111111111,
              "#46039f"
             ],
             [
              0.2222222222222222,
              "#7201a8"
             ],
             [
              0.3333333333333333,
              "#9c179e"
             ],
             [
              0.4444444444444444,
              "#bd3786"
             ],
             [
              0.5555555555555556,
              "#d8576b"
             ],
             [
              0.6666666666666666,
              "#ed7953"
             ],
             [
              0.7777777777777778,
              "#fb9f3a"
             ],
             [
              0.8888888888888888,
              "#fdca26"
             ],
             [
              1,
              "#f0f921"
             ]
            ],
            "type": "heatmap"
           }
          ],
          "heatmapgl": [
           {
            "colorbar": {
             "outlinewidth": 0,
             "ticks": ""
            },
            "colorscale": [
             [
              0,
              "#0d0887"
             ],
             [
              0.1111111111111111,
              "#46039f"
             ],
             [
              0.2222222222222222,
              "#7201a8"
             ],
             [
              0.3333333333333333,
              "#9c179e"
             ],
             [
              0.4444444444444444,
              "#bd3786"
             ],
             [
              0.5555555555555556,
              "#d8576b"
             ],
             [
              0.6666666666666666,
              "#ed7953"
             ],
             [
              0.7777777777777778,
              "#fb9f3a"
             ],
             [
              0.8888888888888888,
              "#fdca26"
             ],
             [
              1,
              "#f0f921"
             ]
            ],
            "type": "heatmapgl"
           }
          ],
          "histogram": [
           {
            "marker": {
             "colorbar": {
              "outlinewidth": 0,
              "ticks": ""
             }
            },
            "type": "histogram"
           }
          ],
          "histogram2d": [
           {
            "colorbar": {
             "outlinewidth": 0,
             "ticks": ""
            },
            "colorscale": [
             [
              0,
              "#0d0887"
             ],
             [
              0.1111111111111111,
              "#46039f"
             ],
             [
              0.2222222222222222,
              "#7201a8"
             ],
             [
              0.3333333333333333,
              "#9c179e"
             ],
             [
              0.4444444444444444,
              "#bd3786"
             ],
             [
              0.5555555555555556,
              "#d8576b"
             ],
             [
              0.6666666666666666,
              "#ed7953"
             ],
             [
              0.7777777777777778,
              "#fb9f3a"
             ],
             [
              0.8888888888888888,
              "#fdca26"
             ],
             [
              1,
              "#f0f921"
             ]
            ],
            "type": "histogram2d"
           }
          ],
          "histogram2dcontour": [
           {
            "colorbar": {
             "outlinewidth": 0,
             "ticks": ""
            },
            "colorscale": [
             [
              0,
              "#0d0887"
             ],
             [
              0.1111111111111111,
              "#46039f"
             ],
             [
              0.2222222222222222,
              "#7201a8"
             ],
             [
              0.3333333333333333,
              "#9c179e"
             ],
             [
              0.4444444444444444,
              "#bd3786"
             ],
             [
              0.5555555555555556,
              "#d8576b"
             ],
             [
              0.6666666666666666,
              "#ed7953"
             ],
             [
              0.7777777777777778,
              "#fb9f3a"
             ],
             [
              0.8888888888888888,
              "#fdca26"
             ],
             [
              1,
              "#f0f921"
             ]
            ],
            "type": "histogram2dcontour"
           }
          ],
          "mesh3d": [
           {
            "colorbar": {
             "outlinewidth": 0,
             "ticks": ""
            },
            "type": "mesh3d"
           }
          ],
          "parcoords": [
           {
            "line": {
             "colorbar": {
              "outlinewidth": 0,
              "ticks": ""
             }
            },
            "type": "parcoords"
           }
          ],
          "pie": [
           {
            "automargin": true,
            "type": "pie"
           }
          ],
          "scatter": [
           {
            "marker": {
             "colorbar": {
              "outlinewidth": 0,
              "ticks": ""
             }
            },
            "type": "scatter"
           }
          ],
          "scatter3d": [
           {
            "line": {
             "colorbar": {
              "outlinewidth": 0,
              "ticks": ""
             }
            },
            "marker": {
             "colorbar": {
              "outlinewidth": 0,
              "ticks": ""
             }
            },
            "type": "scatter3d"
           }
          ],
          "scattercarpet": [
           {
            "marker": {
             "colorbar": {
              "outlinewidth": 0,
              "ticks": ""
             }
            },
            "type": "scattercarpet"
           }
          ],
          "scattergeo": [
           {
            "marker": {
             "colorbar": {
              "outlinewidth": 0,
              "ticks": ""
             }
            },
            "type": "scattergeo"
           }
          ],
          "scattergl": [
           {
            "marker": {
             "colorbar": {
              "outlinewidth": 0,
              "ticks": ""
             }
            },
            "type": "scattergl"
           }
          ],
          "scattermapbox": [
           {
            "marker": {
             "colorbar": {
              "outlinewidth": 0,
              "ticks": ""
             }
            },
            "type": "scattermapbox"
           }
          ],
          "scatterpolar": [
           {
            "marker": {
             "colorbar": {
              "outlinewidth": 0,
              "ticks": ""
             }
            },
            "type": "scatterpolar"
           }
          ],
          "scatterpolargl": [
           {
            "marker": {
             "colorbar": {
              "outlinewidth": 0,
              "ticks": ""
             }
            },
            "type": "scatterpolargl"
           }
          ],
          "scatterternary": [
           {
            "marker": {
             "colorbar": {
              "outlinewidth": 0,
              "ticks": ""
             }
            },
            "type": "scatterternary"
           }
          ],
          "surface": [
           {
            "colorbar": {
             "outlinewidth": 0,
             "ticks": ""
            },
            "colorscale": [
             [
              0,
              "#0d0887"
             ],
             [
              0.1111111111111111,
              "#46039f"
             ],
             [
              0.2222222222222222,
              "#7201a8"
             ],
             [
              0.3333333333333333,
              "#9c179e"
             ],
             [
              0.4444444444444444,
              "#bd3786"
             ],
             [
              0.5555555555555556,
              "#d8576b"
             ],
             [
              0.6666666666666666,
              "#ed7953"
             ],
             [
              0.7777777777777778,
              "#fb9f3a"
             ],
             [
              0.8888888888888888,
              "#fdca26"
             ],
             [
              1,
              "#f0f921"
             ]
            ],
            "type": "surface"
           }
          ],
          "table": [
           {
            "cells": {
             "fill": {
              "color": "#EBF0F8"
             },
             "line": {
              "color": "white"
             }
            },
            "header": {
             "fill": {
              "color": "#C8D4E3"
             },
             "line": {
              "color": "white"
             }
            },
            "type": "table"
           }
          ]
         },
         "layout": {
          "annotationdefaults": {
           "arrowcolor": "#2a3f5f",
           "arrowhead": 0,
           "arrowwidth": 1
          },
          "coloraxis": {
           "colorbar": {
            "outlinewidth": 0,
            "ticks": ""
           }
          },
          "colorscale": {
           "diverging": [
            [
             0,
             "#8e0152"
            ],
            [
             0.1,
             "#c51b7d"
            ],
            [
             0.2,
             "#de77ae"
            ],
            [
             0.3,
             "#f1b6da"
            ],
            [
             0.4,
             "#fde0ef"
            ],
            [
             0.5,
             "#f7f7f7"
            ],
            [
             0.6,
             "#e6f5d0"
            ],
            [
             0.7,
             "#b8e186"
            ],
            [
             0.8,
             "#7fbc41"
            ],
            [
             0.9,
             "#4d9221"
            ],
            [
             1,
             "#276419"
            ]
           ],
           "sequential": [
            [
             0,
             "#0d0887"
            ],
            [
             0.1111111111111111,
             "#46039f"
            ],
            [
             0.2222222222222222,
             "#7201a8"
            ],
            [
             0.3333333333333333,
             "#9c179e"
            ],
            [
             0.4444444444444444,
             "#bd3786"
            ],
            [
             0.5555555555555556,
             "#d8576b"
            ],
            [
             0.6666666666666666,
             "#ed7953"
            ],
            [
             0.7777777777777778,
             "#fb9f3a"
            ],
            [
             0.8888888888888888,
             "#fdca26"
            ],
            [
             1,
             "#f0f921"
            ]
           ],
           "sequentialminus": [
            [
             0,
             "#0d0887"
            ],
            [
             0.1111111111111111,
             "#46039f"
            ],
            [
             0.2222222222222222,
             "#7201a8"
            ],
            [
             0.3333333333333333,
             "#9c179e"
            ],
            [
             0.4444444444444444,
             "#bd3786"
            ],
            [
             0.5555555555555556,
             "#d8576b"
            ],
            [
             0.6666666666666666,
             "#ed7953"
            ],
            [
             0.7777777777777778,
             "#fb9f3a"
            ],
            [
             0.8888888888888888,
             "#fdca26"
            ],
            [
             1,
             "#f0f921"
            ]
           ]
          },
          "colorway": [
           "#636efa",
           "#EF553B",
           "#00cc96",
           "#ab63fa",
           "#FFA15A",
           "#19d3f3",
           "#FF6692",
           "#B6E880",
           "#FF97FF",
           "#FECB52"
          ],
          "font": {
           "color": "#2a3f5f"
          },
          "geo": {
           "bgcolor": "white",
           "lakecolor": "white",
           "landcolor": "#E5ECF6",
           "showlakes": true,
           "showland": true,
           "subunitcolor": "white"
          },
          "hoverlabel": {
           "align": "left"
          },
          "hovermode": "closest",
          "mapbox": {
           "style": "light"
          },
          "paper_bgcolor": "white",
          "plot_bgcolor": "#E5ECF6",
          "polar": {
           "angularaxis": {
            "gridcolor": "white",
            "linecolor": "white",
            "ticks": ""
           },
           "bgcolor": "#E5ECF6",
           "radialaxis": {
            "gridcolor": "white",
            "linecolor": "white",
            "ticks": ""
           }
          },
          "scene": {
           "xaxis": {
            "backgroundcolor": "#E5ECF6",
            "gridcolor": "white",
            "gridwidth": 2,
            "linecolor": "white",
            "showbackground": true,
            "ticks": "",
            "zerolinecolor": "white"
           },
           "yaxis": {
            "backgroundcolor": "#E5ECF6",
            "gridcolor": "white",
            "gridwidth": 2,
            "linecolor": "white",
            "showbackground": true,
            "ticks": "",
            "zerolinecolor": "white"
           },
           "zaxis": {
            "backgroundcolor": "#E5ECF6",
            "gridcolor": "white",
            "gridwidth": 2,
            "linecolor": "white",
            "showbackground": true,
            "ticks": "",
            "zerolinecolor": "white"
           }
          },
          "shapedefaults": {
           "line": {
            "color": "#2a3f5f"
           }
          },
          "ternary": {
           "aaxis": {
            "gridcolor": "white",
            "linecolor": "white",
            "ticks": ""
           },
           "baxis": {
            "gridcolor": "white",
            "linecolor": "white",
            "ticks": ""
           },
           "bgcolor": "#E5ECF6",
           "caxis": {
            "gridcolor": "white",
            "linecolor": "white",
            "ticks": ""
           }
          },
          "title": {
           "x": 0.05
          },
          "xaxis": {
           "automargin": true,
           "gridcolor": "white",
           "linecolor": "white",
           "ticks": "",
           "title": {
            "standoff": 15
           },
           "zerolinecolor": "white",
           "zerolinewidth": 2
          },
          "yaxis": {
           "automargin": true,
           "gridcolor": "white",
           "linecolor": "white",
           "ticks": "",
           "title": {
            "standoff": 15
           },
           "zerolinecolor": "white",
           "zerolinewidth": 2
          }
         }
        },
        "title": {
         "text": "Vendas por mês"
        },
        "xaxis": {
         "title": {
          "text": "Mês"
         }
        },
        "yaxis": {
         "title": {
          "text": "Vendas ($)"
         }
        }
       }
      },
      "text/html": [
       "<div>\n",
       "        \n",
       "        \n",
       "            <div id=\"ba4526e0-779b-48ac-aa5f-cd60b8a80c73\" class=\"plotly-graph-div\" style=\"height:525px; width:100%;\"></div>\n",
       "            <script type=\"text/javascript\">\n",
       "                require([\"plotly\"], function(Plotly) {\n",
       "                    window.PLOTLYENV=window.PLOTLYENV || {};\n",
       "                    \n",
       "                if (document.getElementById(\"ba4526e0-779b-48ac-aa5f-cd60b8a80c73\")) {\n",
       "                    Plotly.newPlot(\n",
       "                        'ba4526e0-779b-48ac-aa5f-cd60b8a80c73',\n",
       "                        [{\"marker\": {\"color\": \"blue\"}, \"mode\": \"lines+markers\", \"type\": \"scatter\", \"x\": [\"1970-1\", \"1970-2\", \"1970-3\", \"1970-4\", \"1970-5\", \"1970-6\", \"1970-7\", \"1970-8\", \"1970-9\", \"1970-10\", \"1970-11\", \"1970-12\", \"1971-1\", \"1971-2\", \"1971-3\", \"1971-4\", \"1971-5\", \"1971-6\", \"1971-7\", \"1971-8\", \"1971-9\", \"1971-10\", \"1971-11\", \"1971-12\", \"1972-1\", \"1972-2\", \"1972-3\", \"1972-4\", \"1972-5\", \"1972-6\", \"1972-7\", \"1972-8\", \"1972-9\", \"1972-10\", \"1972-11\", \"1972-12\", \"1973-1\", \"1973-2\", \"1973-3\", \"1973-4\", \"1973-5\", \"1973-6\", \"1973-7\", \"1973-8\", \"1973-9\", \"1973-10\", \"1973-11\", \"1973-12\", \"1974-1\", \"1974-2\", \"1974-3\", \"1974-4\", \"1974-5\", \"1974-6\", \"1974-7\", \"1974-8\", \"1974-9\", \"1974-10\", \"1974-11\", \"1974-12\", \"1975-1\", \"1975-2\", \"1975-3\", \"1975-4\", \"1975-5\", \"1975-6\", \"1975-7\", \"1975-8\", \"1975-9\", \"1975-10\", \"1975-11\", \"1975-12\", \"1976-1\", \"1976-2\", \"1976-3\", \"1976-4\", \"1976-5\", \"1976-6\", \"1976-7\", \"1976-8\", \"1976-9\", \"1976-10\", \"1976-11\", \"1976-12\", \"1977-1\", \"1977-2\", \"1977-3\", \"1977-4\", \"1977-5\", \"1977-6\", \"1977-7\", \"1977-8\", \"1977-9\", \"1977-10\", \"1977-11\", \"1977-12\", \"1978-1\", \"1978-2\", \"1978-3\", \"1978-4\", \"1978-5\", \"1978-6\", \"1978-7\", \"1978-8\", \"1978-9\", \"1978-10\", \"1978-11\", \"1978-12\", \"1979-1\", \"1979-2\", \"1979-3\", \"1979-4\", \"1979-5\", \"1979-6\", \"1979-7\", \"1979-8\", \"1979-9\", \"1979-10\", \"1979-11\", \"1979-12\", \"1980-1\", \"1980-2\", \"1980-3\", \"1980-4\", \"1980-5\", \"1980-6\", \"1980-7\", \"1980-8\", \"1980-9\", \"1980-10\", \"1980-11\", \"1980-12\", \"1981-1\", \"1981-2\", \"1981-3\", \"1981-4\", \"1981-5\", \"1981-6\", \"1981-7\", \"1981-8\", \"1981-9\", \"1981-10\", \"1981-11\", \"1981-12\", \"1982-1\", \"1982-2\", \"1982-3\", \"1982-4\", \"1982-5\", \"1982-6\", \"1982-7\", \"1982-8\", \"1982-9\", \"1982-10\", \"1982-11\", \"1982-12\", \"1983-1\", \"1983-2\", \"1983-3\", \"1983-4\", \"1983-5\", \"1983-6\", \"1983-7\", \"1983-8\", \"1983-9\", \"1983-10\", \"1983-11\", \"1983-12\", \"1984-1\", \"1984-2\", \"1984-3\", \"1984-4\", \"1984-5\", \"1984-6\", \"1984-7\", \"1984-8\", \"1984-9\", \"1984-10\", \"1984-11\", \"1984-12\", \"1985-1\", \"1985-2\", \"1985-3\", \"1985-4\", \"1985-5\", \"1985-6\", \"1985-7\", \"1985-8\", \"1985-9\", \"1985-10\", \"1985-11\", \"1985-12\", \"1986-1\", \"1986-2\", \"1986-3\", \"1986-4\", \"1986-5\", \"1986-6\", \"1986-7\", \"1986-8\", \"1986-9\", \"1986-10\", \"1986-11\", \"1986-12\", \"1987-1\", \"1987-2\", \"1987-3\", \"1987-4\", \"1987-5\", \"1987-6\", \"1987-7\", \"1987-8\", \"1987-9\", \"1987-10\", \"1987-11\", \"1987-12\", \"1988-1\", \"1988-2\", \"1988-3\", \"1988-4\", \"1988-5\", \"1988-6\", \"1988-7\", \"1988-8\", \"1988-9\", \"1988-10\", \"1988-11\", \"1988-12\", \"1989-1\", \"1989-2\", \"1989-3\", \"1989-4\", \"1989-5\", \"1989-6\", \"1989-7\", \"1989-8\", \"1989-9\", \"1989-10\", \"1989-11\", \"1989-12\", \"1990-1\", \"1990-2\", \"1990-3\", \"1990-4\", \"1990-5\", \"1990-6\", \"1990-7\", \"1990-8\", \"1990-9\", \"1990-10\", \"1990-11\", \"1990-12\", \"1991-1\", \"1991-2\", \"1991-3\", \"1991-4\", \"1991-5\", \"1991-6\", \"1991-7\", \"1991-8\", \"1991-9\", \"1991-10\", \"1991-11\", \"1991-12\", \"1992-1\", \"1992-2\", \"1992-3\", \"1992-4\", \"1992-5\", \"1992-6\", \"1992-7\", \"1992-8\", \"1992-9\", \"1992-10\", \"1992-11\", \"1992-12\", \"1993-1\", \"1993-2\", \"1993-3\", \"1993-4\", \"1993-5\", \"1993-6\", \"1993-7\", \"1993-8\", \"1993-9\", \"1993-10\", \"1993-11\", \"1993-12\", \"1994-1\", \"1994-2\", \"1994-3\", \"1994-4\", \"1994-5\", \"1994-6\", \"1994-7\", \"1994-8\", \"1994-9\", \"1994-10\", \"1994-11\", \"1994-12\", \"1995-1\", \"1995-2\", \"1995-3\", \"1995-4\", \"1995-5\", \"1995-6\", \"1995-7\", \"1995-8\", \"1995-9\", \"1995-10\", \"1995-11\", \"1995-12\", \"1996-1\", \"1996-2\", \"1996-3\", \"1996-4\", \"1996-5\", \"1996-6\", \"1996-7\", \"1996-8\", \"1996-9\", \"1996-10\", \"1996-11\", \"1996-12\", \"1997-1\", \"1997-2\", \"1997-3\", \"1997-4\", \"1997-5\", \"1997-6\", \"1997-7\", \"1997-8\", \"1997-9\", \"1997-10\", \"1997-11\", \"1997-12\", \"1998-1\", \"1998-2\", \"1998-3\", \"1998-4\", \"1998-5\", \"1998-6\", \"1998-7\", \"1998-8\", \"1998-9\", \"1998-10\", \"1998-11\", \"1998-12\", \"1999-1\", \"1999-2\", \"1999-3\", \"1999-4\", \"1999-5\", \"1999-6\", \"1999-7\", \"1999-8\", \"1999-9\", \"1999-10\", \"1999-11\", \"1999-12\", \"2000-1\", \"2000-2\", \"2000-3\", \"2000-4\", \"2000-5\", \"2000-6\", \"2000-7\", \"2000-8\", \"2000-9\", \"2000-10\", \"2000-11\", \"2000-12\", \"2001-1\", \"2001-2\", \"2001-3\", \"2001-4\", \"2001-5\", \"2001-6\", \"2001-7\", \"2001-8\", \"2001-9\", \"2001-10\", \"2001-11\", \"2001-12\", \"2002-1\", \"2002-2\", \"2002-3\", \"2002-4\", \"2002-5\", \"2002-6\", \"2002-7\", \"2002-8\", \"2002-9\", \"2002-10\", \"2002-11\", \"2002-12\", \"2003-1\", \"2003-2\", \"2003-3\", \"2003-4\", \"2003-5\", \"2003-6\", \"2003-7\", \"2003-8\", \"2003-9\", \"2003-10\", \"2003-11\", \"2003-12\", \"2004-1\", \"2004-2\", \"2004-3\", \"2004-4\", \"2004-5\", \"2004-6\", \"2004-7\", \"2004-8\", \"2004-9\", \"2004-10\", \"2004-11\", \"2004-12\", \"2005-1\", \"2005-2\", \"2005-3\", \"2005-4\", \"2005-5\", \"2005-6\", \"2005-7\", \"2005-8\", \"2005-9\", \"2005-10\", \"2005-11\", \"2005-12\", \"2006-1\", \"2006-2\", \"2006-3\", \"2006-4\", \"2006-5\", \"2006-6\", \"2006-7\", \"2006-8\", \"2006-9\", \"2006-10\", \"2006-11\", \"2006-12\", \"2007-1\", \"2007-2\", \"2007-3\", \"2007-4\", \"2007-5\", \"2007-6\", \"2007-7\", \"2007-8\", \"2007-9\", \"2007-10\", \"2007-11\", \"2007-12\", \"2008-1\", \"2008-2\", \"2008-3\", \"2008-4\", \"2008-5\", \"2008-6\", \"2008-7\", \"2008-8\", \"2008-9\", \"2008-10\", \"2008-11\", \"2008-12\", \"2009-1\", \"2009-2\", \"2009-3\", \"2009-4\", \"2009-5\", \"2009-6\", \"2009-7\", \"2009-8\", \"2009-9\", \"2009-10\", \"2009-11\", \"2009-12\", \"2010-1\", \"2010-2\", \"2010-3\", \"2010-4\", \"2010-5\", \"2010-6\", \"2010-7\", \"2010-8\", \"2010-9\", \"2010-10\", \"2010-11\", \"2010-12\", \"2011-1\", \"2011-2\", \"2011-3\", \"2011-4\", \"2011-5\", \"2011-6\", \"2011-7\", \"2011-8\", \"2011-9\", \"2011-10\", \"2011-11\", \"2011-12\", \"2012-1\", \"2012-2\", \"2012-3\", \"2012-4\", \"2012-5\", \"2012-6\", \"2012-7\", \"2012-8\", \"2012-9\", \"2012-10\", \"2012-11\", \"2012-12\", \"2013-1\", \"2013-2\", \"2013-3\", \"2013-4\", \"2013-5\", \"2013-6\", \"2013-7\", \"2013-8\", \"2013-9\", \"2013-10\", \"2013-11\", \"2013-12\", \"2014-1\", \"2014-2\", \"2014-3\", \"2014-4\", \"2014-5\", \"2014-6\", \"2014-7\", \"2014-8\", \"2014-9\", \"2014-10\", \"2014-11\", \"2014-12\", \"2015-1\", \"2015-2\", \"2015-3\", \"2015-4\", \"2015-5\", \"2015-6\", \"2015-7\", \"2015-8\", \"2015-9\", \"2015-10\", \"2015-11\", \"2015-12\", \"2016-1\", \"2016-2\", \"2016-3\", \"2016-4\", \"2016-5\", \"2016-6\", \"2016-7\", \"2016-8\", \"2016-9\", \"2016-10\", \"2016-11\", \"2016-12\", \"2017-1\", \"2017-2\", \"2017-3\", \"2017-4\", \"2017-5\", \"2017-6\", \"2017-7\", \"2017-8\", \"2017-9\", \"2017-10\", \"2017-11\", \"2017-12\", \"2018-1\", \"2018-2\", \"2018-3\", \"2018-4\", \"2018-5\", \"2018-6\", \"2018-7\", \"2018-8\", \"2018-9\", \"2018-10\", \"2018-11\", \"2018-12\", \"2019-1\", \"2019-2\", \"2019-3\", \"2019-4\", \"2019-5\", \"2019-6\", \"2019-7\", \"2019-8\", \"2019-9\", \"2019-10\", \"2019-11\", \"2019-12\", \"2020-1\", \"2020-2\"], \"y\": [277700.1096, 144178.31594000003, 98452.80699999999, 126973.45567, 154695.11220000006, 189763.15680000003, 129607.03099999999, 181993.82232, 96371.2111, 200562.91400000002, 70981.98070000001, 210886.0383999999, 141274.64329999997, 146051.001, 146656.063, 83452.78570000002, 138183.69179999997, 137804.77479999996, 149247.54419999997, 146319.36390000005, 200131.7627, 171377.414, 206888.2447999999, 87523.777, 116034.78340000001, 155168.62359999996, 154594.5589, 102635.98200000003, 247730.47980000003, 134943.93790000002, 114395.54176000001, 195792.2669999999, 128250.17490000006, 179983.01285, 113691.51199999999, 168400.8404, 135762.439, 188927.59530000002, 136744.64099999995, 189683.50180000006, 156167.35400000002, 155805.34959999996, 150888.86590000003, 101571.78899999996, 111232.134, 136831.79899999997, 116903.9365, 137888.52499999997, 198022.1606, 139612.99099999998, 111747.589, 115133.11110000004, 106977.89300000003, 186809.7433999999, 109415.79349999999, 171560.88300000003, 194455.81929999997, 134235.27619999996, 95743.81300000001, 190288.8211, 173605.4317, 102787.48500000002, 213102.52090000003, 199752.03700000007, 185400.418, 131009.57800000002, 115201.29999999999, 90861.46399999999, 142385.111, 177663.30509999994, 152424.65519999998, 154254.78, 111456.03860000001, 169792.59499999997, 179211.42590000003, 93462.604, 247458.39000000004, 188860.35799999992, 157385.87239999996, 127779.79010000001, 137372.36809999993, 234893.6812000001, 146260.93209999995, 180947.68219999995, 133259.2535, 154939.62000000005, 148944.10799999998, 209398.45500000005, 184352.50789999994, 175844.57189999998, 114794.542, 102887.18099999998, 203253.70439999996, 175067.5558, 118961.41169999998, 135679.79799999998, 74686.72899999999, 119758.31950000001, 261978.96209999998, 85082.933, 136621.88799999998, 110970.55930000002, 122279.20520000003, 161447.27579000004, 63461.28999999999, 74179.82700000002, 133547.67660000004, 169360.058, 162010.26609999995, 182246.02150000012, 120243.20409999999, 170380.836, 181563.97199999995, 139263.10899999994, 182111.69009999995, 132244.58193000004, 234894.22139, 166898.13020000004, 70292.2439, 81518.1433, 201135.09299999996, 157020.99979999996, 163943.30000000002, 64296.03699999999, 188230.889, 150897.78629999998, 151200.03739999997, 119457.7474, 126961.45579999998, 161353.829, 147572.71870000003, 150646.36600000004, 171343.75720000002, 148495.72999999998, 162864.60890000002, 156096.02, 184474.9804, 109434.1135, 195160.42609999995, 145267.113, 134425.2233, 177966.416, 154608.9472, 122402.8867, 191330.81405999998, 114844.701, 142593.83099999998, 96684.02330000003, 223084.01530000003, 170817.06399999993, 136518.93589999992, 179957.495, 123637.12480000003, 116379.45600000006, 183817.39253999994, 169576.365, 141776.08599999998, 115262.38789999999, 180442.45941789995, 109684.04749999999, 111340.37700000001, 234901.15480000008, 124664.8994, 103391.51290000002, 171739.90009999997, 189036.23519999997, 143767.8657, 198102.73260000002, 181256.25760000007, 150335.3672, 111229.76213999999, 170597.76853999993, 164021.78419999997, 158985.93065999993, 178388.45690000002, 191492.4913999999, 188978.33299999998, 132336.492, 171704.332, 176659.518, 204594.26899999994, 175615.1061, 97717.44600000003, 164532.1626, 119864.384, 138032.544, 101065.87299999999, 92417.49279999998, 169847.77410000004, 102633.97200000004, 90472.76100000003, 135872.0743, 122259.30900000002, 110287.34539999998, 160624.96176999994, 119138.73500000004, 135510.52065, 133754.73039999997, 164555.8111, 153604.3944, 111727.47519999999, 144759.78569999995, 94705.40130000001, 234043.51559999996, 160325.64410000003, 93837.96799999998, 142832.38789999997, 202898.61585999996, 233842.86030000003, 165613.20919999995, 141848.73399999997, 150376.65030000004, 152918.06900000002, 183310.546, 105024.11047000001, 173505.16599999997, 190313.04799999995, 156578.85259999998, 139316.16409999997, 132663.01699999996, 193762.45710000003, 166838.08019999997, 143733.6384, 197638.195, 37907.715000000004, 247946.4511, 115447.09260000002, 129192.063, 149984.8677, 147430.56, 161162.9108, 155114.03800000003, 176396.08946, 144480.64299999998, 147823.05100000004, 145991.83899999998, 171466.84829999995, 173789.43189999988, 109780.91758, 167982.4155, 162788.10220000005, 62315.93799999999, 170234.37280000004, 120755.60649999998, 97865.35900000004, 159424.1053, 138364.13099999996, 275976.33262999996, 137798.692, 196314.24409999995, 179868.61644999997, 226940.26359999998, 131922.64539999998, 116387.6979, 40607.239, 147698.017, 149202.388, 184483.288, 98721.8759, 126575.19900000001, 138504.21445000003, 158064.48040000006, 158103.52299999996, 124789.97639999997, 219877.696, 170815.83799999996, 121609.90213999999, 186152.20019999996, 192030.99065000005, 161744.33649999995, 115635.152, 160184.45599999998, 149366.3483, 115648.57999999999, 190864.39490000004, 201776.82020000005, 158298.50699999998, 151386.26309999995, 179132.14672999998, 177530.52940000003, 115464.27720000003, 107334.32799999998, 234401.08029999994, 119574.294, 107257.48200000002, 128294.59940000005, 83395.03499999997, 140736.785, 186200.638, 156539.63280000005, 193632.76010000004, 119832.50099999997, 150209.3889, 97459.8507, 111223.029, 127829.76599999996, 133834.3481, 121125.37500000003, 146552.4427, 107842.75170000002, 141405.38499999998, 133952.57640000002, 171660.24749999994, 118788.69119999999, 125737.03869, 126890.53000000001, 159104.80640000006, 212333.6043000001, 124081.85700000005, 155630.8281, 126194.8564, 100975.76800000001, 166045.0845, 216835.95299999995, 151818.38499999995, 104951.69620000003, 168816.45999999996, 112801.77840000004, 130987.32981, 112281.13860000005, 112795.64113999998, 121484.41029999999, 139428.22530999998, 136153.041, 115012.99099999998, 131842.3342, 131683.11400000003, 156389.01799999995, 154066.629, 98957.84499999999, 173231.63420000003, 121783.09509999998, 127155.50899999999, 113576.082, 126017.08599999998, 149043.57330000002, 172655.6213, 170191.26029999997, 223189.14299999995, 131284.87079999998, 129959.83740000002, 156685.02190000008, 217724.99440000008, 149349.41100000005, 128548.75000000001, 113987.28510000001, 114589.854, 154155.77779, 99312.48, 121540.56100000003, 112327.43780000003, 89528.7161, 130288.82032199999, 229433.28009999997, 139460.11399999994, 141866.33000000005, 203875.1058, 146943.79970000003, 184680.71640000006, 145729.2071, 108269.0522, 78999.9606, 147063.50699999998, 197938.67030000006, 137273.49700000003, 231709.96210000003, 225232.02900000007, 142364.34495, 132349.6858, 121808.53300000002, 148942.30700000006, 125086.22870000004, 146528.09518000003, 131988.38, 156990.48940000002, 169975.58099999998, 161370.20299999992, 138476.39959999998, 136854.00100000002, 150018.44700000001, 139657.241, 114674.82500000001, 162030.21000000002, 156138.962, 104703.604, 137833.83889999997, 172483.65700000004, 169167.4809999999, 84652.00769999999, 78081.23010000002, 120608.61100000002, 133197.2794, 159146.0843, 209598.90340000004, 165578.24399999995, 196333.64144299997, 197729.6848, 156103.19590000008, 66343.16100000001, 174003.99759999994, 130026.47599999997, 138963.46959999998, 149539.13060000003, 131701.82499999995, 101375.05420000003, 235239.19199999992, 151715.70399999997, 162663.0837, 94314.34099999999, 112312.04990000001, 83695.27653999999, 104705.83599999997, 173753.39379999996, 174215.87989999994, 129035.4316, 89586.615, 116765.7378, 156685.2204, 155417.28000000006, 70664.00240000001, 147380.728, 99776.65941000001, 170171.53149999992, 124362.046, 189763.10658999998, 169345.59569999998, 136893.58030000003, 138958.75330000004, 113915.29310000001, 121569.987, 154896.6706, 182639.30060000005, 149239.10799999998, 123511.99219999998, 141106.09319999997, 175930.86399999997, 194556.84299999985, 147299.77899999998, 149870.99322, 117916.966, 158960.2377000001, 184829.54699999996, 198673.41449999996, 70854.3904, 130457.90520000001, 132627.27312000003, 166368.23549999998, 161237.38980000003, 219551.69099999996, 160193.7013000001, 152751.76410000003, 162898.68930000003, 138211.17700000003, 125411.70499999997, 119531.74049999997, 121015.54989999997, 144694.006, 143946.96569999997, 169531.02990000002, 117288.778, 109330.91720000001, 62750.9914, 125674.16049999997, 111802.5692, 119892.02170000003, 110472.2566, 172055.88969999997, 236602.65999999995, 134500.10040000002, 93045.98800000001, 117498.31709999999, 211308.40390000003, 80837.90726999995, 154111.90490000002, 161829.81100000002, 140972.43699999998, 135688.081, 106359.33099999998, 73962.8897, 165343.6333, 200690.39959999992, 218235.9679999999, 156904.06100000005, 116201.24290000001, 132588.7059, 130495.652, 127006.66136000003, 166504.90600000008, 100732.70899999999, 181416.90799999994, 83468.22609999999, 150135.3995, 179256.1266, 139941.8328, 182283.32120000003, 157293.60039999997, 268538.65900000004, 100382.7991, 206989.03089999998, 192779.4991499999, 195986.65326999992, 156313.82700000002, 115745.52979999999, 89144.75120000001, 81116.35500000001, 202299.4045, 227785.42479999998, 192591.34399999998, 158669.8105, 116259.80720000001, 181575.9559, 174282.68079999994, 140925.91499999995, 160038.12209999995, 91422.16, 140703.07409999997, 123594.98800000003, 95045.90199999997, 180028.17980000004, 104309.63810000001, 160227.08599999998, 145066.52053099996, 119797.79599999996, 138134.30949, 195186.12300000005, 127132.29670000002, 219690.95349999997, 83263.42589999997, 210884.95079999988, 245481.76799999992, 168215.14299999998, 106337.3614, 176363.18500000003, 121016.61700000004, 142279.57070000007, 140688.81600000002, 124833.086, 184682.87569999995, 153531.38999999998, 176720.97109999997, 222275.19439999992, 131002.32200000001, 101569.23, 183160.95400000003, 106587.50599999998, 165669.77070000008, 157020.45969999998, 125730.14929999998, 126922.33299999997, 214109.65800000005, 179710.36959999998, 177186.2593, 176452.03899999993, 80508.86900000002, 118964.87600000005, 142443.20700000002, 185987.6856, 96266.41999999998, 124877.78910000002, 190093.94200000004, 137710.8734, 151677.5808, 151052.9832, 82840.87299999996, 181616.8387199999, 132548.642, 142207.87570000003, 117231.26900000001, 164161.88569999996, 109873.7909, 131751.7696, 149401.79500000004, 163955.21769999998, 134588.41829999996, 105366.3765, 153910.54070000004, 236404.1849999999, 137391.316, 155849.57800000004, 103451.62599999999, 131585.33349999998, 180641.02328999998, 195144.27509999997, 127147.84999999999, 146866.19200000007, 188255.032, 145634.64299999998, 140788.22592000003, 178992.20920000007, 130426.31799999996, 177472.179, 104312.7027, 182395.41640000002, 165263.13330000004, 210087.4748, 129641.93099999997, 109099.19709999999, 175098.77550000005, 78501.59019999999, 167333.858, 129652.3134, 25840.646]}],\n",
       "                        {\"template\": {\"data\": {\"bar\": [{\"error_x\": {\"color\": \"#2a3f5f\"}, \"error_y\": {\"color\": \"#2a3f5f\"}, \"marker\": {\"line\": {\"color\": \"#E5ECF6\", \"width\": 0.5}}, \"type\": \"bar\"}], \"barpolar\": [{\"marker\": {\"line\": {\"color\": \"#E5ECF6\", \"width\": 0.5}}, \"type\": \"barpolar\"}], \"carpet\": [{\"aaxis\": {\"endlinecolor\": \"#2a3f5f\", \"gridcolor\": \"white\", \"linecolor\": \"white\", \"minorgridcolor\": \"white\", \"startlinecolor\": \"#2a3f5f\"}, \"baxis\": {\"endlinecolor\": \"#2a3f5f\", \"gridcolor\": \"white\", \"linecolor\": \"white\", \"minorgridcolor\": \"white\", \"startlinecolor\": \"#2a3f5f\"}, \"type\": \"carpet\"}], \"choropleth\": [{\"colorbar\": {\"outlinewidth\": 0, \"ticks\": \"\"}, \"type\": \"choropleth\"}], \"contour\": [{\"colorbar\": {\"outlinewidth\": 0, \"ticks\": \"\"}, \"colorscale\": [[0.0, \"#0d0887\"], [0.1111111111111111, \"#46039f\"], [0.2222222222222222, \"#7201a8\"], [0.3333333333333333, \"#9c179e\"], [0.4444444444444444, \"#bd3786\"], [0.5555555555555556, \"#d8576b\"], [0.6666666666666666, \"#ed7953\"], [0.7777777777777778, \"#fb9f3a\"], [0.8888888888888888, \"#fdca26\"], [1.0, \"#f0f921\"]], \"type\": \"contour\"}], \"contourcarpet\": [{\"colorbar\": {\"outlinewidth\": 0, \"ticks\": \"\"}, \"type\": \"contourcarpet\"}], \"heatmap\": [{\"colorbar\": {\"outlinewidth\": 0, \"ticks\": \"\"}, \"colorscale\": [[0.0, \"#0d0887\"], [0.1111111111111111, \"#46039f\"], [0.2222222222222222, \"#7201a8\"], [0.3333333333333333, \"#9c179e\"], [0.4444444444444444, \"#bd3786\"], [0.5555555555555556, \"#d8576b\"], [0.6666666666666666, \"#ed7953\"], [0.7777777777777778, \"#fb9f3a\"], [0.8888888888888888, \"#fdca26\"], [1.0, \"#f0f921\"]], \"type\": \"heatmap\"}], \"heatmapgl\": [{\"colorbar\": {\"outlinewidth\": 0, \"ticks\": \"\"}, \"colorscale\": [[0.0, \"#0d0887\"], [0.1111111111111111, \"#46039f\"], [0.2222222222222222, \"#7201a8\"], [0.3333333333333333, \"#9c179e\"], [0.4444444444444444, \"#bd3786\"], [0.5555555555555556, \"#d8576b\"], [0.6666666666666666, \"#ed7953\"], [0.7777777777777778, \"#fb9f3a\"], [0.8888888888888888, \"#fdca26\"], [1.0, \"#f0f921\"]], \"type\": \"heatmapgl\"}], \"histogram\": [{\"marker\": {\"colorbar\": {\"outlinewidth\": 0, \"ticks\": \"\"}}, \"type\": \"histogram\"}], \"histogram2d\": [{\"colorbar\": {\"outlinewidth\": 0, \"ticks\": \"\"}, \"colorscale\": [[0.0, \"#0d0887\"], [0.1111111111111111, \"#46039f\"], [0.2222222222222222, \"#7201a8\"], [0.3333333333333333, \"#9c179e\"], [0.4444444444444444, \"#bd3786\"], [0.5555555555555556, \"#d8576b\"], [0.6666666666666666, \"#ed7953\"], [0.7777777777777778, \"#fb9f3a\"], [0.8888888888888888, \"#fdca26\"], [1.0, \"#f0f921\"]], \"type\": \"histogram2d\"}], \"histogram2dcontour\": [{\"colorbar\": {\"outlinewidth\": 0, \"ticks\": \"\"}, \"colorscale\": [[0.0, \"#0d0887\"], [0.1111111111111111, \"#46039f\"], [0.2222222222222222, \"#7201a8\"], [0.3333333333333333, \"#9c179e\"], [0.4444444444444444, \"#bd3786\"], [0.5555555555555556, \"#d8576b\"], [0.6666666666666666, \"#ed7953\"], [0.7777777777777778, \"#fb9f3a\"], [0.8888888888888888, \"#fdca26\"], [1.0, \"#f0f921\"]], \"type\": \"histogram2dcontour\"}], \"mesh3d\": [{\"colorbar\": {\"outlinewidth\": 0, \"ticks\": \"\"}, \"type\": \"mesh3d\"}], \"parcoords\": [{\"line\": {\"colorbar\": {\"outlinewidth\": 0, \"ticks\": \"\"}}, \"type\": \"parcoords\"}], \"pie\": [{\"automargin\": true, \"type\": \"pie\"}], \"scatter\": [{\"marker\": {\"colorbar\": {\"outlinewidth\": 0, \"ticks\": \"\"}}, \"type\": \"scatter\"}], \"scatter3d\": [{\"line\": {\"colorbar\": {\"outlinewidth\": 0, \"ticks\": \"\"}}, \"marker\": {\"colorbar\": {\"outlinewidth\": 0, \"ticks\": \"\"}}, \"type\": \"scatter3d\"}], \"scattercarpet\": [{\"marker\": {\"colorbar\": {\"outlinewidth\": 0, \"ticks\": \"\"}}, \"type\": \"scattercarpet\"}], \"scattergeo\": [{\"marker\": {\"colorbar\": {\"outlinewidth\": 0, \"ticks\": \"\"}}, \"type\": \"scattergeo\"}], \"scattergl\": [{\"marker\": {\"colorbar\": {\"outlinewidth\": 0, \"ticks\": \"\"}}, \"type\": \"scattergl\"}], \"scattermapbox\": [{\"marker\": {\"colorbar\": {\"outlinewidth\": 0, \"ticks\": \"\"}}, \"type\": \"scattermapbox\"}], \"scatterpolar\": [{\"marker\": {\"colorbar\": {\"outlinewidth\": 0, \"ticks\": \"\"}}, \"type\": \"scatterpolar\"}], \"scatterpolargl\": [{\"marker\": {\"colorbar\": {\"outlinewidth\": 0, \"ticks\": \"\"}}, \"type\": \"scatterpolargl\"}], \"scatterternary\": [{\"marker\": {\"colorbar\": {\"outlinewidth\": 0, \"ticks\": \"\"}}, \"type\": \"scatterternary\"}], \"surface\": [{\"colorbar\": {\"outlinewidth\": 0, \"ticks\": \"\"}, \"colorscale\": [[0.0, \"#0d0887\"], [0.1111111111111111, \"#46039f\"], [0.2222222222222222, \"#7201a8\"], [0.3333333333333333, \"#9c179e\"], [0.4444444444444444, \"#bd3786\"], [0.5555555555555556, \"#d8576b\"], [0.6666666666666666, \"#ed7953\"], [0.7777777777777778, \"#fb9f3a\"], [0.8888888888888888, \"#fdca26\"], [1.0, \"#f0f921\"]], \"type\": \"surface\"}], \"table\": [{\"cells\": {\"fill\": {\"color\": \"#EBF0F8\"}, \"line\": {\"color\": \"white\"}}, \"header\": {\"fill\": {\"color\": \"#C8D4E3\"}, \"line\": {\"color\": \"white\"}}, \"type\": \"table\"}]}, \"layout\": {\"annotationdefaults\": {\"arrowcolor\": \"#2a3f5f\", \"arrowhead\": 0, \"arrowwidth\": 1}, \"coloraxis\": {\"colorbar\": {\"outlinewidth\": 0, \"ticks\": \"\"}}, \"colorscale\": {\"diverging\": [[0, \"#8e0152\"], [0.1, \"#c51b7d\"], [0.2, \"#de77ae\"], [0.3, \"#f1b6da\"], [0.4, \"#fde0ef\"], [0.5, \"#f7f7f7\"], [0.6, \"#e6f5d0\"], [0.7, \"#b8e186\"], [0.8, \"#7fbc41\"], [0.9, \"#4d9221\"], [1, \"#276419\"]], \"sequential\": [[0.0, \"#0d0887\"], [0.1111111111111111, \"#46039f\"], [0.2222222222222222, \"#7201a8\"], [0.3333333333333333, \"#9c179e\"], [0.4444444444444444, \"#bd3786\"], [0.5555555555555556, \"#d8576b\"], [0.6666666666666666, \"#ed7953\"], [0.7777777777777778, \"#fb9f3a\"], [0.8888888888888888, \"#fdca26\"], [1.0, \"#f0f921\"]], \"sequentialminus\": [[0.0, \"#0d0887\"], [0.1111111111111111, \"#46039f\"], [0.2222222222222222, \"#7201a8\"], [0.3333333333333333, \"#9c179e\"], [0.4444444444444444, \"#bd3786\"], [0.5555555555555556, \"#d8576b\"], [0.6666666666666666, \"#ed7953\"], [0.7777777777777778, \"#fb9f3a\"], [0.8888888888888888, \"#fdca26\"], [1.0, \"#f0f921\"]]}, \"colorway\": [\"#636efa\", \"#EF553B\", \"#00cc96\", \"#ab63fa\", \"#FFA15A\", \"#19d3f3\", \"#FF6692\", \"#B6E880\", \"#FF97FF\", \"#FECB52\"], \"font\": {\"color\": \"#2a3f5f\"}, \"geo\": {\"bgcolor\": \"white\", \"lakecolor\": \"white\", \"landcolor\": \"#E5ECF6\", \"showlakes\": true, \"showland\": true, \"subunitcolor\": \"white\"}, \"hoverlabel\": {\"align\": \"left\"}, \"hovermode\": \"closest\", \"mapbox\": {\"style\": \"light\"}, \"paper_bgcolor\": \"white\", \"plot_bgcolor\": \"#E5ECF6\", \"polar\": {\"angularaxis\": {\"gridcolor\": \"white\", \"linecolor\": \"white\", \"ticks\": \"\"}, \"bgcolor\": \"#E5ECF6\", \"radialaxis\": {\"gridcolor\": \"white\", \"linecolor\": \"white\", \"ticks\": \"\"}}, \"scene\": {\"xaxis\": {\"backgroundcolor\": \"#E5ECF6\", \"gridcolor\": \"white\", \"gridwidth\": 2, \"linecolor\": \"white\", \"showbackground\": true, \"ticks\": \"\", \"zerolinecolor\": \"white\"}, \"yaxis\": {\"backgroundcolor\": \"#E5ECF6\", \"gridcolor\": \"white\", \"gridwidth\": 2, \"linecolor\": \"white\", \"showbackground\": true, \"ticks\": \"\", \"zerolinecolor\": \"white\"}, \"zaxis\": {\"backgroundcolor\": \"#E5ECF6\", \"gridcolor\": \"white\", \"gridwidth\": 2, \"linecolor\": \"white\", \"showbackground\": true, \"ticks\": \"\", \"zerolinecolor\": \"white\"}}, \"shapedefaults\": {\"line\": {\"color\": \"#2a3f5f\"}}, \"ternary\": {\"aaxis\": {\"gridcolor\": \"white\", \"linecolor\": \"white\", \"ticks\": \"\"}, \"baxis\": {\"gridcolor\": \"white\", \"linecolor\": \"white\", \"ticks\": \"\"}, \"bgcolor\": \"#E5ECF6\", \"caxis\": {\"gridcolor\": \"white\", \"linecolor\": \"white\", \"ticks\": \"\"}}, \"title\": {\"x\": 0.05}, \"xaxis\": {\"automargin\": true, \"gridcolor\": \"white\", \"linecolor\": \"white\", \"ticks\": \"\", \"title\": {\"standoff\": 15}, \"zerolinecolor\": \"white\", \"zerolinewidth\": 2}, \"yaxis\": {\"automargin\": true, \"gridcolor\": \"white\", \"linecolor\": \"white\", \"ticks\": \"\", \"title\": {\"standoff\": 15}, \"zerolinecolor\": \"white\", \"zerolinewidth\": 2}}}, \"title\": {\"text\": \"Vendas por m\\u00eas\"}, \"xaxis\": {\"title\": {\"text\": \"M\\u00eas\"}}, \"yaxis\": {\"title\": {\"text\": \"Vendas ($)\"}}},\n",
       "                        {\"responsive\": true}\n",
       "                    ).then(function(){\n",
       "                            \n",
       "var gd = document.getElementById('ba4526e0-779b-48ac-aa5f-cd60b8a80c73');\n",
       "var x = new MutationObserver(function (mutations, observer) {{\n",
       "        var display = window.getComputedStyle(gd).display;\n",
       "        if (!display || display === 'none') {{\n",
       "            console.log([gd, 'removed!']);\n",
       "            Plotly.purge(gd);\n",
       "            observer.disconnect();\n",
       "        }}\n",
       "}});\n",
       "\n",
       "// Listen for the removal of the full notebook cells\n",
       "var notebookContainer = gd.closest('#notebook-container');\n",
       "if (notebookContainer) {{\n",
       "    x.observe(notebookContainer, {childList: true});\n",
       "}}\n",
       "\n",
       "// Listen for the clearing of the current output cell\n",
       "var outputEl = gd.closest('.output');\n",
       "if (outputEl) {{\n",
       "    x.observe(outputEl, {childList: true});\n",
       "}}\n",
       "\n",
       "                        })\n",
       "                };\n",
       "                });\n",
       "            </script>\n",
       "        </div>"
      ]
     },
     "metadata": {},
     "output_type": "display_data"
    }
   ],
   "source": [
    "layout = dict(title = 'Vendas por mês',\n",
    "              xaxis = dict(title = 'Mês'),\n",
    "              yaxis = dict(title = 'Vendas ($)'),\n",
    "              )\n",
    "data = [go.Scatter(x=vendas_por_mes.index, y=vendas_por_mes, mode='lines+markers',\n",
    "                 marker=dict(color='blue'))]\n",
    "fig = dict(data=data, layout=layout)\n",
    "iplot(fig)"
   ]
  },
  {
   "cell_type": "code",
   "execution_count": 19,
   "metadata": {},
   "outputs": [
    {
     "data": {
      "text/plain": [
       "updated_at\n",
       "1970    1.882166e+06\n",
       "1971    1.754911e+06\n",
       "1972    1.811622e+06\n",
       "1973    1.718408e+06\n",
       "1974    1.754004e+06\n",
       "1975    1.838448e+06\n",
       "1976    1.974882e+06\n",
       "1977    1.857383e+06\n",
       "1978    1.513375e+06\n",
       "1979    1.823666e+06\n",
       "1980    1.782716e+06\n",
       "1981    1.862540e+06\n",
       "1982    1.849241e+06\n",
       "1983    1.824110e+06\n",
       "1984    1.975986e+06\n",
       "1985    1.592666e+06\n",
       "1986    1.684972e+06\n",
       "1987    1.906334e+06\n",
       "1988    1.851337e+06\n",
       "1989    1.851404e+06\n",
       "1990    1.928646e+06\n",
       "1991    1.575061e+06\n",
       "1992    1.985707e+06\n",
       "1993    1.702805e+06\n",
       "1994    1.652282e+06\n",
       "1995    1.696756e+06\n",
       "1996    1.674399e+06\n",
       "1997    1.598759e+06\n",
       "1998    1.862322e+06\n",
       "1999    1.744987e+06\n",
       "2000    1.797038e+06\n",
       "2001    1.764703e+06\n",
       "2002    1.731385e+06\n",
       "2003    1.795404e+06\n",
       "2004    1.461151e+06\n",
       "2005    1.749673e+06\n",
       "2006    1.812750e+06\n",
       "2007    1.790257e+06\n",
       "2008    1.624042e+06\n",
       "2009    1.575459e+06\n",
       "2010    1.764381e+06\n",
       "2011    1.984656e+06\n",
       "2012    1.867670e+06\n",
       "2013    1.691477e+06\n",
       "2014    1.951036e+06\n",
       "2015    1.890944e+06\n",
       "2016    1.638877e+06\n",
       "2017    1.686614e+06\n",
       "2018    1.889159e+06\n",
       "2019    1.808625e+06\n",
       "2020    1.554930e+05\n",
       "Name: price_x, dtype: float64"
      ]
     },
     "execution_count": 19,
     "metadata": {},
     "output_type": "execute_result"
    }
   ],
   "source": [
    "vendas_por_ano = tudo.groupby([tudo.index.year]).price_x.sum()\n",
    "vendas_por_ano"
   ]
  },
  {
   "cell_type": "code",
   "execution_count": 20,
   "metadata": {},
   "outputs": [
    {
     "data": {
      "application/vnd.plotly.v1+json": {
       "config": {
        "linkText": "Export to plot.ly",
        "plotlyServerURL": "https://plot.ly",
        "showLink": false
       },
       "data": [
        {
         "marker": {
          "color": "blue"
         },
         "mode": "lines+markers",
         "type": "scatter",
         "x": [
          1970,
          1971,
          1972,
          1973,
          1974,
          1975,
          1976,
          1977,
          1978,
          1979,
          1980,
          1981,
          1982,
          1983,
          1984,
          1985,
          1986,
          1987,
          1988,
          1989,
          1990,
          1991,
          1992,
          1993,
          1994,
          1995,
          1996,
          1997,
          1998,
          1999,
          2000,
          2001,
          2002,
          2003,
          2004,
          2005,
          2006,
          2007,
          2008,
          2009,
          2010,
          2011,
          2012,
          2013,
          2014,
          2015,
          2016,
          2017,
          2018,
          2019,
          2020
         ],
         "y": [
          1882165.954729999,
          1754911.0662000002,
          1811621.7145100026,
          1718407.9300999986,
          1754003.8942000018,
          1838448.0859000005,
          1974881.7376000008,
          1857382.7091999988,
          1513374.7234900019,
          1823666.4195199998,
          1782716.2594,
          1862540.2223000003,
          1849241.2179,
          1824109.6585179,
          1975986.4936399972,
          1592665.8589000006,
          1684971.9855200013,
          1906333.961130002,
          1851336.774100001,
          1851403.6122400027,
          1928645.7635800007,
          1575060.5444500006,
          1985706.7148900009,
          1702805.3271299987,
          1652282.4839999997,
          1696756.1889900013,
          1674399.1432600014,
          1598758.910799998,
          1862321.8269899965,
          1744986.568322,
          1797037.7776499987,
          1764702.834180001,
          1731384.5822429978,
          1795403.9744000018,
          1461151.0643399998,
          1749673.2520999997,
          1812750.2282199992,
          1790256.8217199997,
          1624042.2459000004,
          1575458.804569999,
          1764380.8393600024,
          1984655.6304200008,
          1867670.0539000025,
          1691477.2190209997,
          1951035.7347,
          1890944.2060000023,
          1638877.1380999987,
          1686614.4198200018,
          1889159.2798100002,
          1808624.785199999,
          155492.95940000005
         ]
        }
       ],
       "layout": {
        "template": {
         "data": {
          "bar": [
           {
            "error_x": {
             "color": "#2a3f5f"
            },
            "error_y": {
             "color": "#2a3f5f"
            },
            "marker": {
             "line": {
              "color": "#E5ECF6",
              "width": 0.5
             }
            },
            "type": "bar"
           }
          ],
          "barpolar": [
           {
            "marker": {
             "line": {
              "color": "#E5ECF6",
              "width": 0.5
             }
            },
            "type": "barpolar"
           }
          ],
          "carpet": [
           {
            "aaxis": {
             "endlinecolor": "#2a3f5f",
             "gridcolor": "white",
             "linecolor": "white",
             "minorgridcolor": "white",
             "startlinecolor": "#2a3f5f"
            },
            "baxis": {
             "endlinecolor": "#2a3f5f",
             "gridcolor": "white",
             "linecolor": "white",
             "minorgridcolor": "white",
             "startlinecolor": "#2a3f5f"
            },
            "type": "carpet"
           }
          ],
          "choropleth": [
           {
            "colorbar": {
             "outlinewidth": 0,
             "ticks": ""
            },
            "type": "choropleth"
           }
          ],
          "contour": [
           {
            "colorbar": {
             "outlinewidth": 0,
             "ticks": ""
            },
            "colorscale": [
             [
              0,
              "#0d0887"
             ],
             [
              0.1111111111111111,
              "#46039f"
             ],
             [
              0.2222222222222222,
              "#7201a8"
             ],
             [
              0.3333333333333333,
              "#9c179e"
             ],
             [
              0.4444444444444444,
              "#bd3786"
             ],
             [
              0.5555555555555556,
              "#d8576b"
             ],
             [
              0.6666666666666666,
              "#ed7953"
             ],
             [
              0.7777777777777778,
              "#fb9f3a"
             ],
             [
              0.8888888888888888,
              "#fdca26"
             ],
             [
              1,
              "#f0f921"
             ]
            ],
            "type": "contour"
           }
          ],
          "contourcarpet": [
           {
            "colorbar": {
             "outlinewidth": 0,
             "ticks": ""
            },
            "type": "contourcarpet"
           }
          ],
          "heatmap": [
           {
            "colorbar": {
             "outlinewidth": 0,
             "ticks": ""
            },
            "colorscale": [
             [
              0,
              "#0d0887"
             ],
             [
              0.1111111111111111,
              "#46039f"
             ],
             [
              0.2222222222222222,
              "#7201a8"
             ],
             [
              0.3333333333333333,
              "#9c179e"
             ],
             [
              0.4444444444444444,
              "#bd3786"
             ],
             [
              0.5555555555555556,
              "#d8576b"
             ],
             [
              0.6666666666666666,
              "#ed7953"
             ],
             [
              0.7777777777777778,
              "#fb9f3a"
             ],
             [
              0.8888888888888888,
              "#fdca26"
             ],
             [
              1,
              "#f0f921"
             ]
            ],
            "type": "heatmap"
           }
          ],
          "heatmapgl": [
           {
            "colorbar": {
             "outlinewidth": 0,
             "ticks": ""
            },
            "colorscale": [
             [
              0,
              "#0d0887"
             ],
             [
              0.1111111111111111,
              "#46039f"
             ],
             [
              0.2222222222222222,
              "#7201a8"
             ],
             [
              0.3333333333333333,
              "#9c179e"
             ],
             [
              0.4444444444444444,
              "#bd3786"
             ],
             [
              0.5555555555555556,
              "#d8576b"
             ],
             [
              0.6666666666666666,
              "#ed7953"
             ],
             [
              0.7777777777777778,
              "#fb9f3a"
             ],
             [
              0.8888888888888888,
              "#fdca26"
             ],
             [
              1,
              "#f0f921"
             ]
            ],
            "type": "heatmapgl"
           }
          ],
          "histogram": [
           {
            "marker": {
             "colorbar": {
              "outlinewidth": 0,
              "ticks": ""
             }
            },
            "type": "histogram"
           }
          ],
          "histogram2d": [
           {
            "colorbar": {
             "outlinewidth": 0,
             "ticks": ""
            },
            "colorscale": [
             [
              0,
              "#0d0887"
             ],
             [
              0.1111111111111111,
              "#46039f"
             ],
             [
              0.2222222222222222,
              "#7201a8"
             ],
             [
              0.3333333333333333,
              "#9c179e"
             ],
             [
              0.4444444444444444,
              "#bd3786"
             ],
             [
              0.5555555555555556,
              "#d8576b"
             ],
             [
              0.6666666666666666,
              "#ed7953"
             ],
             [
              0.7777777777777778,
              "#fb9f3a"
             ],
             [
              0.8888888888888888,
              "#fdca26"
             ],
             [
              1,
              "#f0f921"
             ]
            ],
            "type": "histogram2d"
           }
          ],
          "histogram2dcontour": [
           {
            "colorbar": {
             "outlinewidth": 0,
             "ticks": ""
            },
            "colorscale": [
             [
              0,
              "#0d0887"
             ],
             [
              0.1111111111111111,
              "#46039f"
             ],
             [
              0.2222222222222222,
              "#7201a8"
             ],
             [
              0.3333333333333333,
              "#9c179e"
             ],
             [
              0.4444444444444444,
              "#bd3786"
             ],
             [
              0.5555555555555556,
              "#d8576b"
             ],
             [
              0.6666666666666666,
              "#ed7953"
             ],
             [
              0.7777777777777778,
              "#fb9f3a"
             ],
             [
              0.8888888888888888,
              "#fdca26"
             ],
             [
              1,
              "#f0f921"
             ]
            ],
            "type": "histogram2dcontour"
           }
          ],
          "mesh3d": [
           {
            "colorbar": {
             "outlinewidth": 0,
             "ticks": ""
            },
            "type": "mesh3d"
           }
          ],
          "parcoords": [
           {
            "line": {
             "colorbar": {
              "outlinewidth": 0,
              "ticks": ""
             }
            },
            "type": "parcoords"
           }
          ],
          "pie": [
           {
            "automargin": true,
            "type": "pie"
           }
          ],
          "scatter": [
           {
            "marker": {
             "colorbar": {
              "outlinewidth": 0,
              "ticks": ""
             }
            },
            "type": "scatter"
           }
          ],
          "scatter3d": [
           {
            "line": {
             "colorbar": {
              "outlinewidth": 0,
              "ticks": ""
             }
            },
            "marker": {
             "colorbar": {
              "outlinewidth": 0,
              "ticks": ""
             }
            },
            "type": "scatter3d"
           }
          ],
          "scattercarpet": [
           {
            "marker": {
             "colorbar": {
              "outlinewidth": 0,
              "ticks": ""
             }
            },
            "type": "scattercarpet"
           }
          ],
          "scattergeo": [
           {
            "marker": {
             "colorbar": {
              "outlinewidth": 0,
              "ticks": ""
             }
            },
            "type": "scattergeo"
           }
          ],
          "scattergl": [
           {
            "marker": {
             "colorbar": {
              "outlinewidth": 0,
              "ticks": ""
             }
            },
            "type": "scattergl"
           }
          ],
          "scattermapbox": [
           {
            "marker": {
             "colorbar": {
              "outlinewidth": 0,
              "ticks": ""
             }
            },
            "type": "scattermapbox"
           }
          ],
          "scatterpolar": [
           {
            "marker": {
             "colorbar": {
              "outlinewidth": 0,
              "ticks": ""
             }
            },
            "type": "scatterpolar"
           }
          ],
          "scatterpolargl": [
           {
            "marker": {
             "colorbar": {
              "outlinewidth": 0,
              "ticks": ""
             }
            },
            "type": "scatterpolargl"
           }
          ],
          "scatterternary": [
           {
            "marker": {
             "colorbar": {
              "outlinewidth": 0,
              "ticks": ""
             }
            },
            "type": "scatterternary"
           }
          ],
          "surface": [
           {
            "colorbar": {
             "outlinewidth": 0,
             "ticks": ""
            },
            "colorscale": [
             [
              0,
              "#0d0887"
             ],
             [
              0.1111111111111111,
              "#46039f"
             ],
             [
              0.2222222222222222,
              "#7201a8"
             ],
             [
              0.3333333333333333,
              "#9c179e"
             ],
             [
              0.4444444444444444,
              "#bd3786"
             ],
             [
              0.5555555555555556,
              "#d8576b"
             ],
             [
              0.6666666666666666,
              "#ed7953"
             ],
             [
              0.7777777777777778,
              "#fb9f3a"
             ],
             [
              0.8888888888888888,
              "#fdca26"
             ],
             [
              1,
              "#f0f921"
             ]
            ],
            "type": "surface"
           }
          ],
          "table": [
           {
            "cells": {
             "fill": {
              "color": "#EBF0F8"
             },
             "line": {
              "color": "white"
             }
            },
            "header": {
             "fill": {
              "color": "#C8D4E3"
             },
             "line": {
              "color": "white"
             }
            },
            "type": "table"
           }
          ]
         },
         "layout": {
          "annotationdefaults": {
           "arrowcolor": "#2a3f5f",
           "arrowhead": 0,
           "arrowwidth": 1
          },
          "coloraxis": {
           "colorbar": {
            "outlinewidth": 0,
            "ticks": ""
           }
          },
          "colorscale": {
           "diverging": [
            [
             0,
             "#8e0152"
            ],
            [
             0.1,
             "#c51b7d"
            ],
            [
             0.2,
             "#de77ae"
            ],
            [
             0.3,
             "#f1b6da"
            ],
            [
             0.4,
             "#fde0ef"
            ],
            [
             0.5,
             "#f7f7f7"
            ],
            [
             0.6,
             "#e6f5d0"
            ],
            [
             0.7,
             "#b8e186"
            ],
            [
             0.8,
             "#7fbc41"
            ],
            [
             0.9,
             "#4d9221"
            ],
            [
             1,
             "#276419"
            ]
           ],
           "sequential": [
            [
             0,
             "#0d0887"
            ],
            [
             0.1111111111111111,
             "#46039f"
            ],
            [
             0.2222222222222222,
             "#7201a8"
            ],
            [
             0.3333333333333333,
             "#9c179e"
            ],
            [
             0.4444444444444444,
             "#bd3786"
            ],
            [
             0.5555555555555556,
             "#d8576b"
            ],
            [
             0.6666666666666666,
             "#ed7953"
            ],
            [
             0.7777777777777778,
             "#fb9f3a"
            ],
            [
             0.8888888888888888,
             "#fdca26"
            ],
            [
             1,
             "#f0f921"
            ]
           ],
           "sequentialminus": [
            [
             0,
             "#0d0887"
            ],
            [
             0.1111111111111111,
             "#46039f"
            ],
            [
             0.2222222222222222,
             "#7201a8"
            ],
            [
             0.3333333333333333,
             "#9c179e"
            ],
            [
             0.4444444444444444,
             "#bd3786"
            ],
            [
             0.5555555555555556,
             "#d8576b"
            ],
            [
             0.6666666666666666,
             "#ed7953"
            ],
            [
             0.7777777777777778,
             "#fb9f3a"
            ],
            [
             0.8888888888888888,
             "#fdca26"
            ],
            [
             1,
             "#f0f921"
            ]
           ]
          },
          "colorway": [
           "#636efa",
           "#EF553B",
           "#00cc96",
           "#ab63fa",
           "#FFA15A",
           "#19d3f3",
           "#FF6692",
           "#B6E880",
           "#FF97FF",
           "#FECB52"
          ],
          "font": {
           "color": "#2a3f5f"
          },
          "geo": {
           "bgcolor": "white",
           "lakecolor": "white",
           "landcolor": "#E5ECF6",
           "showlakes": true,
           "showland": true,
           "subunitcolor": "white"
          },
          "hoverlabel": {
           "align": "left"
          },
          "hovermode": "closest",
          "mapbox": {
           "style": "light"
          },
          "paper_bgcolor": "white",
          "plot_bgcolor": "#E5ECF6",
          "polar": {
           "angularaxis": {
            "gridcolor": "white",
            "linecolor": "white",
            "ticks": ""
           },
           "bgcolor": "#E5ECF6",
           "radialaxis": {
            "gridcolor": "white",
            "linecolor": "white",
            "ticks": ""
           }
          },
          "scene": {
           "xaxis": {
            "backgroundcolor": "#E5ECF6",
            "gridcolor": "white",
            "gridwidth": 2,
            "linecolor": "white",
            "showbackground": true,
            "ticks": "",
            "zerolinecolor": "white"
           },
           "yaxis": {
            "backgroundcolor": "#E5ECF6",
            "gridcolor": "white",
            "gridwidth": 2,
            "linecolor": "white",
            "showbackground": true,
            "ticks": "",
            "zerolinecolor": "white"
           },
           "zaxis": {
            "backgroundcolor": "#E5ECF6",
            "gridcolor": "white",
            "gridwidth": 2,
            "linecolor": "white",
            "showbackground": true,
            "ticks": "",
            "zerolinecolor": "white"
           }
          },
          "shapedefaults": {
           "line": {
            "color": "#2a3f5f"
           }
          },
          "ternary": {
           "aaxis": {
            "gridcolor": "white",
            "linecolor": "white",
            "ticks": ""
           },
           "baxis": {
            "gridcolor": "white",
            "linecolor": "white",
            "ticks": ""
           },
           "bgcolor": "#E5ECF6",
           "caxis": {
            "gridcolor": "white",
            "linecolor": "white",
            "ticks": ""
           }
          },
          "title": {
           "x": 0.05
          },
          "xaxis": {
           "automargin": true,
           "gridcolor": "white",
           "linecolor": "white",
           "ticks": "",
           "title": {
            "standoff": 15
           },
           "zerolinecolor": "white",
           "zerolinewidth": 2
          },
          "yaxis": {
           "automargin": true,
           "gridcolor": "white",
           "linecolor": "white",
           "ticks": "",
           "title": {
            "standoff": 15
           },
           "zerolinecolor": "white",
           "zerolinewidth": 2
          }
         }
        },
        "title": {
         "text": "Vendas por ano"
        },
        "xaxis": {
         "title": {
          "text": "Ano"
         }
        },
        "yaxis": {
         "title": {
          "text": "Vendas ($)"
         }
        }
       }
      },
      "text/html": [
       "<div>\n",
       "        \n",
       "        \n",
       "            <div id=\"fbe96b2e-ada6-46f2-a39c-e924cc9e5410\" class=\"plotly-graph-div\" style=\"height:525px; width:100%;\"></div>\n",
       "            <script type=\"text/javascript\">\n",
       "                require([\"plotly\"], function(Plotly) {\n",
       "                    window.PLOTLYENV=window.PLOTLYENV || {};\n",
       "                    \n",
       "                if (document.getElementById(\"fbe96b2e-ada6-46f2-a39c-e924cc9e5410\")) {\n",
       "                    Plotly.newPlot(\n",
       "                        'fbe96b2e-ada6-46f2-a39c-e924cc9e5410',\n",
       "                        [{\"marker\": {\"color\": \"blue\"}, \"mode\": \"lines+markers\", \"type\": \"scatter\", \"x\": [1970, 1971, 1972, 1973, 1974, 1975, 1976, 1977, 1978, 1979, 1980, 1981, 1982, 1983, 1984, 1985, 1986, 1987, 1988, 1989, 1990, 1991, 1992, 1993, 1994, 1995, 1996, 1997, 1998, 1999, 2000, 2001, 2002, 2003, 2004, 2005, 2006, 2007, 2008, 2009, 2010, 2011, 2012, 2013, 2014, 2015, 2016, 2017, 2018, 2019, 2020], \"y\": [1882165.954729999, 1754911.0662000002, 1811621.7145100026, 1718407.9300999986, 1754003.8942000018, 1838448.0859000005, 1974881.7376000008, 1857382.7091999988, 1513374.7234900019, 1823666.4195199998, 1782716.2594, 1862540.2223000003, 1849241.2179, 1824109.6585179, 1975986.4936399972, 1592665.8589000006, 1684971.9855200013, 1906333.961130002, 1851336.774100001, 1851403.6122400027, 1928645.7635800007, 1575060.5444500006, 1985706.7148900009, 1702805.3271299987, 1652282.4839999997, 1696756.1889900013, 1674399.1432600014, 1598758.910799998, 1862321.8269899965, 1744986.568322, 1797037.7776499987, 1764702.834180001, 1731384.5822429978, 1795403.9744000018, 1461151.0643399998, 1749673.2520999997, 1812750.2282199992, 1790256.8217199997, 1624042.2459000004, 1575458.804569999, 1764380.8393600024, 1984655.6304200008, 1867670.0539000025, 1691477.2190209997, 1951035.7347, 1890944.2060000023, 1638877.1380999987, 1686614.4198200018, 1889159.2798100002, 1808624.785199999, 155492.95940000005]}],\n",
       "                        {\"template\": {\"data\": {\"bar\": [{\"error_x\": {\"color\": \"#2a3f5f\"}, \"error_y\": {\"color\": \"#2a3f5f\"}, \"marker\": {\"line\": {\"color\": \"#E5ECF6\", \"width\": 0.5}}, \"type\": \"bar\"}], \"barpolar\": [{\"marker\": {\"line\": {\"color\": \"#E5ECF6\", \"width\": 0.5}}, \"type\": \"barpolar\"}], \"carpet\": [{\"aaxis\": {\"endlinecolor\": \"#2a3f5f\", \"gridcolor\": \"white\", \"linecolor\": \"white\", \"minorgridcolor\": \"white\", \"startlinecolor\": \"#2a3f5f\"}, \"baxis\": {\"endlinecolor\": \"#2a3f5f\", \"gridcolor\": \"white\", \"linecolor\": \"white\", \"minorgridcolor\": \"white\", \"startlinecolor\": \"#2a3f5f\"}, \"type\": \"carpet\"}], \"choropleth\": [{\"colorbar\": {\"outlinewidth\": 0, \"ticks\": \"\"}, \"type\": \"choropleth\"}], \"contour\": [{\"colorbar\": {\"outlinewidth\": 0, \"ticks\": \"\"}, \"colorscale\": [[0.0, \"#0d0887\"], [0.1111111111111111, \"#46039f\"], [0.2222222222222222, \"#7201a8\"], [0.3333333333333333, \"#9c179e\"], [0.4444444444444444, \"#bd3786\"], [0.5555555555555556, \"#d8576b\"], [0.6666666666666666, \"#ed7953\"], [0.7777777777777778, \"#fb9f3a\"], [0.8888888888888888, \"#fdca26\"], [1.0, \"#f0f921\"]], \"type\": \"contour\"}], \"contourcarpet\": [{\"colorbar\": {\"outlinewidth\": 0, \"ticks\": \"\"}, \"type\": \"contourcarpet\"}], \"heatmap\": [{\"colorbar\": {\"outlinewidth\": 0, \"ticks\": \"\"}, \"colorscale\": [[0.0, \"#0d0887\"], [0.1111111111111111, \"#46039f\"], [0.2222222222222222, \"#7201a8\"], [0.3333333333333333, \"#9c179e\"], [0.4444444444444444, \"#bd3786\"], [0.5555555555555556, \"#d8576b\"], [0.6666666666666666, \"#ed7953\"], [0.7777777777777778, \"#fb9f3a\"], [0.8888888888888888, \"#fdca26\"], [1.0, \"#f0f921\"]], \"type\": \"heatmap\"}], \"heatmapgl\": [{\"colorbar\": {\"outlinewidth\": 0, \"ticks\": \"\"}, \"colorscale\": [[0.0, \"#0d0887\"], [0.1111111111111111, \"#46039f\"], [0.2222222222222222, \"#7201a8\"], [0.3333333333333333, \"#9c179e\"], [0.4444444444444444, \"#bd3786\"], [0.5555555555555556, \"#d8576b\"], [0.6666666666666666, \"#ed7953\"], [0.7777777777777778, \"#fb9f3a\"], [0.8888888888888888, \"#fdca26\"], [1.0, \"#f0f921\"]], \"type\": \"heatmapgl\"}], \"histogram\": [{\"marker\": {\"colorbar\": {\"outlinewidth\": 0, \"ticks\": \"\"}}, \"type\": \"histogram\"}], \"histogram2d\": [{\"colorbar\": {\"outlinewidth\": 0, \"ticks\": \"\"}, \"colorscale\": [[0.0, \"#0d0887\"], [0.1111111111111111, \"#46039f\"], [0.2222222222222222, \"#7201a8\"], [0.3333333333333333, \"#9c179e\"], [0.4444444444444444, \"#bd3786\"], [0.5555555555555556, \"#d8576b\"], [0.6666666666666666, \"#ed7953\"], [0.7777777777777778, \"#fb9f3a\"], [0.8888888888888888, \"#fdca26\"], [1.0, \"#f0f921\"]], \"type\": \"histogram2d\"}], \"histogram2dcontour\": [{\"colorbar\": {\"outlinewidth\": 0, \"ticks\": \"\"}, \"colorscale\": [[0.0, \"#0d0887\"], [0.1111111111111111, \"#46039f\"], [0.2222222222222222, \"#7201a8\"], [0.3333333333333333, \"#9c179e\"], [0.4444444444444444, \"#bd3786\"], [0.5555555555555556, \"#d8576b\"], [0.6666666666666666, \"#ed7953\"], [0.7777777777777778, \"#fb9f3a\"], [0.8888888888888888, \"#fdca26\"], [1.0, \"#f0f921\"]], \"type\": \"histogram2dcontour\"}], \"mesh3d\": [{\"colorbar\": {\"outlinewidth\": 0, \"ticks\": \"\"}, \"type\": \"mesh3d\"}], \"parcoords\": [{\"line\": {\"colorbar\": {\"outlinewidth\": 0, \"ticks\": \"\"}}, \"type\": \"parcoords\"}], \"pie\": [{\"automargin\": true, \"type\": \"pie\"}], \"scatter\": [{\"marker\": {\"colorbar\": {\"outlinewidth\": 0, \"ticks\": \"\"}}, \"type\": \"scatter\"}], \"scatter3d\": [{\"line\": {\"colorbar\": {\"outlinewidth\": 0, \"ticks\": \"\"}}, \"marker\": {\"colorbar\": {\"outlinewidth\": 0, \"ticks\": \"\"}}, \"type\": \"scatter3d\"}], \"scattercarpet\": [{\"marker\": {\"colorbar\": {\"outlinewidth\": 0, \"ticks\": \"\"}}, \"type\": \"scattercarpet\"}], \"scattergeo\": [{\"marker\": {\"colorbar\": {\"outlinewidth\": 0, \"ticks\": \"\"}}, \"type\": \"scattergeo\"}], \"scattergl\": [{\"marker\": {\"colorbar\": {\"outlinewidth\": 0, \"ticks\": \"\"}}, \"type\": \"scattergl\"}], \"scattermapbox\": [{\"marker\": {\"colorbar\": {\"outlinewidth\": 0, \"ticks\": \"\"}}, \"type\": \"scattermapbox\"}], \"scatterpolar\": [{\"marker\": {\"colorbar\": {\"outlinewidth\": 0, \"ticks\": \"\"}}, \"type\": \"scatterpolar\"}], \"scatterpolargl\": [{\"marker\": {\"colorbar\": {\"outlinewidth\": 0, \"ticks\": \"\"}}, \"type\": \"scatterpolargl\"}], \"scatterternary\": [{\"marker\": {\"colorbar\": {\"outlinewidth\": 0, \"ticks\": \"\"}}, \"type\": \"scatterternary\"}], \"surface\": [{\"colorbar\": {\"outlinewidth\": 0, \"ticks\": \"\"}, \"colorscale\": [[0.0, \"#0d0887\"], [0.1111111111111111, \"#46039f\"], [0.2222222222222222, \"#7201a8\"], [0.3333333333333333, \"#9c179e\"], [0.4444444444444444, \"#bd3786\"], [0.5555555555555556, \"#d8576b\"], [0.6666666666666666, \"#ed7953\"], [0.7777777777777778, \"#fb9f3a\"], [0.8888888888888888, \"#fdca26\"], [1.0, \"#f0f921\"]], \"type\": \"surface\"}], \"table\": [{\"cells\": {\"fill\": {\"color\": \"#EBF0F8\"}, \"line\": {\"color\": \"white\"}}, \"header\": {\"fill\": {\"color\": \"#C8D4E3\"}, \"line\": {\"color\": \"white\"}}, \"type\": \"table\"}]}, \"layout\": {\"annotationdefaults\": {\"arrowcolor\": \"#2a3f5f\", \"arrowhead\": 0, \"arrowwidth\": 1}, \"coloraxis\": {\"colorbar\": {\"outlinewidth\": 0, \"ticks\": \"\"}}, \"colorscale\": {\"diverging\": [[0, \"#8e0152\"], [0.1, \"#c51b7d\"], [0.2, \"#de77ae\"], [0.3, \"#f1b6da\"], [0.4, \"#fde0ef\"], [0.5, \"#f7f7f7\"], [0.6, \"#e6f5d0\"], [0.7, \"#b8e186\"], [0.8, \"#7fbc41\"], [0.9, \"#4d9221\"], [1, \"#276419\"]], \"sequential\": [[0.0, \"#0d0887\"], [0.1111111111111111, \"#46039f\"], [0.2222222222222222, \"#7201a8\"], [0.3333333333333333, \"#9c179e\"], [0.4444444444444444, \"#bd3786\"], [0.5555555555555556, \"#d8576b\"], [0.6666666666666666, \"#ed7953\"], [0.7777777777777778, \"#fb9f3a\"], [0.8888888888888888, \"#fdca26\"], [1.0, \"#f0f921\"]], \"sequentialminus\": [[0.0, \"#0d0887\"], [0.1111111111111111, \"#46039f\"], [0.2222222222222222, \"#7201a8\"], [0.3333333333333333, \"#9c179e\"], [0.4444444444444444, \"#bd3786\"], [0.5555555555555556, \"#d8576b\"], [0.6666666666666666, \"#ed7953\"], [0.7777777777777778, \"#fb9f3a\"], [0.8888888888888888, \"#fdca26\"], [1.0, \"#f0f921\"]]}, \"colorway\": [\"#636efa\", \"#EF553B\", \"#00cc96\", \"#ab63fa\", \"#FFA15A\", \"#19d3f3\", \"#FF6692\", \"#B6E880\", \"#FF97FF\", \"#FECB52\"], \"font\": {\"color\": \"#2a3f5f\"}, \"geo\": {\"bgcolor\": \"white\", \"lakecolor\": \"white\", \"landcolor\": \"#E5ECF6\", \"showlakes\": true, \"showland\": true, \"subunitcolor\": \"white\"}, \"hoverlabel\": {\"align\": \"left\"}, \"hovermode\": \"closest\", \"mapbox\": {\"style\": \"light\"}, \"paper_bgcolor\": \"white\", \"plot_bgcolor\": \"#E5ECF6\", \"polar\": {\"angularaxis\": {\"gridcolor\": \"white\", \"linecolor\": \"white\", \"ticks\": \"\"}, \"bgcolor\": \"#E5ECF6\", \"radialaxis\": {\"gridcolor\": \"white\", \"linecolor\": \"white\", \"ticks\": \"\"}}, \"scene\": {\"xaxis\": {\"backgroundcolor\": \"#E5ECF6\", \"gridcolor\": \"white\", \"gridwidth\": 2, \"linecolor\": \"white\", \"showbackground\": true, \"ticks\": \"\", \"zerolinecolor\": \"white\"}, \"yaxis\": {\"backgroundcolor\": \"#E5ECF6\", \"gridcolor\": \"white\", \"gridwidth\": 2, \"linecolor\": \"white\", \"showbackground\": true, \"ticks\": \"\", \"zerolinecolor\": \"white\"}, \"zaxis\": {\"backgroundcolor\": \"#E5ECF6\", \"gridcolor\": \"white\", \"gridwidth\": 2, \"linecolor\": \"white\", \"showbackground\": true, \"ticks\": \"\", \"zerolinecolor\": \"white\"}}, \"shapedefaults\": {\"line\": {\"color\": \"#2a3f5f\"}}, \"ternary\": {\"aaxis\": {\"gridcolor\": \"white\", \"linecolor\": \"white\", \"ticks\": \"\"}, \"baxis\": {\"gridcolor\": \"white\", \"linecolor\": \"white\", \"ticks\": \"\"}, \"bgcolor\": \"#E5ECF6\", \"caxis\": {\"gridcolor\": \"white\", \"linecolor\": \"white\", \"ticks\": \"\"}}, \"title\": {\"x\": 0.05}, \"xaxis\": {\"automargin\": true, \"gridcolor\": \"white\", \"linecolor\": \"white\", \"ticks\": \"\", \"title\": {\"standoff\": 15}, \"zerolinecolor\": \"white\", \"zerolinewidth\": 2}, \"yaxis\": {\"automargin\": true, \"gridcolor\": \"white\", \"linecolor\": \"white\", \"ticks\": \"\", \"title\": {\"standoff\": 15}, \"zerolinecolor\": \"white\", \"zerolinewidth\": 2}}}, \"title\": {\"text\": \"Vendas por ano\"}, \"xaxis\": {\"title\": {\"text\": \"Ano\"}}, \"yaxis\": {\"title\": {\"text\": \"Vendas ($)\"}}},\n",
       "                        {\"responsive\": true}\n",
       "                    ).then(function(){\n",
       "                            \n",
       "var gd = document.getElementById('fbe96b2e-ada6-46f2-a39c-e924cc9e5410');\n",
       "var x = new MutationObserver(function (mutations, observer) {{\n",
       "        var display = window.getComputedStyle(gd).display;\n",
       "        if (!display || display === 'none') {{\n",
       "            console.log([gd, 'removed!']);\n",
       "            Plotly.purge(gd);\n",
       "            observer.disconnect();\n",
       "        }}\n",
       "}});\n",
       "\n",
       "// Listen for the removal of the full notebook cells\n",
       "var notebookContainer = gd.closest('#notebook-container');\n",
       "if (notebookContainer) {{\n",
       "    x.observe(notebookContainer, {childList: true});\n",
       "}}\n",
       "\n",
       "// Listen for the clearing of the current output cell\n",
       "var outputEl = gd.closest('.output');\n",
       "if (outputEl) {{\n",
       "    x.observe(outputEl, {childList: true});\n",
       "}}\n",
       "\n",
       "                        })\n",
       "                };\n",
       "                });\n",
       "            </script>\n",
       "        </div>"
      ]
     },
     "metadata": {},
     "output_type": "display_data"
    }
   ],
   "source": [
    "layout = dict(title = 'Vendas por ano',\n",
    "              xaxis = dict(title = 'Ano'),\n",
    "              yaxis = dict(title = 'Vendas ($)'),\n",
    "              )\n",
    "data = [go.Scatter(x=vendas_por_ano.index, y=vendas_por_ano, mode='lines+markers',\n",
    "                 marker=dict(color='blue'))]\n",
    "fig = dict(data=data, layout=layout)\n",
    "iplot(fig)"
   ]
  },
  {
   "cell_type": "code",
   "execution_count": 22,
   "metadata": {},
   "outputs": [
    {
     "data": {
      "text/plain": [
       "updated_at\n",
       "0     1829\n",
       "1     1791\n",
       "2     1822\n",
       "3     1941\n",
       "4     1885\n",
       "5     1779\n",
       "6     1793\n",
       "7     2003\n",
       "8     1834\n",
       "9     1968\n",
       "10    1899\n",
       "11    1850\n",
       "12    1827\n",
       "13    1958\n",
       "14    1810\n",
       "15    1930\n",
       "16    1970\n",
       "17    1837\n",
       "18    1700\n",
       "19    1763\n",
       "20    1960\n",
       "21    1908\n",
       "22    1626\n",
       "23    1817\n",
       "Name: sale_id, dtype: int64"
      ]
     },
     "execution_count": 22,
     "metadata": {},
     "output_type": "execute_result"
    }
   ],
   "source": [
    "compras_por_hora = tudo.groupby([tudo.index.hour]).sale_id.count()\n",
    "compras_por_hora"
   ]
  },
  {
   "cell_type": "code",
   "execution_count": 50,
   "metadata": {},
   "outputs": [
    {
     "data": {
      "application/vnd.plotly.v1+json": {
       "config": {
        "linkText": "Export to plot.ly",
        "plotlyServerURL": "https://plot.ly",
        "showLink": false
       },
       "data": [
        {
         "marker": {
          "color": "blue"
         },
         "mode": "lines+markers",
         "type": "scatter",
         "x": [
          0,
          1,
          2,
          3,
          4,
          5,
          6,
          7,
          8,
          9,
          10,
          11,
          12,
          13,
          14,
          15,
          16,
          17,
          18,
          19,
          20,
          21,
          22,
          23
         ],
         "y": [
          1829,
          1791,
          1822,
          1941,
          1885,
          1779,
          1793,
          2003,
          1834,
          1968,
          1899,
          1850,
          1827,
          1958,
          1810,
          1930,
          1970,
          1837,
          1700,
          1763,
          1960,
          1908,
          1626,
          1817
         ]
        }
       ],
       "layout": {
        "template": {
         "data": {
          "bar": [
           {
            "error_x": {
             "color": "#2a3f5f"
            },
            "error_y": {
             "color": "#2a3f5f"
            },
            "marker": {
             "line": {
              "color": "#E5ECF6",
              "width": 0.5
             }
            },
            "type": "bar"
           }
          ],
          "barpolar": [
           {
            "marker": {
             "line": {
              "color": "#E5ECF6",
              "width": 0.5
             }
            },
            "type": "barpolar"
           }
          ],
          "carpet": [
           {
            "aaxis": {
             "endlinecolor": "#2a3f5f",
             "gridcolor": "white",
             "linecolor": "white",
             "minorgridcolor": "white",
             "startlinecolor": "#2a3f5f"
            },
            "baxis": {
             "endlinecolor": "#2a3f5f",
             "gridcolor": "white",
             "linecolor": "white",
             "minorgridcolor": "white",
             "startlinecolor": "#2a3f5f"
            },
            "type": "carpet"
           }
          ],
          "choropleth": [
           {
            "colorbar": {
             "outlinewidth": 0,
             "ticks": ""
            },
            "type": "choropleth"
           }
          ],
          "contour": [
           {
            "colorbar": {
             "outlinewidth": 0,
             "ticks": ""
            },
            "colorscale": [
             [
              0,
              "#0d0887"
             ],
             [
              0.1111111111111111,
              "#46039f"
             ],
             [
              0.2222222222222222,
              "#7201a8"
             ],
             [
              0.3333333333333333,
              "#9c179e"
             ],
             [
              0.4444444444444444,
              "#bd3786"
             ],
             [
              0.5555555555555556,
              "#d8576b"
             ],
             [
              0.6666666666666666,
              "#ed7953"
             ],
             [
              0.7777777777777778,
              "#fb9f3a"
             ],
             [
              0.8888888888888888,
              "#fdca26"
             ],
             [
              1,
              "#f0f921"
             ]
            ],
            "type": "contour"
           }
          ],
          "contourcarpet": [
           {
            "colorbar": {
             "outlinewidth": 0,
             "ticks": ""
            },
            "type": "contourcarpet"
           }
          ],
          "heatmap": [
           {
            "colorbar": {
             "outlinewidth": 0,
             "ticks": ""
            },
            "colorscale": [
             [
              0,
              "#0d0887"
             ],
             [
              0.1111111111111111,
              "#46039f"
             ],
             [
              0.2222222222222222,
              "#7201a8"
             ],
             [
              0.3333333333333333,
              "#9c179e"
             ],
             [
              0.4444444444444444,
              "#bd3786"
             ],
             [
              0.5555555555555556,
              "#d8576b"
             ],
             [
              0.6666666666666666,
              "#ed7953"
             ],
             [
              0.7777777777777778,
              "#fb9f3a"
             ],
             [
              0.8888888888888888,
              "#fdca26"
             ],
             [
              1,
              "#f0f921"
             ]
            ],
            "type": "heatmap"
           }
          ],
          "heatmapgl": [
           {
            "colorbar": {
             "outlinewidth": 0,
             "ticks": ""
            },
            "colorscale": [
             [
              0,
              "#0d0887"
             ],
             [
              0.1111111111111111,
              "#46039f"
             ],
             [
              0.2222222222222222,
              "#7201a8"
             ],
             [
              0.3333333333333333,
              "#9c179e"
             ],
             [
              0.4444444444444444,
              "#bd3786"
             ],
             [
              0.5555555555555556,
              "#d8576b"
             ],
             [
              0.6666666666666666,
              "#ed7953"
             ],
             [
              0.7777777777777778,
              "#fb9f3a"
             ],
             [
              0.8888888888888888,
              "#fdca26"
             ],
             [
              1,
              "#f0f921"
             ]
            ],
            "type": "heatmapgl"
           }
          ],
          "histogram": [
           {
            "marker": {
             "colorbar": {
              "outlinewidth": 0,
              "ticks": ""
             }
            },
            "type": "histogram"
           }
          ],
          "histogram2d": [
           {
            "colorbar": {
             "outlinewidth": 0,
             "ticks": ""
            },
            "colorscale": [
             [
              0,
              "#0d0887"
             ],
             [
              0.1111111111111111,
              "#46039f"
             ],
             [
              0.2222222222222222,
              "#7201a8"
             ],
             [
              0.3333333333333333,
              "#9c179e"
             ],
             [
              0.4444444444444444,
              "#bd3786"
             ],
             [
              0.5555555555555556,
              "#d8576b"
             ],
             [
              0.6666666666666666,
              "#ed7953"
             ],
             [
              0.7777777777777778,
              "#fb9f3a"
             ],
             [
              0.8888888888888888,
              "#fdca26"
             ],
             [
              1,
              "#f0f921"
             ]
            ],
            "type": "histogram2d"
           }
          ],
          "histogram2dcontour": [
           {
            "colorbar": {
             "outlinewidth": 0,
             "ticks": ""
            },
            "colorscale": [
             [
              0,
              "#0d0887"
             ],
             [
              0.1111111111111111,
              "#46039f"
             ],
             [
              0.2222222222222222,
              "#7201a8"
             ],
             [
              0.3333333333333333,
              "#9c179e"
             ],
             [
              0.4444444444444444,
              "#bd3786"
             ],
             [
              0.5555555555555556,
              "#d8576b"
             ],
             [
              0.6666666666666666,
              "#ed7953"
             ],
             [
              0.7777777777777778,
              "#fb9f3a"
             ],
             [
              0.8888888888888888,
              "#fdca26"
             ],
             [
              1,
              "#f0f921"
             ]
            ],
            "type": "histogram2dcontour"
           }
          ],
          "mesh3d": [
           {
            "colorbar": {
             "outlinewidth": 0,
             "ticks": ""
            },
            "type": "mesh3d"
           }
          ],
          "parcoords": [
           {
            "line": {
             "colorbar": {
              "outlinewidth": 0,
              "ticks": ""
             }
            },
            "type": "parcoords"
           }
          ],
          "pie": [
           {
            "automargin": true,
            "type": "pie"
           }
          ],
          "scatter": [
           {
            "marker": {
             "colorbar": {
              "outlinewidth": 0,
              "ticks": ""
             }
            },
            "type": "scatter"
           }
          ],
          "scatter3d": [
           {
            "line": {
             "colorbar": {
              "outlinewidth": 0,
              "ticks": ""
             }
            },
            "marker": {
             "colorbar": {
              "outlinewidth": 0,
              "ticks": ""
             }
            },
            "type": "scatter3d"
           }
          ],
          "scattercarpet": [
           {
            "marker": {
             "colorbar": {
              "outlinewidth": 0,
              "ticks": ""
             }
            },
            "type": "scattercarpet"
           }
          ],
          "scattergeo": [
           {
            "marker": {
             "colorbar": {
              "outlinewidth": 0,
              "ticks": ""
             }
            },
            "type": "scattergeo"
           }
          ],
          "scattergl": [
           {
            "marker": {
             "colorbar": {
              "outlinewidth": 0,
              "ticks": ""
             }
            },
            "type": "scattergl"
           }
          ],
          "scattermapbox": [
           {
            "marker": {
             "colorbar": {
              "outlinewidth": 0,
              "ticks": ""
             }
            },
            "type": "scattermapbox"
           }
          ],
          "scatterpolar": [
           {
            "marker": {
             "colorbar": {
              "outlinewidth": 0,
              "ticks": ""
             }
            },
            "type": "scatterpolar"
           }
          ],
          "scatterpolargl": [
           {
            "marker": {
             "colorbar": {
              "outlinewidth": 0,
              "ticks": ""
             }
            },
            "type": "scatterpolargl"
           }
          ],
          "scatterternary": [
           {
            "marker": {
             "colorbar": {
              "outlinewidth": 0,
              "ticks": ""
             }
            },
            "type": "scatterternary"
           }
          ],
          "surface": [
           {
            "colorbar": {
             "outlinewidth": 0,
             "ticks": ""
            },
            "colorscale": [
             [
              0,
              "#0d0887"
             ],
             [
              0.1111111111111111,
              "#46039f"
             ],
             [
              0.2222222222222222,
              "#7201a8"
             ],
             [
              0.3333333333333333,
              "#9c179e"
             ],
             [
              0.4444444444444444,
              "#bd3786"
             ],
             [
              0.5555555555555556,
              "#d8576b"
             ],
             [
              0.6666666666666666,
              "#ed7953"
             ],
             [
              0.7777777777777778,
              "#fb9f3a"
             ],
             [
              0.8888888888888888,
              "#fdca26"
             ],
             [
              1,
              "#f0f921"
             ]
            ],
            "type": "surface"
           }
          ],
          "table": [
           {
            "cells": {
             "fill": {
              "color": "#EBF0F8"
             },
             "line": {
              "color": "white"
             }
            },
            "header": {
             "fill": {
              "color": "#C8D4E3"
             },
             "line": {
              "color": "white"
             }
            },
            "type": "table"
           }
          ]
         },
         "layout": {
          "annotationdefaults": {
           "arrowcolor": "#2a3f5f",
           "arrowhead": 0,
           "arrowwidth": 1
          },
          "coloraxis": {
           "colorbar": {
            "outlinewidth": 0,
            "ticks": ""
           }
          },
          "colorscale": {
           "diverging": [
            [
             0,
             "#8e0152"
            ],
            [
             0.1,
             "#c51b7d"
            ],
            [
             0.2,
             "#de77ae"
            ],
            [
             0.3,
             "#f1b6da"
            ],
            [
             0.4,
             "#fde0ef"
            ],
            [
             0.5,
             "#f7f7f7"
            ],
            [
             0.6,
             "#e6f5d0"
            ],
            [
             0.7,
             "#b8e186"
            ],
            [
             0.8,
             "#7fbc41"
            ],
            [
             0.9,
             "#4d9221"
            ],
            [
             1,
             "#276419"
            ]
           ],
           "sequential": [
            [
             0,
             "#0d0887"
            ],
            [
             0.1111111111111111,
             "#46039f"
            ],
            [
             0.2222222222222222,
             "#7201a8"
            ],
            [
             0.3333333333333333,
             "#9c179e"
            ],
            [
             0.4444444444444444,
             "#bd3786"
            ],
            [
             0.5555555555555556,
             "#d8576b"
            ],
            [
             0.6666666666666666,
             "#ed7953"
            ],
            [
             0.7777777777777778,
             "#fb9f3a"
            ],
            [
             0.8888888888888888,
             "#fdca26"
            ],
            [
             1,
             "#f0f921"
            ]
           ],
           "sequentialminus": [
            [
             0,
             "#0d0887"
            ],
            [
             0.1111111111111111,
             "#46039f"
            ],
            [
             0.2222222222222222,
             "#7201a8"
            ],
            [
             0.3333333333333333,
             "#9c179e"
            ],
            [
             0.4444444444444444,
             "#bd3786"
            ],
            [
             0.5555555555555556,
             "#d8576b"
            ],
            [
             0.6666666666666666,
             "#ed7953"
            ],
            [
             0.7777777777777778,
             "#fb9f3a"
            ],
            [
             0.8888888888888888,
             "#fdca26"
            ],
            [
             1,
             "#f0f921"
            ]
           ]
          },
          "colorway": [
           "#636efa",
           "#EF553B",
           "#00cc96",
           "#ab63fa",
           "#FFA15A",
           "#19d3f3",
           "#FF6692",
           "#B6E880",
           "#FF97FF",
           "#FECB52"
          ],
          "font": {
           "color": "#2a3f5f"
          },
          "geo": {
           "bgcolor": "white",
           "lakecolor": "white",
           "landcolor": "#E5ECF6",
           "showlakes": true,
           "showland": true,
           "subunitcolor": "white"
          },
          "hoverlabel": {
           "align": "left"
          },
          "hovermode": "closest",
          "mapbox": {
           "style": "light"
          },
          "paper_bgcolor": "white",
          "plot_bgcolor": "#E5ECF6",
          "polar": {
           "angularaxis": {
            "gridcolor": "white",
            "linecolor": "white",
            "ticks": ""
           },
           "bgcolor": "#E5ECF6",
           "radialaxis": {
            "gridcolor": "white",
            "linecolor": "white",
            "ticks": ""
           }
          },
          "scene": {
           "xaxis": {
            "backgroundcolor": "#E5ECF6",
            "gridcolor": "white",
            "gridwidth": 2,
            "linecolor": "white",
            "showbackground": true,
            "ticks": "",
            "zerolinecolor": "white"
           },
           "yaxis": {
            "backgroundcolor": "#E5ECF6",
            "gridcolor": "white",
            "gridwidth": 2,
            "linecolor": "white",
            "showbackground": true,
            "ticks": "",
            "zerolinecolor": "white"
           },
           "zaxis": {
            "backgroundcolor": "#E5ECF6",
            "gridcolor": "white",
            "gridwidth": 2,
            "linecolor": "white",
            "showbackground": true,
            "ticks": "",
            "zerolinecolor": "white"
           }
          },
          "shapedefaults": {
           "line": {
            "color": "#2a3f5f"
           }
          },
          "ternary": {
           "aaxis": {
            "gridcolor": "white",
            "linecolor": "white",
            "ticks": ""
           },
           "baxis": {
            "gridcolor": "white",
            "linecolor": "white",
            "ticks": ""
           },
           "bgcolor": "#E5ECF6",
           "caxis": {
            "gridcolor": "white",
            "linecolor": "white",
            "ticks": ""
           }
          },
          "title": {
           "x": 0.05
          },
          "xaxis": {
           "automargin": true,
           "gridcolor": "white",
           "linecolor": "white",
           "ticks": "",
           "title": {
            "standoff": 15
           },
           "zerolinecolor": "white",
           "zerolinewidth": 2
          },
          "yaxis": {
           "automargin": true,
           "gridcolor": "white",
           "linecolor": "white",
           "ticks": "",
           "title": {
            "standoff": 15
           },
           "zerolinecolor": "white",
           "zerolinewidth": 2
          }
         }
        },
        "title": {
         "text": "Nº de Compras por hora do dia"
        },
        "xaxis": {
         "title": {
          "text": "Hora do dia"
         }
        },
        "yaxis": {
         "title": {
          "text": "Número de Compras"
         }
        }
       }
      },
      "text/html": [
       "<div>\n",
       "        \n",
       "        \n",
       "            <div id=\"449fbeee-015d-4a40-ae21-4de0934a8ced\" class=\"plotly-graph-div\" style=\"height:525px; width:100%;\"></div>\n",
       "            <script type=\"text/javascript\">\n",
       "                require([\"plotly\"], function(Plotly) {\n",
       "                    window.PLOTLYENV=window.PLOTLYENV || {};\n",
       "                    \n",
       "                if (document.getElementById(\"449fbeee-015d-4a40-ae21-4de0934a8ced\")) {\n",
       "                    Plotly.newPlot(\n",
       "                        '449fbeee-015d-4a40-ae21-4de0934a8ced',\n",
       "                        [{\"marker\": {\"color\": \"blue\"}, \"mode\": \"lines+markers\", \"type\": \"scatter\", \"x\": [0, 1, 2, 3, 4, 5, 6, 7, 8, 9, 10, 11, 12, 13, 14, 15, 16, 17, 18, 19, 20, 21, 22, 23], \"y\": [1829, 1791, 1822, 1941, 1885, 1779, 1793, 2003, 1834, 1968, 1899, 1850, 1827, 1958, 1810, 1930, 1970, 1837, 1700, 1763, 1960, 1908, 1626, 1817]}],\n",
       "                        {\"template\": {\"data\": {\"bar\": [{\"error_x\": {\"color\": \"#2a3f5f\"}, \"error_y\": {\"color\": \"#2a3f5f\"}, \"marker\": {\"line\": {\"color\": \"#E5ECF6\", \"width\": 0.5}}, \"type\": \"bar\"}], \"barpolar\": [{\"marker\": {\"line\": {\"color\": \"#E5ECF6\", \"width\": 0.5}}, \"type\": \"barpolar\"}], \"carpet\": [{\"aaxis\": {\"endlinecolor\": \"#2a3f5f\", \"gridcolor\": \"white\", \"linecolor\": \"white\", \"minorgridcolor\": \"white\", \"startlinecolor\": \"#2a3f5f\"}, \"baxis\": {\"endlinecolor\": \"#2a3f5f\", \"gridcolor\": \"white\", \"linecolor\": \"white\", \"minorgridcolor\": \"white\", \"startlinecolor\": \"#2a3f5f\"}, \"type\": \"carpet\"}], \"choropleth\": [{\"colorbar\": {\"outlinewidth\": 0, \"ticks\": \"\"}, \"type\": \"choropleth\"}], \"contour\": [{\"colorbar\": {\"outlinewidth\": 0, \"ticks\": \"\"}, \"colorscale\": [[0.0, \"#0d0887\"], [0.1111111111111111, \"#46039f\"], [0.2222222222222222, \"#7201a8\"], [0.3333333333333333, \"#9c179e\"], [0.4444444444444444, \"#bd3786\"], [0.5555555555555556, \"#d8576b\"], [0.6666666666666666, \"#ed7953\"], [0.7777777777777778, \"#fb9f3a\"], [0.8888888888888888, \"#fdca26\"], [1.0, \"#f0f921\"]], \"type\": \"contour\"}], \"contourcarpet\": [{\"colorbar\": {\"outlinewidth\": 0, \"ticks\": \"\"}, \"type\": \"contourcarpet\"}], \"heatmap\": [{\"colorbar\": {\"outlinewidth\": 0, \"ticks\": \"\"}, \"colorscale\": [[0.0, \"#0d0887\"], [0.1111111111111111, \"#46039f\"], [0.2222222222222222, \"#7201a8\"], [0.3333333333333333, \"#9c179e\"], [0.4444444444444444, \"#bd3786\"], [0.5555555555555556, \"#d8576b\"], [0.6666666666666666, \"#ed7953\"], [0.7777777777777778, \"#fb9f3a\"], [0.8888888888888888, \"#fdca26\"], [1.0, \"#f0f921\"]], \"type\": \"heatmap\"}], \"heatmapgl\": [{\"colorbar\": {\"outlinewidth\": 0, \"ticks\": \"\"}, \"colorscale\": [[0.0, \"#0d0887\"], [0.1111111111111111, \"#46039f\"], [0.2222222222222222, \"#7201a8\"], [0.3333333333333333, \"#9c179e\"], [0.4444444444444444, \"#bd3786\"], [0.5555555555555556, \"#d8576b\"], [0.6666666666666666, \"#ed7953\"], [0.7777777777777778, \"#fb9f3a\"], [0.8888888888888888, \"#fdca26\"], [1.0, \"#f0f921\"]], \"type\": \"heatmapgl\"}], \"histogram\": [{\"marker\": {\"colorbar\": {\"outlinewidth\": 0, \"ticks\": \"\"}}, \"type\": \"histogram\"}], \"histogram2d\": [{\"colorbar\": {\"outlinewidth\": 0, \"ticks\": \"\"}, \"colorscale\": [[0.0, \"#0d0887\"], [0.1111111111111111, \"#46039f\"], [0.2222222222222222, \"#7201a8\"], [0.3333333333333333, \"#9c179e\"], [0.4444444444444444, \"#bd3786\"], [0.5555555555555556, \"#d8576b\"], [0.6666666666666666, \"#ed7953\"], [0.7777777777777778, \"#fb9f3a\"], [0.8888888888888888, \"#fdca26\"], [1.0, \"#f0f921\"]], \"type\": \"histogram2d\"}], \"histogram2dcontour\": [{\"colorbar\": {\"outlinewidth\": 0, \"ticks\": \"\"}, \"colorscale\": [[0.0, \"#0d0887\"], [0.1111111111111111, \"#46039f\"], [0.2222222222222222, \"#7201a8\"], [0.3333333333333333, \"#9c179e\"], [0.4444444444444444, \"#bd3786\"], [0.5555555555555556, \"#d8576b\"], [0.6666666666666666, \"#ed7953\"], [0.7777777777777778, \"#fb9f3a\"], [0.8888888888888888, \"#fdca26\"], [1.0, \"#f0f921\"]], \"type\": \"histogram2dcontour\"}], \"mesh3d\": [{\"colorbar\": {\"outlinewidth\": 0, \"ticks\": \"\"}, \"type\": \"mesh3d\"}], \"parcoords\": [{\"line\": {\"colorbar\": {\"outlinewidth\": 0, \"ticks\": \"\"}}, \"type\": \"parcoords\"}], \"pie\": [{\"automargin\": true, \"type\": \"pie\"}], \"scatter\": [{\"marker\": {\"colorbar\": {\"outlinewidth\": 0, \"ticks\": \"\"}}, \"type\": \"scatter\"}], \"scatter3d\": [{\"line\": {\"colorbar\": {\"outlinewidth\": 0, \"ticks\": \"\"}}, \"marker\": {\"colorbar\": {\"outlinewidth\": 0, \"ticks\": \"\"}}, \"type\": \"scatter3d\"}], \"scattercarpet\": [{\"marker\": {\"colorbar\": {\"outlinewidth\": 0, \"ticks\": \"\"}}, \"type\": \"scattercarpet\"}], \"scattergeo\": [{\"marker\": {\"colorbar\": {\"outlinewidth\": 0, \"ticks\": \"\"}}, \"type\": \"scattergeo\"}], \"scattergl\": [{\"marker\": {\"colorbar\": {\"outlinewidth\": 0, \"ticks\": \"\"}}, \"type\": \"scattergl\"}], \"scattermapbox\": [{\"marker\": {\"colorbar\": {\"outlinewidth\": 0, \"ticks\": \"\"}}, \"type\": \"scattermapbox\"}], \"scatterpolar\": [{\"marker\": {\"colorbar\": {\"outlinewidth\": 0, \"ticks\": \"\"}}, \"type\": \"scatterpolar\"}], \"scatterpolargl\": [{\"marker\": {\"colorbar\": {\"outlinewidth\": 0, \"ticks\": \"\"}}, \"type\": \"scatterpolargl\"}], \"scatterternary\": [{\"marker\": {\"colorbar\": {\"outlinewidth\": 0, \"ticks\": \"\"}}, \"type\": \"scatterternary\"}], \"surface\": [{\"colorbar\": {\"outlinewidth\": 0, \"ticks\": \"\"}, \"colorscale\": [[0.0, \"#0d0887\"], [0.1111111111111111, \"#46039f\"], [0.2222222222222222, \"#7201a8\"], [0.3333333333333333, \"#9c179e\"], [0.4444444444444444, \"#bd3786\"], [0.5555555555555556, \"#d8576b\"], [0.6666666666666666, \"#ed7953\"], [0.7777777777777778, \"#fb9f3a\"], [0.8888888888888888, \"#fdca26\"], [1.0, \"#f0f921\"]], \"type\": \"surface\"}], \"table\": [{\"cells\": {\"fill\": {\"color\": \"#EBF0F8\"}, \"line\": {\"color\": \"white\"}}, \"header\": {\"fill\": {\"color\": \"#C8D4E3\"}, \"line\": {\"color\": \"white\"}}, \"type\": \"table\"}]}, \"layout\": {\"annotationdefaults\": {\"arrowcolor\": \"#2a3f5f\", \"arrowhead\": 0, \"arrowwidth\": 1}, \"coloraxis\": {\"colorbar\": {\"outlinewidth\": 0, \"ticks\": \"\"}}, \"colorscale\": {\"diverging\": [[0, \"#8e0152\"], [0.1, \"#c51b7d\"], [0.2, \"#de77ae\"], [0.3, \"#f1b6da\"], [0.4, \"#fde0ef\"], [0.5, \"#f7f7f7\"], [0.6, \"#e6f5d0\"], [0.7, \"#b8e186\"], [0.8, \"#7fbc41\"], [0.9, \"#4d9221\"], [1, \"#276419\"]], \"sequential\": [[0.0, \"#0d0887\"], [0.1111111111111111, \"#46039f\"], [0.2222222222222222, \"#7201a8\"], [0.3333333333333333, \"#9c179e\"], [0.4444444444444444, \"#bd3786\"], [0.5555555555555556, \"#d8576b\"], [0.6666666666666666, \"#ed7953\"], [0.7777777777777778, \"#fb9f3a\"], [0.8888888888888888, \"#fdca26\"], [1.0, \"#f0f921\"]], \"sequentialminus\": [[0.0, \"#0d0887\"], [0.1111111111111111, \"#46039f\"], [0.2222222222222222, \"#7201a8\"], [0.3333333333333333, \"#9c179e\"], [0.4444444444444444, \"#bd3786\"], [0.5555555555555556, \"#d8576b\"], [0.6666666666666666, \"#ed7953\"], [0.7777777777777778, \"#fb9f3a\"], [0.8888888888888888, \"#fdca26\"], [1.0, \"#f0f921\"]]}, \"colorway\": [\"#636efa\", \"#EF553B\", \"#00cc96\", \"#ab63fa\", \"#FFA15A\", \"#19d3f3\", \"#FF6692\", \"#B6E880\", \"#FF97FF\", \"#FECB52\"], \"font\": {\"color\": \"#2a3f5f\"}, \"geo\": {\"bgcolor\": \"white\", \"lakecolor\": \"white\", \"landcolor\": \"#E5ECF6\", \"showlakes\": true, \"showland\": true, \"subunitcolor\": \"white\"}, \"hoverlabel\": {\"align\": \"left\"}, \"hovermode\": \"closest\", \"mapbox\": {\"style\": \"light\"}, \"paper_bgcolor\": \"white\", \"plot_bgcolor\": \"#E5ECF6\", \"polar\": {\"angularaxis\": {\"gridcolor\": \"white\", \"linecolor\": \"white\", \"ticks\": \"\"}, \"bgcolor\": \"#E5ECF6\", \"radialaxis\": {\"gridcolor\": \"white\", \"linecolor\": \"white\", \"ticks\": \"\"}}, \"scene\": {\"xaxis\": {\"backgroundcolor\": \"#E5ECF6\", \"gridcolor\": \"white\", \"gridwidth\": 2, \"linecolor\": \"white\", \"showbackground\": true, \"ticks\": \"\", \"zerolinecolor\": \"white\"}, \"yaxis\": {\"backgroundcolor\": \"#E5ECF6\", \"gridcolor\": \"white\", \"gridwidth\": 2, \"linecolor\": \"white\", \"showbackground\": true, \"ticks\": \"\", \"zerolinecolor\": \"white\"}, \"zaxis\": {\"backgroundcolor\": \"#E5ECF6\", \"gridcolor\": \"white\", \"gridwidth\": 2, \"linecolor\": \"white\", \"showbackground\": true, \"ticks\": \"\", \"zerolinecolor\": \"white\"}}, \"shapedefaults\": {\"line\": {\"color\": \"#2a3f5f\"}}, \"ternary\": {\"aaxis\": {\"gridcolor\": \"white\", \"linecolor\": \"white\", \"ticks\": \"\"}, \"baxis\": {\"gridcolor\": \"white\", \"linecolor\": \"white\", \"ticks\": \"\"}, \"bgcolor\": \"#E5ECF6\", \"caxis\": {\"gridcolor\": \"white\", \"linecolor\": \"white\", \"ticks\": \"\"}}, \"title\": {\"x\": 0.05}, \"xaxis\": {\"automargin\": true, \"gridcolor\": \"white\", \"linecolor\": \"white\", \"ticks\": \"\", \"title\": {\"standoff\": 15}, \"zerolinecolor\": \"white\", \"zerolinewidth\": 2}, \"yaxis\": {\"automargin\": true, \"gridcolor\": \"white\", \"linecolor\": \"white\", \"ticks\": \"\", \"title\": {\"standoff\": 15}, \"zerolinecolor\": \"white\", \"zerolinewidth\": 2}}}, \"title\": {\"text\": \"N\\u00ba de Compras por hora do dia\"}, \"xaxis\": {\"title\": {\"text\": \"Hora do dia\"}}, \"yaxis\": {\"title\": {\"text\": \"N\\u00famero de Compras\"}}},\n",
       "                        {\"responsive\": true}\n",
       "                    ).then(function(){\n",
       "                            \n",
       "var gd = document.getElementById('449fbeee-015d-4a40-ae21-4de0934a8ced');\n",
       "var x = new MutationObserver(function (mutations, observer) {{\n",
       "        var display = window.getComputedStyle(gd).display;\n",
       "        if (!display || display === 'none') {{\n",
       "            console.log([gd, 'removed!']);\n",
       "            Plotly.purge(gd);\n",
       "            observer.disconnect();\n",
       "        }}\n",
       "}});\n",
       "\n",
       "// Listen for the removal of the full notebook cells\n",
       "var notebookContainer = gd.closest('#notebook-container');\n",
       "if (notebookContainer) {{\n",
       "    x.observe(notebookContainer, {childList: true});\n",
       "}}\n",
       "\n",
       "// Listen for the clearing of the current output cell\n",
       "var outputEl = gd.closest('.output');\n",
       "if (outputEl) {{\n",
       "    x.observe(outputEl, {childList: true});\n",
       "}}\n",
       "\n",
       "                        })\n",
       "                };\n",
       "                });\n",
       "            </script>\n",
       "        </div>"
      ]
     },
     "metadata": {},
     "output_type": "display_data"
    }
   ],
   "source": [
    "layout = dict(title = 'Nº de Compras por hora do dia',\n",
    "              xaxis = dict(title = 'Hora do dia'),\n",
    "              yaxis = dict(title = 'Número de Compras'),\n",
    "              )\n",
    "data = [go.Scatter(x=compras_por_hora.index, y=compras_por_hora, mode='lines+markers',\n",
    "                 marker=dict(color='blue'))]\n",
    "fig = dict(data=data, layout=layout)\n",
    "iplot(fig)"
   ]
  },
  {
   "cell_type": "code",
   "execution_count": 52,
   "metadata": {},
   "outputs": [
    {
     "data": {
      "application/vnd.plotly.v1+json": {
       "config": {
        "linkText": "Export to plot.ly",
        "plotlyServerURL": "https://plot.ly",
        "showLink": false
       },
       "data": [
        {
         "marker": {
          "color": "blue"
         },
         "mode": "lines+markers",
         "type": "scatter",
         "x": [
          0,
          1,
          2,
          3,
          4,
          5,
          6,
          7,
          8,
          9,
          10,
          11,
          12,
          13,
          14,
          15,
          16,
          17,
          18,
          19,
          20,
          21,
          22,
          23
         ],
         "y": [
          3744251.9962199978,
          3582668.000199996,
          3590480.002781,
          3814613.5881500007,
          3761493.8554700008,
          3532688.07068,
          3533806.281009998,
          4082522.8684800025,
          3615930.9971699957,
          3861952.060240001,
          3801079.3180720014,
          3678548.597130004,
          3676965.433510008,
          4035362.9980400023,
          3521168.6441599964,
          3954240.172977894,
          3959241.387099999,
          3644114.8463530033,
          3408807.968500002,
          3628420.7245499995,
          3937981.421500002,
          3709686.7494399985,
          3248176.213600008,
          3638485.407230004
         ]
        }
       ],
       "layout": {
        "template": {
         "data": {
          "bar": [
           {
            "error_x": {
             "color": "#2a3f5f"
            },
            "error_y": {
             "color": "#2a3f5f"
            },
            "marker": {
             "line": {
              "color": "#E5ECF6",
              "width": 0.5
             }
            },
            "type": "bar"
           }
          ],
          "barpolar": [
           {
            "marker": {
             "line": {
              "color": "#E5ECF6",
              "width": 0.5
             }
            },
            "type": "barpolar"
           }
          ],
          "carpet": [
           {
            "aaxis": {
             "endlinecolor": "#2a3f5f",
             "gridcolor": "white",
             "linecolor": "white",
             "minorgridcolor": "white",
             "startlinecolor": "#2a3f5f"
            },
            "baxis": {
             "endlinecolor": "#2a3f5f",
             "gridcolor": "white",
             "linecolor": "white",
             "minorgridcolor": "white",
             "startlinecolor": "#2a3f5f"
            },
            "type": "carpet"
           }
          ],
          "choropleth": [
           {
            "colorbar": {
             "outlinewidth": 0,
             "ticks": ""
            },
            "type": "choropleth"
           }
          ],
          "contour": [
           {
            "colorbar": {
             "outlinewidth": 0,
             "ticks": ""
            },
            "colorscale": [
             [
              0,
              "#0d0887"
             ],
             [
              0.1111111111111111,
              "#46039f"
             ],
             [
              0.2222222222222222,
              "#7201a8"
             ],
             [
              0.3333333333333333,
              "#9c179e"
             ],
             [
              0.4444444444444444,
              "#bd3786"
             ],
             [
              0.5555555555555556,
              "#d8576b"
             ],
             [
              0.6666666666666666,
              "#ed7953"
             ],
             [
              0.7777777777777778,
              "#fb9f3a"
             ],
             [
              0.8888888888888888,
              "#fdca26"
             ],
             [
              1,
              "#f0f921"
             ]
            ],
            "type": "contour"
           }
          ],
          "contourcarpet": [
           {
            "colorbar": {
             "outlinewidth": 0,
             "ticks": ""
            },
            "type": "contourcarpet"
           }
          ],
          "heatmap": [
           {
            "colorbar": {
             "outlinewidth": 0,
             "ticks": ""
            },
            "colorscale": [
             [
              0,
              "#0d0887"
             ],
             [
              0.1111111111111111,
              "#46039f"
             ],
             [
              0.2222222222222222,
              "#7201a8"
             ],
             [
              0.3333333333333333,
              "#9c179e"
             ],
             [
              0.4444444444444444,
              "#bd3786"
             ],
             [
              0.5555555555555556,
              "#d8576b"
             ],
             [
              0.6666666666666666,
              "#ed7953"
             ],
             [
              0.7777777777777778,
              "#fb9f3a"
             ],
             [
              0.8888888888888888,
              "#fdca26"
             ],
             [
              1,
              "#f0f921"
             ]
            ],
            "type": "heatmap"
           }
          ],
          "heatmapgl": [
           {
            "colorbar": {
             "outlinewidth": 0,
             "ticks": ""
            },
            "colorscale": [
             [
              0,
              "#0d0887"
             ],
             [
              0.1111111111111111,
              "#46039f"
             ],
             [
              0.2222222222222222,
              "#7201a8"
             ],
             [
              0.3333333333333333,
              "#9c179e"
             ],
             [
              0.4444444444444444,
              "#bd3786"
             ],
             [
              0.5555555555555556,
              "#d8576b"
             ],
             [
              0.6666666666666666,
              "#ed7953"
             ],
             [
              0.7777777777777778,
              "#fb9f3a"
             ],
             [
              0.8888888888888888,
              "#fdca26"
             ],
             [
              1,
              "#f0f921"
             ]
            ],
            "type": "heatmapgl"
           }
          ],
          "histogram": [
           {
            "marker": {
             "colorbar": {
              "outlinewidth": 0,
              "ticks": ""
             }
            },
            "type": "histogram"
           }
          ],
          "histogram2d": [
           {
            "colorbar": {
             "outlinewidth": 0,
             "ticks": ""
            },
            "colorscale": [
             [
              0,
              "#0d0887"
             ],
             [
              0.1111111111111111,
              "#46039f"
             ],
             [
              0.2222222222222222,
              "#7201a8"
             ],
             [
              0.3333333333333333,
              "#9c179e"
             ],
             [
              0.4444444444444444,
              "#bd3786"
             ],
             [
              0.5555555555555556,
              "#d8576b"
             ],
             [
              0.6666666666666666,
              "#ed7953"
             ],
             [
              0.7777777777777778,
              "#fb9f3a"
             ],
             [
              0.8888888888888888,
              "#fdca26"
             ],
             [
              1,
              "#f0f921"
             ]
            ],
            "type": "histogram2d"
           }
          ],
          "histogram2dcontour": [
           {
            "colorbar": {
             "outlinewidth": 0,
             "ticks": ""
            },
            "colorscale": [
             [
              0,
              "#0d0887"
             ],
             [
              0.1111111111111111,
              "#46039f"
             ],
             [
              0.2222222222222222,
              "#7201a8"
             ],
             [
              0.3333333333333333,
              "#9c179e"
             ],
             [
              0.4444444444444444,
              "#bd3786"
             ],
             [
              0.5555555555555556,
              "#d8576b"
             ],
             [
              0.6666666666666666,
              "#ed7953"
             ],
             [
              0.7777777777777778,
              "#fb9f3a"
             ],
             [
              0.8888888888888888,
              "#fdca26"
             ],
             [
              1,
              "#f0f921"
             ]
            ],
            "type": "histogram2dcontour"
           }
          ],
          "mesh3d": [
           {
            "colorbar": {
             "outlinewidth": 0,
             "ticks": ""
            },
            "type": "mesh3d"
           }
          ],
          "parcoords": [
           {
            "line": {
             "colorbar": {
              "outlinewidth": 0,
              "ticks": ""
             }
            },
            "type": "parcoords"
           }
          ],
          "pie": [
           {
            "automargin": true,
            "type": "pie"
           }
          ],
          "scatter": [
           {
            "marker": {
             "colorbar": {
              "outlinewidth": 0,
              "ticks": ""
             }
            },
            "type": "scatter"
           }
          ],
          "scatter3d": [
           {
            "line": {
             "colorbar": {
              "outlinewidth": 0,
              "ticks": ""
             }
            },
            "marker": {
             "colorbar": {
              "outlinewidth": 0,
              "ticks": ""
             }
            },
            "type": "scatter3d"
           }
          ],
          "scattercarpet": [
           {
            "marker": {
             "colorbar": {
              "outlinewidth": 0,
              "ticks": ""
             }
            },
            "type": "scattercarpet"
           }
          ],
          "scattergeo": [
           {
            "marker": {
             "colorbar": {
              "outlinewidth": 0,
              "ticks": ""
             }
            },
            "type": "scattergeo"
           }
          ],
          "scattergl": [
           {
            "marker": {
             "colorbar": {
              "outlinewidth": 0,
              "ticks": ""
             }
            },
            "type": "scattergl"
           }
          ],
          "scattermapbox": [
           {
            "marker": {
             "colorbar": {
              "outlinewidth": 0,
              "ticks": ""
             }
            },
            "type": "scattermapbox"
           }
          ],
          "scatterpolar": [
           {
            "marker": {
             "colorbar": {
              "outlinewidth": 0,
              "ticks": ""
             }
            },
            "type": "scatterpolar"
           }
          ],
          "scatterpolargl": [
           {
            "marker": {
             "colorbar": {
              "outlinewidth": 0,
              "ticks": ""
             }
            },
            "type": "scatterpolargl"
           }
          ],
          "scatterternary": [
           {
            "marker": {
             "colorbar": {
              "outlinewidth": 0,
              "ticks": ""
             }
            },
            "type": "scatterternary"
           }
          ],
          "surface": [
           {
            "colorbar": {
             "outlinewidth": 0,
             "ticks": ""
            },
            "colorscale": [
             [
              0,
              "#0d0887"
             ],
             [
              0.1111111111111111,
              "#46039f"
             ],
             [
              0.2222222222222222,
              "#7201a8"
             ],
             [
              0.3333333333333333,
              "#9c179e"
             ],
             [
              0.4444444444444444,
              "#bd3786"
             ],
             [
              0.5555555555555556,
              "#d8576b"
             ],
             [
              0.6666666666666666,
              "#ed7953"
             ],
             [
              0.7777777777777778,
              "#fb9f3a"
             ],
             [
              0.8888888888888888,
              "#fdca26"
             ],
             [
              1,
              "#f0f921"
             ]
            ],
            "type": "surface"
           }
          ],
          "table": [
           {
            "cells": {
             "fill": {
              "color": "#EBF0F8"
             },
             "line": {
              "color": "white"
             }
            },
            "header": {
             "fill": {
              "color": "#C8D4E3"
             },
             "line": {
              "color": "white"
             }
            },
            "type": "table"
           }
          ]
         },
         "layout": {
          "annotationdefaults": {
           "arrowcolor": "#2a3f5f",
           "arrowhead": 0,
           "arrowwidth": 1
          },
          "coloraxis": {
           "colorbar": {
            "outlinewidth": 0,
            "ticks": ""
           }
          },
          "colorscale": {
           "diverging": [
            [
             0,
             "#8e0152"
            ],
            [
             0.1,
             "#c51b7d"
            ],
            [
             0.2,
             "#de77ae"
            ],
            [
             0.3,
             "#f1b6da"
            ],
            [
             0.4,
             "#fde0ef"
            ],
            [
             0.5,
             "#f7f7f7"
            ],
            [
             0.6,
             "#e6f5d0"
            ],
            [
             0.7,
             "#b8e186"
            ],
            [
             0.8,
             "#7fbc41"
            ],
            [
             0.9,
             "#4d9221"
            ],
            [
             1,
             "#276419"
            ]
           ],
           "sequential": [
            [
             0,
             "#0d0887"
            ],
            [
             0.1111111111111111,
             "#46039f"
            ],
            [
             0.2222222222222222,
             "#7201a8"
            ],
            [
             0.3333333333333333,
             "#9c179e"
            ],
            [
             0.4444444444444444,
             "#bd3786"
            ],
            [
             0.5555555555555556,
             "#d8576b"
            ],
            [
             0.6666666666666666,
             "#ed7953"
            ],
            [
             0.7777777777777778,
             "#fb9f3a"
            ],
            [
             0.8888888888888888,
             "#fdca26"
            ],
            [
             1,
             "#f0f921"
            ]
           ],
           "sequentialminus": [
            [
             0,
             "#0d0887"
            ],
            [
             0.1111111111111111,
             "#46039f"
            ],
            [
             0.2222222222222222,
             "#7201a8"
            ],
            [
             0.3333333333333333,
             "#9c179e"
            ],
            [
             0.4444444444444444,
             "#bd3786"
            ],
            [
             0.5555555555555556,
             "#d8576b"
            ],
            [
             0.6666666666666666,
             "#ed7953"
            ],
            [
             0.7777777777777778,
             "#fb9f3a"
            ],
            [
             0.8888888888888888,
             "#fdca26"
            ],
            [
             1,
             "#f0f921"
            ]
           ]
          },
          "colorway": [
           "#636efa",
           "#EF553B",
           "#00cc96",
           "#ab63fa",
           "#FFA15A",
           "#19d3f3",
           "#FF6692",
           "#B6E880",
           "#FF97FF",
           "#FECB52"
          ],
          "font": {
           "color": "#2a3f5f"
          },
          "geo": {
           "bgcolor": "white",
           "lakecolor": "white",
           "landcolor": "#E5ECF6",
           "showlakes": true,
           "showland": true,
           "subunitcolor": "white"
          },
          "hoverlabel": {
           "align": "left"
          },
          "hovermode": "closest",
          "mapbox": {
           "style": "light"
          },
          "paper_bgcolor": "white",
          "plot_bgcolor": "#E5ECF6",
          "polar": {
           "angularaxis": {
            "gridcolor": "white",
            "linecolor": "white",
            "ticks": ""
           },
           "bgcolor": "#E5ECF6",
           "radialaxis": {
            "gridcolor": "white",
            "linecolor": "white",
            "ticks": ""
           }
          },
          "scene": {
           "xaxis": {
            "backgroundcolor": "#E5ECF6",
            "gridcolor": "white",
            "gridwidth": 2,
            "linecolor": "white",
            "showbackground": true,
            "ticks": "",
            "zerolinecolor": "white"
           },
           "yaxis": {
            "backgroundcolor": "#E5ECF6",
            "gridcolor": "white",
            "gridwidth": 2,
            "linecolor": "white",
            "showbackground": true,
            "ticks": "",
            "zerolinecolor": "white"
           },
           "zaxis": {
            "backgroundcolor": "#E5ECF6",
            "gridcolor": "white",
            "gridwidth": 2,
            "linecolor": "white",
            "showbackground": true,
            "ticks": "",
            "zerolinecolor": "white"
           }
          },
          "shapedefaults": {
           "line": {
            "color": "#2a3f5f"
           }
          },
          "ternary": {
           "aaxis": {
            "gridcolor": "white",
            "linecolor": "white",
            "ticks": ""
           },
           "baxis": {
            "gridcolor": "white",
            "linecolor": "white",
            "ticks": ""
           },
           "bgcolor": "#E5ECF6",
           "caxis": {
            "gridcolor": "white",
            "linecolor": "white",
            "ticks": ""
           }
          },
          "title": {
           "x": 0.05
          },
          "xaxis": {
           "automargin": true,
           "gridcolor": "white",
           "linecolor": "white",
           "ticks": "",
           "title": {
            "standoff": 15
           },
           "zerolinecolor": "white",
           "zerolinewidth": 2
          },
          "yaxis": {
           "automargin": true,
           "gridcolor": "white",
           "linecolor": "white",
           "ticks": "",
           "title": {
            "standoff": 15
           },
           "zerolinecolor": "white",
           "zerolinewidth": 2
          }
         }
        },
        "title": {
         "text": "Vendas por hora do dia"
        },
        "xaxis": {
         "title": {
          "text": "Hora do dia"
         }
        },
        "yaxis": {
         "title": {
          "text": "Vendas ($)"
         }
        }
       }
      },
      "text/html": [
       "<div>\n",
       "        \n",
       "        \n",
       "            <div id=\"eda8dcf0-28e6-402b-be3a-7600578d2911\" class=\"plotly-graph-div\" style=\"height:525px; width:100%;\"></div>\n",
       "            <script type=\"text/javascript\">\n",
       "                require([\"plotly\"], function(Plotly) {\n",
       "                    window.PLOTLYENV=window.PLOTLYENV || {};\n",
       "                    \n",
       "                if (document.getElementById(\"eda8dcf0-28e6-402b-be3a-7600578d2911\")) {\n",
       "                    Plotly.newPlot(\n",
       "                        'eda8dcf0-28e6-402b-be3a-7600578d2911',\n",
       "                        [{\"marker\": {\"color\": \"blue\"}, \"mode\": \"lines+markers\", \"type\": \"scatter\", \"x\": [0, 1, 2, 3, 4, 5, 6, 7, 8, 9, 10, 11, 12, 13, 14, 15, 16, 17, 18, 19, 20, 21, 22, 23], \"y\": [3744251.9962199978, 3582668.000199996, 3590480.002781, 3814613.5881500007, 3761493.8554700008, 3532688.07068, 3533806.281009998, 4082522.8684800025, 3615930.9971699957, 3861952.060240001, 3801079.3180720014, 3678548.597130004, 3676965.433510008, 4035362.9980400023, 3521168.6441599964, 3954240.172977894, 3959241.387099999, 3644114.8463530033, 3408807.968500002, 3628420.7245499995, 3937981.421500002, 3709686.7494399985, 3248176.213600008, 3638485.407230004]}],\n",
       "                        {\"template\": {\"data\": {\"bar\": [{\"error_x\": {\"color\": \"#2a3f5f\"}, \"error_y\": {\"color\": \"#2a3f5f\"}, \"marker\": {\"line\": {\"color\": \"#E5ECF6\", \"width\": 0.5}}, \"type\": \"bar\"}], \"barpolar\": [{\"marker\": {\"line\": {\"color\": \"#E5ECF6\", \"width\": 0.5}}, \"type\": \"barpolar\"}], \"carpet\": [{\"aaxis\": {\"endlinecolor\": \"#2a3f5f\", \"gridcolor\": \"white\", \"linecolor\": \"white\", \"minorgridcolor\": \"white\", \"startlinecolor\": \"#2a3f5f\"}, \"baxis\": {\"endlinecolor\": \"#2a3f5f\", \"gridcolor\": \"white\", \"linecolor\": \"white\", \"minorgridcolor\": \"white\", \"startlinecolor\": \"#2a3f5f\"}, \"type\": \"carpet\"}], \"choropleth\": [{\"colorbar\": {\"outlinewidth\": 0, \"ticks\": \"\"}, \"type\": \"choropleth\"}], \"contour\": [{\"colorbar\": {\"outlinewidth\": 0, \"ticks\": \"\"}, \"colorscale\": [[0.0, \"#0d0887\"], [0.1111111111111111, \"#46039f\"], [0.2222222222222222, \"#7201a8\"], [0.3333333333333333, \"#9c179e\"], [0.4444444444444444, \"#bd3786\"], [0.5555555555555556, \"#d8576b\"], [0.6666666666666666, \"#ed7953\"], [0.7777777777777778, \"#fb9f3a\"], [0.8888888888888888, \"#fdca26\"], [1.0, \"#f0f921\"]], \"type\": \"contour\"}], \"contourcarpet\": [{\"colorbar\": {\"outlinewidth\": 0, \"ticks\": \"\"}, \"type\": \"contourcarpet\"}], \"heatmap\": [{\"colorbar\": {\"outlinewidth\": 0, \"ticks\": \"\"}, \"colorscale\": [[0.0, \"#0d0887\"], [0.1111111111111111, \"#46039f\"], [0.2222222222222222, \"#7201a8\"], [0.3333333333333333, \"#9c179e\"], [0.4444444444444444, \"#bd3786\"], [0.5555555555555556, \"#d8576b\"], [0.6666666666666666, \"#ed7953\"], [0.7777777777777778, \"#fb9f3a\"], [0.8888888888888888, \"#fdca26\"], [1.0, \"#f0f921\"]], \"type\": \"heatmap\"}], \"heatmapgl\": [{\"colorbar\": {\"outlinewidth\": 0, \"ticks\": \"\"}, \"colorscale\": [[0.0, \"#0d0887\"], [0.1111111111111111, \"#46039f\"], [0.2222222222222222, \"#7201a8\"], [0.3333333333333333, \"#9c179e\"], [0.4444444444444444, \"#bd3786\"], [0.5555555555555556, \"#d8576b\"], [0.6666666666666666, \"#ed7953\"], [0.7777777777777778, \"#fb9f3a\"], [0.8888888888888888, \"#fdca26\"], [1.0, \"#f0f921\"]], \"type\": \"heatmapgl\"}], \"histogram\": [{\"marker\": {\"colorbar\": {\"outlinewidth\": 0, \"ticks\": \"\"}}, \"type\": \"histogram\"}], \"histogram2d\": [{\"colorbar\": {\"outlinewidth\": 0, \"ticks\": \"\"}, \"colorscale\": [[0.0, \"#0d0887\"], [0.1111111111111111, \"#46039f\"], [0.2222222222222222, \"#7201a8\"], [0.3333333333333333, \"#9c179e\"], [0.4444444444444444, \"#bd3786\"], [0.5555555555555556, \"#d8576b\"], [0.6666666666666666, \"#ed7953\"], [0.7777777777777778, \"#fb9f3a\"], [0.8888888888888888, \"#fdca26\"], [1.0, \"#f0f921\"]], \"type\": \"histogram2d\"}], \"histogram2dcontour\": [{\"colorbar\": {\"outlinewidth\": 0, \"ticks\": \"\"}, \"colorscale\": [[0.0, \"#0d0887\"], [0.1111111111111111, \"#46039f\"], [0.2222222222222222, \"#7201a8\"], [0.3333333333333333, \"#9c179e\"], [0.4444444444444444, \"#bd3786\"], [0.5555555555555556, \"#d8576b\"], [0.6666666666666666, \"#ed7953\"], [0.7777777777777778, \"#fb9f3a\"], [0.8888888888888888, \"#fdca26\"], [1.0, \"#f0f921\"]], \"type\": \"histogram2dcontour\"}], \"mesh3d\": [{\"colorbar\": {\"outlinewidth\": 0, \"ticks\": \"\"}, \"type\": \"mesh3d\"}], \"parcoords\": [{\"line\": {\"colorbar\": {\"outlinewidth\": 0, \"ticks\": \"\"}}, \"type\": \"parcoords\"}], \"pie\": [{\"automargin\": true, \"type\": \"pie\"}], \"scatter\": [{\"marker\": {\"colorbar\": {\"outlinewidth\": 0, \"ticks\": \"\"}}, \"type\": \"scatter\"}], \"scatter3d\": [{\"line\": {\"colorbar\": {\"outlinewidth\": 0, \"ticks\": \"\"}}, \"marker\": {\"colorbar\": {\"outlinewidth\": 0, \"ticks\": \"\"}}, \"type\": \"scatter3d\"}], \"scattercarpet\": [{\"marker\": {\"colorbar\": {\"outlinewidth\": 0, \"ticks\": \"\"}}, \"type\": \"scattercarpet\"}], \"scattergeo\": [{\"marker\": {\"colorbar\": {\"outlinewidth\": 0, \"ticks\": \"\"}}, \"type\": \"scattergeo\"}], \"scattergl\": [{\"marker\": {\"colorbar\": {\"outlinewidth\": 0, \"ticks\": \"\"}}, \"type\": \"scattergl\"}], \"scattermapbox\": [{\"marker\": {\"colorbar\": {\"outlinewidth\": 0, \"ticks\": \"\"}}, \"type\": \"scattermapbox\"}], \"scatterpolar\": [{\"marker\": {\"colorbar\": {\"outlinewidth\": 0, \"ticks\": \"\"}}, \"type\": \"scatterpolar\"}], \"scatterpolargl\": [{\"marker\": {\"colorbar\": {\"outlinewidth\": 0, \"ticks\": \"\"}}, \"type\": \"scatterpolargl\"}], \"scatterternary\": [{\"marker\": {\"colorbar\": {\"outlinewidth\": 0, \"ticks\": \"\"}}, \"type\": \"scatterternary\"}], \"surface\": [{\"colorbar\": {\"outlinewidth\": 0, \"ticks\": \"\"}, \"colorscale\": [[0.0, \"#0d0887\"], [0.1111111111111111, \"#46039f\"], [0.2222222222222222, \"#7201a8\"], [0.3333333333333333, \"#9c179e\"], [0.4444444444444444, \"#bd3786\"], [0.5555555555555556, \"#d8576b\"], [0.6666666666666666, \"#ed7953\"], [0.7777777777777778, \"#fb9f3a\"], [0.8888888888888888, \"#fdca26\"], [1.0, \"#f0f921\"]], \"type\": \"surface\"}], \"table\": [{\"cells\": {\"fill\": {\"color\": \"#EBF0F8\"}, \"line\": {\"color\": \"white\"}}, \"header\": {\"fill\": {\"color\": \"#C8D4E3\"}, \"line\": {\"color\": \"white\"}}, \"type\": \"table\"}]}, \"layout\": {\"annotationdefaults\": {\"arrowcolor\": \"#2a3f5f\", \"arrowhead\": 0, \"arrowwidth\": 1}, \"coloraxis\": {\"colorbar\": {\"outlinewidth\": 0, \"ticks\": \"\"}}, \"colorscale\": {\"diverging\": [[0, \"#8e0152\"], [0.1, \"#c51b7d\"], [0.2, \"#de77ae\"], [0.3, \"#f1b6da\"], [0.4, \"#fde0ef\"], [0.5, \"#f7f7f7\"], [0.6, \"#e6f5d0\"], [0.7, \"#b8e186\"], [0.8, \"#7fbc41\"], [0.9, \"#4d9221\"], [1, \"#276419\"]], \"sequential\": [[0.0, \"#0d0887\"], [0.1111111111111111, \"#46039f\"], [0.2222222222222222, \"#7201a8\"], [0.3333333333333333, \"#9c179e\"], [0.4444444444444444, \"#bd3786\"], [0.5555555555555556, \"#d8576b\"], [0.6666666666666666, \"#ed7953\"], [0.7777777777777778, \"#fb9f3a\"], [0.8888888888888888, \"#fdca26\"], [1.0, \"#f0f921\"]], \"sequentialminus\": [[0.0, \"#0d0887\"], [0.1111111111111111, \"#46039f\"], [0.2222222222222222, \"#7201a8\"], [0.3333333333333333, \"#9c179e\"], [0.4444444444444444, \"#bd3786\"], [0.5555555555555556, \"#d8576b\"], [0.6666666666666666, \"#ed7953\"], [0.7777777777777778, \"#fb9f3a\"], [0.8888888888888888, \"#fdca26\"], [1.0, \"#f0f921\"]]}, \"colorway\": [\"#636efa\", \"#EF553B\", \"#00cc96\", \"#ab63fa\", \"#FFA15A\", \"#19d3f3\", \"#FF6692\", \"#B6E880\", \"#FF97FF\", \"#FECB52\"], \"font\": {\"color\": \"#2a3f5f\"}, \"geo\": {\"bgcolor\": \"white\", \"lakecolor\": \"white\", \"landcolor\": \"#E5ECF6\", \"showlakes\": true, \"showland\": true, \"subunitcolor\": \"white\"}, \"hoverlabel\": {\"align\": \"left\"}, \"hovermode\": \"closest\", \"mapbox\": {\"style\": \"light\"}, \"paper_bgcolor\": \"white\", \"plot_bgcolor\": \"#E5ECF6\", \"polar\": {\"angularaxis\": {\"gridcolor\": \"white\", \"linecolor\": \"white\", \"ticks\": \"\"}, \"bgcolor\": \"#E5ECF6\", \"radialaxis\": {\"gridcolor\": \"white\", \"linecolor\": \"white\", \"ticks\": \"\"}}, \"scene\": {\"xaxis\": {\"backgroundcolor\": \"#E5ECF6\", \"gridcolor\": \"white\", \"gridwidth\": 2, \"linecolor\": \"white\", \"showbackground\": true, \"ticks\": \"\", \"zerolinecolor\": \"white\"}, \"yaxis\": {\"backgroundcolor\": \"#E5ECF6\", \"gridcolor\": \"white\", \"gridwidth\": 2, \"linecolor\": \"white\", \"showbackground\": true, \"ticks\": \"\", \"zerolinecolor\": \"white\"}, \"zaxis\": {\"backgroundcolor\": \"#E5ECF6\", \"gridcolor\": \"white\", \"gridwidth\": 2, \"linecolor\": \"white\", \"showbackground\": true, \"ticks\": \"\", \"zerolinecolor\": \"white\"}}, \"shapedefaults\": {\"line\": {\"color\": \"#2a3f5f\"}}, \"ternary\": {\"aaxis\": {\"gridcolor\": \"white\", \"linecolor\": \"white\", \"ticks\": \"\"}, \"baxis\": {\"gridcolor\": \"white\", \"linecolor\": \"white\", \"ticks\": \"\"}, \"bgcolor\": \"#E5ECF6\", \"caxis\": {\"gridcolor\": \"white\", \"linecolor\": \"white\", \"ticks\": \"\"}}, \"title\": {\"x\": 0.05}, \"xaxis\": {\"automargin\": true, \"gridcolor\": \"white\", \"linecolor\": \"white\", \"ticks\": \"\", \"title\": {\"standoff\": 15}, \"zerolinecolor\": \"white\", \"zerolinewidth\": 2}, \"yaxis\": {\"automargin\": true, \"gridcolor\": \"white\", \"linecolor\": \"white\", \"ticks\": \"\", \"title\": {\"standoff\": 15}, \"zerolinecolor\": \"white\", \"zerolinewidth\": 2}}}, \"title\": {\"text\": \"Vendas por hora do dia\"}, \"xaxis\": {\"title\": {\"text\": \"Hora do dia\"}}, \"yaxis\": {\"title\": {\"text\": \"Vendas ($)\"}}},\n",
       "                        {\"responsive\": true}\n",
       "                    ).then(function(){\n",
       "                            \n",
       "var gd = document.getElementById('eda8dcf0-28e6-402b-be3a-7600578d2911');\n",
       "var x = new MutationObserver(function (mutations, observer) {{\n",
       "        var display = window.getComputedStyle(gd).display;\n",
       "        if (!display || display === 'none') {{\n",
       "            console.log([gd, 'removed!']);\n",
       "            Plotly.purge(gd);\n",
       "            observer.disconnect();\n",
       "        }}\n",
       "}});\n",
       "\n",
       "// Listen for the removal of the full notebook cells\n",
       "var notebookContainer = gd.closest('#notebook-container');\n",
       "if (notebookContainer) {{\n",
       "    x.observe(notebookContainer, {childList: true});\n",
       "}}\n",
       "\n",
       "// Listen for the clearing of the current output cell\n",
       "var outputEl = gd.closest('.output');\n",
       "if (outputEl) {{\n",
       "    x.observe(outputEl, {childList: true});\n",
       "}}\n",
       "\n",
       "                        })\n",
       "                };\n",
       "                });\n",
       "            </script>\n",
       "        </div>"
      ]
     },
     "metadata": {},
     "output_type": "display_data"
    }
   ],
   "source": [
    "receita_por_hora = tudo.groupby([tudo.index.hour]).price_x.sum()\n",
    "layout = dict(title = 'Vendas por hora do dia',\n",
    "              xaxis = dict(title = 'Hora do dia'),\n",
    "              yaxis = dict(title = 'Vendas ($)'),\n",
    "              )\n",
    "data = [go.Scatter(x=receita_por_hora.index, y=receita_por_hora, mode='lines+markers',\n",
    "                 marker=dict(color='blue'))]\n",
    "fig = dict(data=data, layout=layout)\n",
    "iplot(fig)"
   ]
  },
  {
   "cell_type": "code",
   "execution_count": 38,
   "metadata": {},
   "outputs": [],
   "source": [
    "dias = {0: 'Segunda', 1: 'Terça', 2: 'Quarta', 3: 'Quinta', 4: 'Sexta', 5: 'Sábado', 6: 'Domingo'}"
   ]
  },
  {
   "cell_type": "code",
   "execution_count": 53,
   "metadata": {},
   "outputs": [
    {
     "data": {
      "application/vnd.plotly.v1+json": {
       "config": {
        "linkText": "Export to plot.ly",
        "plotlyServerURL": "https://plot.ly",
        "showLink": false
       },
       "data": [
        {
         "marker": {
          "color": "blue"
         },
         "mode": "lines+markers",
         "type": "scatter",
         "x": [
          "Segunda",
          "Terça",
          "Quarta",
          "Quinta",
          "Sexta",
          "Sábado",
          "Domingo"
         ],
         "y": [
          13234950.748080032,
          12864365.502212977,
          12108004.91226995,
          13056225.488689944,
          12556051.779750012,
          12469991.105569975,
          12673098.065990893
         ]
        }
       ],
       "layout": {
        "template": {
         "data": {
          "bar": [
           {
            "error_x": {
             "color": "#2a3f5f"
            },
            "error_y": {
             "color": "#2a3f5f"
            },
            "marker": {
             "line": {
              "color": "#E5ECF6",
              "width": 0.5
             }
            },
            "type": "bar"
           }
          ],
          "barpolar": [
           {
            "marker": {
             "line": {
              "color": "#E5ECF6",
              "width": 0.5
             }
            },
            "type": "barpolar"
           }
          ],
          "carpet": [
           {
            "aaxis": {
             "endlinecolor": "#2a3f5f",
             "gridcolor": "white",
             "linecolor": "white",
             "minorgridcolor": "white",
             "startlinecolor": "#2a3f5f"
            },
            "baxis": {
             "endlinecolor": "#2a3f5f",
             "gridcolor": "white",
             "linecolor": "white",
             "minorgridcolor": "white",
             "startlinecolor": "#2a3f5f"
            },
            "type": "carpet"
           }
          ],
          "choropleth": [
           {
            "colorbar": {
             "outlinewidth": 0,
             "ticks": ""
            },
            "type": "choropleth"
           }
          ],
          "contour": [
           {
            "colorbar": {
             "outlinewidth": 0,
             "ticks": ""
            },
            "colorscale": [
             [
              0,
              "#0d0887"
             ],
             [
              0.1111111111111111,
              "#46039f"
             ],
             [
              0.2222222222222222,
              "#7201a8"
             ],
             [
              0.3333333333333333,
              "#9c179e"
             ],
             [
              0.4444444444444444,
              "#bd3786"
             ],
             [
              0.5555555555555556,
              "#d8576b"
             ],
             [
              0.6666666666666666,
              "#ed7953"
             ],
             [
              0.7777777777777778,
              "#fb9f3a"
             ],
             [
              0.8888888888888888,
              "#fdca26"
             ],
             [
              1,
              "#f0f921"
             ]
            ],
            "type": "contour"
           }
          ],
          "contourcarpet": [
           {
            "colorbar": {
             "outlinewidth": 0,
             "ticks": ""
            },
            "type": "contourcarpet"
           }
          ],
          "heatmap": [
           {
            "colorbar": {
             "outlinewidth": 0,
             "ticks": ""
            },
            "colorscale": [
             [
              0,
              "#0d0887"
             ],
             [
              0.1111111111111111,
              "#46039f"
             ],
             [
              0.2222222222222222,
              "#7201a8"
             ],
             [
              0.3333333333333333,
              "#9c179e"
             ],
             [
              0.4444444444444444,
              "#bd3786"
             ],
             [
              0.5555555555555556,
              "#d8576b"
             ],
             [
              0.6666666666666666,
              "#ed7953"
             ],
             [
              0.7777777777777778,
              "#fb9f3a"
             ],
             [
              0.8888888888888888,
              "#fdca26"
             ],
             [
              1,
              "#f0f921"
             ]
            ],
            "type": "heatmap"
           }
          ],
          "heatmapgl": [
           {
            "colorbar": {
             "outlinewidth": 0,
             "ticks": ""
            },
            "colorscale": [
             [
              0,
              "#0d0887"
             ],
             [
              0.1111111111111111,
              "#46039f"
             ],
             [
              0.2222222222222222,
              "#7201a8"
             ],
             [
              0.3333333333333333,
              "#9c179e"
             ],
             [
              0.4444444444444444,
              "#bd3786"
             ],
             [
              0.5555555555555556,
              "#d8576b"
             ],
             [
              0.6666666666666666,
              "#ed7953"
             ],
             [
              0.7777777777777778,
              "#fb9f3a"
             ],
             [
              0.8888888888888888,
              "#fdca26"
             ],
             [
              1,
              "#f0f921"
             ]
            ],
            "type": "heatmapgl"
           }
          ],
          "histogram": [
           {
            "marker": {
             "colorbar": {
              "outlinewidth": 0,
              "ticks": ""
             }
            },
            "type": "histogram"
           }
          ],
          "histogram2d": [
           {
            "colorbar": {
             "outlinewidth": 0,
             "ticks": ""
            },
            "colorscale": [
             [
              0,
              "#0d0887"
             ],
             [
              0.1111111111111111,
              "#46039f"
             ],
             [
              0.2222222222222222,
              "#7201a8"
             ],
             [
              0.3333333333333333,
              "#9c179e"
             ],
             [
              0.4444444444444444,
              "#bd3786"
             ],
             [
              0.5555555555555556,
              "#d8576b"
             ],
             [
              0.6666666666666666,
              "#ed7953"
             ],
             [
              0.7777777777777778,
              "#fb9f3a"
             ],
             [
              0.8888888888888888,
              "#fdca26"
             ],
             [
              1,
              "#f0f921"
             ]
            ],
            "type": "histogram2d"
           }
          ],
          "histogram2dcontour": [
           {
            "colorbar": {
             "outlinewidth": 0,
             "ticks": ""
            },
            "colorscale": [
             [
              0,
              "#0d0887"
             ],
             [
              0.1111111111111111,
              "#46039f"
             ],
             [
              0.2222222222222222,
              "#7201a8"
             ],
             [
              0.3333333333333333,
              "#9c179e"
             ],
             [
              0.4444444444444444,
              "#bd3786"
             ],
             [
              0.5555555555555556,
              "#d8576b"
             ],
             [
              0.6666666666666666,
              "#ed7953"
             ],
             [
              0.7777777777777778,
              "#fb9f3a"
             ],
             [
              0.8888888888888888,
              "#fdca26"
             ],
             [
              1,
              "#f0f921"
             ]
            ],
            "type": "histogram2dcontour"
           }
          ],
          "mesh3d": [
           {
            "colorbar": {
             "outlinewidth": 0,
             "ticks": ""
            },
            "type": "mesh3d"
           }
          ],
          "parcoords": [
           {
            "line": {
             "colorbar": {
              "outlinewidth": 0,
              "ticks": ""
             }
            },
            "type": "parcoords"
           }
          ],
          "pie": [
           {
            "automargin": true,
            "type": "pie"
           }
          ],
          "scatter": [
           {
            "marker": {
             "colorbar": {
              "outlinewidth": 0,
              "ticks": ""
             }
            },
            "type": "scatter"
           }
          ],
          "scatter3d": [
           {
            "line": {
             "colorbar": {
              "outlinewidth": 0,
              "ticks": ""
             }
            },
            "marker": {
             "colorbar": {
              "outlinewidth": 0,
              "ticks": ""
             }
            },
            "type": "scatter3d"
           }
          ],
          "scattercarpet": [
           {
            "marker": {
             "colorbar": {
              "outlinewidth": 0,
              "ticks": ""
             }
            },
            "type": "scattercarpet"
           }
          ],
          "scattergeo": [
           {
            "marker": {
             "colorbar": {
              "outlinewidth": 0,
              "ticks": ""
             }
            },
            "type": "scattergeo"
           }
          ],
          "scattergl": [
           {
            "marker": {
             "colorbar": {
              "outlinewidth": 0,
              "ticks": ""
             }
            },
            "type": "scattergl"
           }
          ],
          "scattermapbox": [
           {
            "marker": {
             "colorbar": {
              "outlinewidth": 0,
              "ticks": ""
             }
            },
            "type": "scattermapbox"
           }
          ],
          "scatterpolar": [
           {
            "marker": {
             "colorbar": {
              "outlinewidth": 0,
              "ticks": ""
             }
            },
            "type": "scatterpolar"
           }
          ],
          "scatterpolargl": [
           {
            "marker": {
             "colorbar": {
              "outlinewidth": 0,
              "ticks": ""
             }
            },
            "type": "scatterpolargl"
           }
          ],
          "scatterternary": [
           {
            "marker": {
             "colorbar": {
              "outlinewidth": 0,
              "ticks": ""
             }
            },
            "type": "scatterternary"
           }
          ],
          "surface": [
           {
            "colorbar": {
             "outlinewidth": 0,
             "ticks": ""
            },
            "colorscale": [
             [
              0,
              "#0d0887"
             ],
             [
              0.1111111111111111,
              "#46039f"
             ],
             [
              0.2222222222222222,
              "#7201a8"
             ],
             [
              0.3333333333333333,
              "#9c179e"
             ],
             [
              0.4444444444444444,
              "#bd3786"
             ],
             [
              0.5555555555555556,
              "#d8576b"
             ],
             [
              0.6666666666666666,
              "#ed7953"
             ],
             [
              0.7777777777777778,
              "#fb9f3a"
             ],
             [
              0.8888888888888888,
              "#fdca26"
             ],
             [
              1,
              "#f0f921"
             ]
            ],
            "type": "surface"
           }
          ],
          "table": [
           {
            "cells": {
             "fill": {
              "color": "#EBF0F8"
             },
             "line": {
              "color": "white"
             }
            },
            "header": {
             "fill": {
              "color": "#C8D4E3"
             },
             "line": {
              "color": "white"
             }
            },
            "type": "table"
           }
          ]
         },
         "layout": {
          "annotationdefaults": {
           "arrowcolor": "#2a3f5f",
           "arrowhead": 0,
           "arrowwidth": 1
          },
          "coloraxis": {
           "colorbar": {
            "outlinewidth": 0,
            "ticks": ""
           }
          },
          "colorscale": {
           "diverging": [
            [
             0,
             "#8e0152"
            ],
            [
             0.1,
             "#c51b7d"
            ],
            [
             0.2,
             "#de77ae"
            ],
            [
             0.3,
             "#f1b6da"
            ],
            [
             0.4,
             "#fde0ef"
            ],
            [
             0.5,
             "#f7f7f7"
            ],
            [
             0.6,
             "#e6f5d0"
            ],
            [
             0.7,
             "#b8e186"
            ],
            [
             0.8,
             "#7fbc41"
            ],
            [
             0.9,
             "#4d9221"
            ],
            [
             1,
             "#276419"
            ]
           ],
           "sequential": [
            [
             0,
             "#0d0887"
            ],
            [
             0.1111111111111111,
             "#46039f"
            ],
            [
             0.2222222222222222,
             "#7201a8"
            ],
            [
             0.3333333333333333,
             "#9c179e"
            ],
            [
             0.4444444444444444,
             "#bd3786"
            ],
            [
             0.5555555555555556,
             "#d8576b"
            ],
            [
             0.6666666666666666,
             "#ed7953"
            ],
            [
             0.7777777777777778,
             "#fb9f3a"
            ],
            [
             0.8888888888888888,
             "#fdca26"
            ],
            [
             1,
             "#f0f921"
            ]
           ],
           "sequentialminus": [
            [
             0,
             "#0d0887"
            ],
            [
             0.1111111111111111,
             "#46039f"
            ],
            [
             0.2222222222222222,
             "#7201a8"
            ],
            [
             0.3333333333333333,
             "#9c179e"
            ],
            [
             0.4444444444444444,
             "#bd3786"
            ],
            [
             0.5555555555555556,
             "#d8576b"
            ],
            [
             0.6666666666666666,
             "#ed7953"
            ],
            [
             0.7777777777777778,
             "#fb9f3a"
            ],
            [
             0.8888888888888888,
             "#fdca26"
            ],
            [
             1,
             "#f0f921"
            ]
           ]
          },
          "colorway": [
           "#636efa",
           "#EF553B",
           "#00cc96",
           "#ab63fa",
           "#FFA15A",
           "#19d3f3",
           "#FF6692",
           "#B6E880",
           "#FF97FF",
           "#FECB52"
          ],
          "font": {
           "color": "#2a3f5f"
          },
          "geo": {
           "bgcolor": "white",
           "lakecolor": "white",
           "landcolor": "#E5ECF6",
           "showlakes": true,
           "showland": true,
           "subunitcolor": "white"
          },
          "hoverlabel": {
           "align": "left"
          },
          "hovermode": "closest",
          "mapbox": {
           "style": "light"
          },
          "paper_bgcolor": "white",
          "plot_bgcolor": "#E5ECF6",
          "polar": {
           "angularaxis": {
            "gridcolor": "white",
            "linecolor": "white",
            "ticks": ""
           },
           "bgcolor": "#E5ECF6",
           "radialaxis": {
            "gridcolor": "white",
            "linecolor": "white",
            "ticks": ""
           }
          },
          "scene": {
           "xaxis": {
            "backgroundcolor": "#E5ECF6",
            "gridcolor": "white",
            "gridwidth": 2,
            "linecolor": "white",
            "showbackground": true,
            "ticks": "",
            "zerolinecolor": "white"
           },
           "yaxis": {
            "backgroundcolor": "#E5ECF6",
            "gridcolor": "white",
            "gridwidth": 2,
            "linecolor": "white",
            "showbackground": true,
            "ticks": "",
            "zerolinecolor": "white"
           },
           "zaxis": {
            "backgroundcolor": "#E5ECF6",
            "gridcolor": "white",
            "gridwidth": 2,
            "linecolor": "white",
            "showbackground": true,
            "ticks": "",
            "zerolinecolor": "white"
           }
          },
          "shapedefaults": {
           "line": {
            "color": "#2a3f5f"
           }
          },
          "ternary": {
           "aaxis": {
            "gridcolor": "white",
            "linecolor": "white",
            "ticks": ""
           },
           "baxis": {
            "gridcolor": "white",
            "linecolor": "white",
            "ticks": ""
           },
           "bgcolor": "#E5ECF6",
           "caxis": {
            "gridcolor": "white",
            "linecolor": "white",
            "ticks": ""
           }
          },
          "title": {
           "x": 0.05
          },
          "xaxis": {
           "automargin": true,
           "gridcolor": "white",
           "linecolor": "white",
           "ticks": "",
           "title": {
            "standoff": 15
           },
           "zerolinecolor": "white",
           "zerolinewidth": 2
          },
          "yaxis": {
           "automargin": true,
           "gridcolor": "white",
           "linecolor": "white",
           "ticks": "",
           "title": {
            "standoff": 15
           },
           "zerolinecolor": "white",
           "zerolinewidth": 2
          }
         }
        },
        "title": {
         "text": "Vendas por dia da semana"
        },
        "xaxis": {
         "title": {
          "text": "Dia da semana"
         }
        },
        "yaxis": {
         "title": {
          "text": "Vendas ($)"
         }
        }
       }
      },
      "text/html": [
       "<div>\n",
       "        \n",
       "        \n",
       "            <div id=\"41b66c4b-7dbf-43de-ab53-dfe9125646d7\" class=\"plotly-graph-div\" style=\"height:525px; width:100%;\"></div>\n",
       "            <script type=\"text/javascript\">\n",
       "                require([\"plotly\"], function(Plotly) {\n",
       "                    window.PLOTLYENV=window.PLOTLYENV || {};\n",
       "                    \n",
       "                if (document.getElementById(\"41b66c4b-7dbf-43de-ab53-dfe9125646d7\")) {\n",
       "                    Plotly.newPlot(\n",
       "                        '41b66c4b-7dbf-43de-ab53-dfe9125646d7',\n",
       "                        [{\"marker\": {\"color\": \"blue\"}, \"mode\": \"lines+markers\", \"type\": \"scatter\", \"x\": [\"Segunda\", \"Ter\\u00e7a\", \"Quarta\", \"Quinta\", \"Sexta\", \"S\\u00e1bado\", \"Domingo\"], \"y\": [13234950.748080032, 12864365.502212977, 12108004.91226995, 13056225.488689944, 12556051.779750012, 12469991.105569975, 12673098.065990893]}],\n",
       "                        {\"template\": {\"data\": {\"bar\": [{\"error_x\": {\"color\": \"#2a3f5f\"}, \"error_y\": {\"color\": \"#2a3f5f\"}, \"marker\": {\"line\": {\"color\": \"#E5ECF6\", \"width\": 0.5}}, \"type\": \"bar\"}], \"barpolar\": [{\"marker\": {\"line\": {\"color\": \"#E5ECF6\", \"width\": 0.5}}, \"type\": \"barpolar\"}], \"carpet\": [{\"aaxis\": {\"endlinecolor\": \"#2a3f5f\", \"gridcolor\": \"white\", \"linecolor\": \"white\", \"minorgridcolor\": \"white\", \"startlinecolor\": \"#2a3f5f\"}, \"baxis\": {\"endlinecolor\": \"#2a3f5f\", \"gridcolor\": \"white\", \"linecolor\": \"white\", \"minorgridcolor\": \"white\", \"startlinecolor\": \"#2a3f5f\"}, \"type\": \"carpet\"}], \"choropleth\": [{\"colorbar\": {\"outlinewidth\": 0, \"ticks\": \"\"}, \"type\": \"choropleth\"}], \"contour\": [{\"colorbar\": {\"outlinewidth\": 0, \"ticks\": \"\"}, \"colorscale\": [[0.0, \"#0d0887\"], [0.1111111111111111, \"#46039f\"], [0.2222222222222222, \"#7201a8\"], [0.3333333333333333, \"#9c179e\"], [0.4444444444444444, \"#bd3786\"], [0.5555555555555556, \"#d8576b\"], [0.6666666666666666, \"#ed7953\"], [0.7777777777777778, \"#fb9f3a\"], [0.8888888888888888, \"#fdca26\"], [1.0, \"#f0f921\"]], \"type\": \"contour\"}], \"contourcarpet\": [{\"colorbar\": {\"outlinewidth\": 0, \"ticks\": \"\"}, \"type\": \"contourcarpet\"}], \"heatmap\": [{\"colorbar\": {\"outlinewidth\": 0, \"ticks\": \"\"}, \"colorscale\": [[0.0, \"#0d0887\"], [0.1111111111111111, \"#46039f\"], [0.2222222222222222, \"#7201a8\"], [0.3333333333333333, \"#9c179e\"], [0.4444444444444444, \"#bd3786\"], [0.5555555555555556, \"#d8576b\"], [0.6666666666666666, \"#ed7953\"], [0.7777777777777778, \"#fb9f3a\"], [0.8888888888888888, \"#fdca26\"], [1.0, \"#f0f921\"]], \"type\": \"heatmap\"}], \"heatmapgl\": [{\"colorbar\": {\"outlinewidth\": 0, \"ticks\": \"\"}, \"colorscale\": [[0.0, \"#0d0887\"], [0.1111111111111111, \"#46039f\"], [0.2222222222222222, \"#7201a8\"], [0.3333333333333333, \"#9c179e\"], [0.4444444444444444, \"#bd3786\"], [0.5555555555555556, \"#d8576b\"], [0.6666666666666666, \"#ed7953\"], [0.7777777777777778, \"#fb9f3a\"], [0.8888888888888888, \"#fdca26\"], [1.0, \"#f0f921\"]], \"type\": \"heatmapgl\"}], \"histogram\": [{\"marker\": {\"colorbar\": {\"outlinewidth\": 0, \"ticks\": \"\"}}, \"type\": \"histogram\"}], \"histogram2d\": [{\"colorbar\": {\"outlinewidth\": 0, \"ticks\": \"\"}, \"colorscale\": [[0.0, \"#0d0887\"], [0.1111111111111111, \"#46039f\"], [0.2222222222222222, \"#7201a8\"], [0.3333333333333333, \"#9c179e\"], [0.4444444444444444, \"#bd3786\"], [0.5555555555555556, \"#d8576b\"], [0.6666666666666666, \"#ed7953\"], [0.7777777777777778, \"#fb9f3a\"], [0.8888888888888888, \"#fdca26\"], [1.0, \"#f0f921\"]], \"type\": \"histogram2d\"}], \"histogram2dcontour\": [{\"colorbar\": {\"outlinewidth\": 0, \"ticks\": \"\"}, \"colorscale\": [[0.0, \"#0d0887\"], [0.1111111111111111, \"#46039f\"], [0.2222222222222222, \"#7201a8\"], [0.3333333333333333, \"#9c179e\"], [0.4444444444444444, \"#bd3786\"], [0.5555555555555556, \"#d8576b\"], [0.6666666666666666, \"#ed7953\"], [0.7777777777777778, \"#fb9f3a\"], [0.8888888888888888, \"#fdca26\"], [1.0, \"#f0f921\"]], \"type\": \"histogram2dcontour\"}], \"mesh3d\": [{\"colorbar\": {\"outlinewidth\": 0, \"ticks\": \"\"}, \"type\": \"mesh3d\"}], \"parcoords\": [{\"line\": {\"colorbar\": {\"outlinewidth\": 0, \"ticks\": \"\"}}, \"type\": \"parcoords\"}], \"pie\": [{\"automargin\": true, \"type\": \"pie\"}], \"scatter\": [{\"marker\": {\"colorbar\": {\"outlinewidth\": 0, \"ticks\": \"\"}}, \"type\": \"scatter\"}], \"scatter3d\": [{\"line\": {\"colorbar\": {\"outlinewidth\": 0, \"ticks\": \"\"}}, \"marker\": {\"colorbar\": {\"outlinewidth\": 0, \"ticks\": \"\"}}, \"type\": \"scatter3d\"}], \"scattercarpet\": [{\"marker\": {\"colorbar\": {\"outlinewidth\": 0, \"ticks\": \"\"}}, \"type\": \"scattercarpet\"}], \"scattergeo\": [{\"marker\": {\"colorbar\": {\"outlinewidth\": 0, \"ticks\": \"\"}}, \"type\": \"scattergeo\"}], \"scattergl\": [{\"marker\": {\"colorbar\": {\"outlinewidth\": 0, \"ticks\": \"\"}}, \"type\": \"scattergl\"}], \"scattermapbox\": [{\"marker\": {\"colorbar\": {\"outlinewidth\": 0, \"ticks\": \"\"}}, \"type\": \"scattermapbox\"}], \"scatterpolar\": [{\"marker\": {\"colorbar\": {\"outlinewidth\": 0, \"ticks\": \"\"}}, \"type\": \"scatterpolar\"}], \"scatterpolargl\": [{\"marker\": {\"colorbar\": {\"outlinewidth\": 0, \"ticks\": \"\"}}, \"type\": \"scatterpolargl\"}], \"scatterternary\": [{\"marker\": {\"colorbar\": {\"outlinewidth\": 0, \"ticks\": \"\"}}, \"type\": \"scatterternary\"}], \"surface\": [{\"colorbar\": {\"outlinewidth\": 0, \"ticks\": \"\"}, \"colorscale\": [[0.0, \"#0d0887\"], [0.1111111111111111, \"#46039f\"], [0.2222222222222222, \"#7201a8\"], [0.3333333333333333, \"#9c179e\"], [0.4444444444444444, \"#bd3786\"], [0.5555555555555556, \"#d8576b\"], [0.6666666666666666, \"#ed7953\"], [0.7777777777777778, \"#fb9f3a\"], [0.8888888888888888, \"#fdca26\"], [1.0, \"#f0f921\"]], \"type\": \"surface\"}], \"table\": [{\"cells\": {\"fill\": {\"color\": \"#EBF0F8\"}, \"line\": {\"color\": \"white\"}}, \"header\": {\"fill\": {\"color\": \"#C8D4E3\"}, \"line\": {\"color\": \"white\"}}, \"type\": \"table\"}]}, \"layout\": {\"annotationdefaults\": {\"arrowcolor\": \"#2a3f5f\", \"arrowhead\": 0, \"arrowwidth\": 1}, \"coloraxis\": {\"colorbar\": {\"outlinewidth\": 0, \"ticks\": \"\"}}, \"colorscale\": {\"diverging\": [[0, \"#8e0152\"], [0.1, \"#c51b7d\"], [0.2, \"#de77ae\"], [0.3, \"#f1b6da\"], [0.4, \"#fde0ef\"], [0.5, \"#f7f7f7\"], [0.6, \"#e6f5d0\"], [0.7, \"#b8e186\"], [0.8, \"#7fbc41\"], [0.9, \"#4d9221\"], [1, \"#276419\"]], \"sequential\": [[0.0, \"#0d0887\"], [0.1111111111111111, \"#46039f\"], [0.2222222222222222, \"#7201a8\"], [0.3333333333333333, \"#9c179e\"], [0.4444444444444444, \"#bd3786\"], [0.5555555555555556, \"#d8576b\"], [0.6666666666666666, \"#ed7953\"], [0.7777777777777778, \"#fb9f3a\"], [0.8888888888888888, \"#fdca26\"], [1.0, \"#f0f921\"]], \"sequentialminus\": [[0.0, \"#0d0887\"], [0.1111111111111111, \"#46039f\"], [0.2222222222222222, \"#7201a8\"], [0.3333333333333333, \"#9c179e\"], [0.4444444444444444, \"#bd3786\"], [0.5555555555555556, \"#d8576b\"], [0.6666666666666666, \"#ed7953\"], [0.7777777777777778, \"#fb9f3a\"], [0.8888888888888888, \"#fdca26\"], [1.0, \"#f0f921\"]]}, \"colorway\": [\"#636efa\", \"#EF553B\", \"#00cc96\", \"#ab63fa\", \"#FFA15A\", \"#19d3f3\", \"#FF6692\", \"#B6E880\", \"#FF97FF\", \"#FECB52\"], \"font\": {\"color\": \"#2a3f5f\"}, \"geo\": {\"bgcolor\": \"white\", \"lakecolor\": \"white\", \"landcolor\": \"#E5ECF6\", \"showlakes\": true, \"showland\": true, \"subunitcolor\": \"white\"}, \"hoverlabel\": {\"align\": \"left\"}, \"hovermode\": \"closest\", \"mapbox\": {\"style\": \"light\"}, \"paper_bgcolor\": \"white\", \"plot_bgcolor\": \"#E5ECF6\", \"polar\": {\"angularaxis\": {\"gridcolor\": \"white\", \"linecolor\": \"white\", \"ticks\": \"\"}, \"bgcolor\": \"#E5ECF6\", \"radialaxis\": {\"gridcolor\": \"white\", \"linecolor\": \"white\", \"ticks\": \"\"}}, \"scene\": {\"xaxis\": {\"backgroundcolor\": \"#E5ECF6\", \"gridcolor\": \"white\", \"gridwidth\": 2, \"linecolor\": \"white\", \"showbackground\": true, \"ticks\": \"\", \"zerolinecolor\": \"white\"}, \"yaxis\": {\"backgroundcolor\": \"#E5ECF6\", \"gridcolor\": \"white\", \"gridwidth\": 2, \"linecolor\": \"white\", \"showbackground\": true, \"ticks\": \"\", \"zerolinecolor\": \"white\"}, \"zaxis\": {\"backgroundcolor\": \"#E5ECF6\", \"gridcolor\": \"white\", \"gridwidth\": 2, \"linecolor\": \"white\", \"showbackground\": true, \"ticks\": \"\", \"zerolinecolor\": \"white\"}}, \"shapedefaults\": {\"line\": {\"color\": \"#2a3f5f\"}}, \"ternary\": {\"aaxis\": {\"gridcolor\": \"white\", \"linecolor\": \"white\", \"ticks\": \"\"}, \"baxis\": {\"gridcolor\": \"white\", \"linecolor\": \"white\", \"ticks\": \"\"}, \"bgcolor\": \"#E5ECF6\", \"caxis\": {\"gridcolor\": \"white\", \"linecolor\": \"white\", \"ticks\": \"\"}}, \"title\": {\"x\": 0.05}, \"xaxis\": {\"automargin\": true, \"gridcolor\": \"white\", \"linecolor\": \"white\", \"ticks\": \"\", \"title\": {\"standoff\": 15}, \"zerolinecolor\": \"white\", \"zerolinewidth\": 2}, \"yaxis\": {\"automargin\": true, \"gridcolor\": \"white\", \"linecolor\": \"white\", \"ticks\": \"\", \"title\": {\"standoff\": 15}, \"zerolinecolor\": \"white\", \"zerolinewidth\": 2}}}, \"title\": {\"text\": \"Vendas por dia da semana\"}, \"xaxis\": {\"title\": {\"text\": \"Dia da semana\"}}, \"yaxis\": {\"title\": {\"text\": \"Vendas ($)\"}}},\n",
       "                        {\"responsive\": true}\n",
       "                    ).then(function(){\n",
       "                            \n",
       "var gd = document.getElementById('41b66c4b-7dbf-43de-ab53-dfe9125646d7');\n",
       "var x = new MutationObserver(function (mutations, observer) {{\n",
       "        var display = window.getComputedStyle(gd).display;\n",
       "        if (!display || display === 'none') {{\n",
       "            console.log([gd, 'removed!']);\n",
       "            Plotly.purge(gd);\n",
       "            observer.disconnect();\n",
       "        }}\n",
       "}});\n",
       "\n",
       "// Listen for the removal of the full notebook cells\n",
       "var notebookContainer = gd.closest('#notebook-container');\n",
       "if (notebookContainer) {{\n",
       "    x.observe(notebookContainer, {childList: true});\n",
       "}}\n",
       "\n",
       "// Listen for the clearing of the current output cell\n",
       "var outputEl = gd.closest('.output');\n",
       "if (outputEl) {{\n",
       "    x.observe(outputEl, {childList: true});\n",
       "}}\n",
       "\n",
       "                        })\n",
       "                };\n",
       "                });\n",
       "            </script>\n",
       "        </div>"
      ]
     },
     "metadata": {},
     "output_type": "display_data"
    }
   ],
   "source": [
    "receita_por_dia = tudo.groupby([tudo.index.weekday]).price_x.sum()\n",
    "layout = dict(title = 'Vendas por dia da semana',\n",
    "              xaxis = dict(title = 'Dia da semana'),\n",
    "              yaxis = dict(title = 'Vendas ($)'),\n",
    "              )\n",
    "data = [go.Scatter(x=list(map(lambda x: dias[x], receita_por_dia.index)),\n",
    "                   y=receita_por_dia, mode='lines+markers',\n",
    "                 marker=dict(color='blue'))]\n",
    "fig = dict(data=data, layout=layout)\n",
    "iplot(fig)"
   ]
  },
  {
   "cell_type": "code",
   "execution_count": 54,
   "metadata": {},
   "outputs": [],
   "source": [
    "tudo.to_csv('dados/tudo.csv', index=False)"
   ]
  }
 ],
 "metadata": {
  "kernelspec": {
   "display_name": "Python 3",
   "language": "python",
   "name": "python3"
  },
  "language_info": {
   "codemirror_mode": {
    "name": "ipython",
    "version": 3
   },
   "file_extension": ".py",
   "mimetype": "text/x-python",
   "name": "python",
   "nbconvert_exporter": "python",
   "pygments_lexer": "ipython3",
   "version": "3.7.4"
  }
 },
 "nbformat": 4,
 "nbformat_minor": 2
}
